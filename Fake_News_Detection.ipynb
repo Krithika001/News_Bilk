{
  "nbformat": 4,
  "nbformat_minor": 0,
  "metadata": {
    "colab": {
      "name": "Fake News Detection.ipynb",
      "provenance": [],
      "collapsed_sections": []
    },
    "kernelspec": {
      "display_name": "Python 3",
      "language": "python",
      "name": "python3"
    },
    "language_info": {
      "codemirror_mode": {
        "name": "ipython",
        "version": 3
      },
      "file_extension": ".py",
      "mimetype": "text/x-python",
      "name": "python",
      "nbconvert_exporter": "python",
      "pygments_lexer": "ipython3",
      "version": "3.7.6"
    }
  },
  "cells": [
    {
      "cell_type": "markdown",
      "metadata": {
        "id": "lRIFhZLKdYhu"
      },
      "source": [
        "**FAKE NEWS DETECTION AND ANALYSIS**\n",
        "\n",
        "**19PD04 - AKSHAYA L**\n",
        "\n",
        "**19PD19 - KRITHIKA V**\n",
        "\n",
        "**19PD24 - NIVETHA B**\n",
        "\n",
        "**19PD42 - AMELIA B A K**"
      ]
    },
    {
      "cell_type": "code",
      "metadata": {
        "id": "SqF0ug5qdYiO"
      },
      "source": [
        "import numpy as np\n",
        "import pandas as pd\n",
        "import seaborn as sns\n",
        "import matplotlib.pyplot as plt\n",
        "import warnings\n",
        "warnings.filterwarnings('ignore')\n",
        "%matplotlib inline"
      ],
      "execution_count": null,
      "outputs": []
    },
    {
      "cell_type": "markdown",
      "metadata": {
        "id": "wFR4kkbedYiQ"
      },
      "source": [
        " **Warning : To ignore the warnings.**\n",
        "\n",
        "**Inline : To have the plots in the working screen.**\n",
        "\n",
        "\n"
      ]
    },
    {
      "cell_type": "code",
      "metadata": {
        "id": "Gb6j0mBudYiR"
      },
      "source": [
        "df = pd.read_csv('fake.csv')\n"
      ],
      "execution_count": null,
      "outputs": []
    },
    {
      "cell_type": "code",
      "metadata": {
        "id": "c1EBulofdYiS",
        "scrolled": true,
        "outputId": "416bb829-cd0c-4f3f-f412-0dea01c3e927"
      },
      "source": [
        "df.head(10)"
      ],
      "execution_count": null,
      "outputs": [
        {
          "output_type": "execute_result",
          "data": {
            "text/html": [
              "<div>\n",
              "<style scoped>\n",
              "    .dataframe tbody tr th:only-of-type {\n",
              "        vertical-align: middle;\n",
              "    }\n",
              "\n",
              "    .dataframe tbody tr th {\n",
              "        vertical-align: top;\n",
              "    }\n",
              "\n",
              "    .dataframe thead th {\n",
              "        text-align: right;\n",
              "    }\n",
              "</style>\n",
              "<table border=\"1\" class=\"dataframe\">\n",
              "  <thead>\n",
              "    <tr style=\"text-align: right;\">\n",
              "      <th></th>\n",
              "      <th>uuid</th>\n",
              "      <th>ord_in_thread</th>\n",
              "      <th>author</th>\n",
              "      <th>published</th>\n",
              "      <th>title</th>\n",
              "      <th>text</th>\n",
              "      <th>language</th>\n",
              "      <th>crawled</th>\n",
              "      <th>site_url</th>\n",
              "      <th>country</th>\n",
              "      <th>domain_rank</th>\n",
              "      <th>thread_title</th>\n",
              "      <th>spam_score</th>\n",
              "      <th>main_img_url</th>\n",
              "      <th>replies_count</th>\n",
              "      <th>participants_count</th>\n",
              "      <th>likes</th>\n",
              "      <th>comments</th>\n",
              "      <th>shares</th>\n",
              "      <th>type</th>\n",
              "    </tr>\n",
              "  </thead>\n",
              "  <tbody>\n",
              "    <tr>\n",
              "      <th>0</th>\n",
              "      <td>6a175f46bcd24d39b3e962ad0f29936721db70db</td>\n",
              "      <td>0</td>\n",
              "      <td>Barracuda Brigade</td>\n",
              "      <td>2016-10-26T21:41:00.000+03:00</td>\n",
              "      <td>Muslims BUSTED: They Stole Millions In Gov’t B...</td>\n",
              "      <td>Print They should pay all the back all the mon...</td>\n",
              "      <td>english</td>\n",
              "      <td>2016-10-27T01:49:27.168+03:00</td>\n",
              "      <td>100percentfedup.com</td>\n",
              "      <td>US</td>\n",
              "      <td>25689.0</td>\n",
              "      <td>Muslims BUSTED: They Stole Millions In Gov’t B...</td>\n",
              "      <td>0.000</td>\n",
              "      <td>http://bb4sp.com/wp-content/uploads/2016/10/Fu...</td>\n",
              "      <td>0</td>\n",
              "      <td>1</td>\n",
              "      <td>0</td>\n",
              "      <td>0</td>\n",
              "      <td>0</td>\n",
              "      <td>bias</td>\n",
              "    </tr>\n",
              "    <tr>\n",
              "      <th>1</th>\n",
              "      <td>2bdc29d12605ef9cf3f09f9875040a7113be5d5b</td>\n",
              "      <td>0</td>\n",
              "      <td>reasoning with facts</td>\n",
              "      <td>2016-10-29T08:47:11.259+03:00</td>\n",
              "      <td>Re: Why Did Attorney General Loretta Lynch Ple...</td>\n",
              "      <td>Why Did Attorney General Loretta Lynch Plead T...</td>\n",
              "      <td>english</td>\n",
              "      <td>2016-10-29T08:47:11.259+03:00</td>\n",
              "      <td>100percentfedup.com</td>\n",
              "      <td>US</td>\n",
              "      <td>25689.0</td>\n",
              "      <td>Re: Why Did Attorney General Loretta Lynch Ple...</td>\n",
              "      <td>0.000</td>\n",
              "      <td>http://bb4sp.com/wp-content/uploads/2016/10/Fu...</td>\n",
              "      <td>0</td>\n",
              "      <td>1</td>\n",
              "      <td>0</td>\n",
              "      <td>0</td>\n",
              "      <td>0</td>\n",
              "      <td>bias</td>\n",
              "    </tr>\n",
              "    <tr>\n",
              "      <th>2</th>\n",
              "      <td>c70e149fdd53de5e61c29281100b9de0ed268bc3</td>\n",
              "      <td>0</td>\n",
              "      <td>Barracuda Brigade</td>\n",
              "      <td>2016-10-31T01:41:49.479+02:00</td>\n",
              "      <td>BREAKING: Weiner Cooperating With FBI On Hilla...</td>\n",
              "      <td>Red State : \\nFox News Sunday reported this mo...</td>\n",
              "      <td>english</td>\n",
              "      <td>2016-10-31T01:41:49.479+02:00</td>\n",
              "      <td>100percentfedup.com</td>\n",
              "      <td>US</td>\n",
              "      <td>25689.0</td>\n",
              "      <td>BREAKING: Weiner Cooperating With FBI On Hilla...</td>\n",
              "      <td>0.000</td>\n",
              "      <td>http://bb4sp.com/wp-content/uploads/2016/10/Fu...</td>\n",
              "      <td>0</td>\n",
              "      <td>1</td>\n",
              "      <td>0</td>\n",
              "      <td>0</td>\n",
              "      <td>0</td>\n",
              "      <td>bias</td>\n",
              "    </tr>\n",
              "    <tr>\n",
              "      <th>3</th>\n",
              "      <td>7cf7c15731ac2a116dd7f629bd57ea468ed70284</td>\n",
              "      <td>0</td>\n",
              "      <td>Fed Up</td>\n",
              "      <td>2016-11-01T05:22:00.000+02:00</td>\n",
              "      <td>PIN DROP SPEECH BY FATHER OF DAUGHTER Kidnappe...</td>\n",
              "      <td>Email Kayla Mueller was a prisoner and torture...</td>\n",
              "      <td>english</td>\n",
              "      <td>2016-11-01T15:46:26.304+02:00</td>\n",
              "      <td>100percentfedup.com</td>\n",
              "      <td>US</td>\n",
              "      <td>25689.0</td>\n",
              "      <td>PIN DROP SPEECH BY FATHER OF DAUGHTER Kidnappe...</td>\n",
              "      <td>0.068</td>\n",
              "      <td>http://100percentfedup.com/wp-content/uploads/...</td>\n",
              "      <td>0</td>\n",
              "      <td>0</td>\n",
              "      <td>0</td>\n",
              "      <td>0</td>\n",
              "      <td>0</td>\n",
              "      <td>bias</td>\n",
              "    </tr>\n",
              "    <tr>\n",
              "      <th>4</th>\n",
              "      <td>0206b54719c7e241ffe0ad4315b808290dbe6c0f</td>\n",
              "      <td>0</td>\n",
              "      <td>Fed Up</td>\n",
              "      <td>2016-11-01T21:56:00.000+02:00</td>\n",
              "      <td>FANTASTIC! TRUMP'S 7 POINT PLAN To Reform Heal...</td>\n",
              "      <td>Email HEALTHCARE REFORM TO MAKE AMERICA GREAT ...</td>\n",
              "      <td>english</td>\n",
              "      <td>2016-11-01T23:59:42.266+02:00</td>\n",
              "      <td>100percentfedup.com</td>\n",
              "      <td>US</td>\n",
              "      <td>25689.0</td>\n",
              "      <td>FANTASTIC! TRUMP'S 7 POINT PLAN To Reform Heal...</td>\n",
              "      <td>0.865</td>\n",
              "      <td>http://100percentfedup.com/wp-content/uploads/...</td>\n",
              "      <td>0</td>\n",
              "      <td>0</td>\n",
              "      <td>0</td>\n",
              "      <td>0</td>\n",
              "      <td>0</td>\n",
              "      <td>bias</td>\n",
              "    </tr>\n",
              "    <tr>\n",
              "      <th>5</th>\n",
              "      <td>8f30f5ea14c9d5914a9fe4f55ab2581772af4c31</td>\n",
              "      <td>0</td>\n",
              "      <td>Barracuda Brigade</td>\n",
              "      <td>2016-11-02T16:31:28.550+02:00</td>\n",
              "      <td>Hillary Goes Absolutely Berserk On Protester A...</td>\n",
              "      <td>Print Hillary goes absolutely berserk! She exp...</td>\n",
              "      <td>english</td>\n",
              "      <td>2016-11-02T16:31:28.550+02:00</td>\n",
              "      <td>100percentfedup.com</td>\n",
              "      <td>US</td>\n",
              "      <td>25689.0</td>\n",
              "      <td>Hillary Goes Absolutely Berserk On Protester A...</td>\n",
              "      <td>0.000</td>\n",
              "      <td>http://bb4sp.com/wp-content/uploads/2016/11/Fu...</td>\n",
              "      <td>0</td>\n",
              "      <td>1</td>\n",
              "      <td>0</td>\n",
              "      <td>0</td>\n",
              "      <td>0</td>\n",
              "      <td>bias</td>\n",
              "    </tr>\n",
              "    <tr>\n",
              "      <th>6</th>\n",
              "      <td>d3cc0fe38f41a59f7c48f8c3528ca5f74193148f</td>\n",
              "      <td>0</td>\n",
              "      <td>Fed Up</td>\n",
              "      <td>2016-11-04T19:40:00.000+02:00</td>\n",
              "      <td>BREAKING! NYPD Ready To Make Arrests In Weiner...</td>\n",
              "      <td>BREAKING! NYPD Ready To Make Arrests In Weiner...</td>\n",
              "      <td>english</td>\n",
              "      <td>2016-11-05T02:13:46.065+02:00</td>\n",
              "      <td>100percentfedup.com</td>\n",
              "      <td>US</td>\n",
              "      <td>25689.0</td>\n",
              "      <td>BREAKING! NYPD Ready To Make Arrests In Weiner...</td>\n",
              "      <td>0.701</td>\n",
              "      <td>http://100percentfedup.com/wp-content/uploads/...</td>\n",
              "      <td>0</td>\n",
              "      <td>0</td>\n",
              "      <td>0</td>\n",
              "      <td>0</td>\n",
              "      <td>0</td>\n",
              "      <td>bias</td>\n",
              "    </tr>\n",
              "    <tr>\n",
              "      <th>7</th>\n",
              "      <td>b4bbf8b5c19e8864f5257832a58b81ef4ed2d4e4</td>\n",
              "      <td>0</td>\n",
              "      <td>Fed Up</td>\n",
              "      <td>2016-11-05T01:19:00.000+02:00</td>\n",
              "      <td>WOW! WHISTLEBLOWER TELLS CHILLING STORY Of Mas...</td>\n",
              "      <td>BREAKING! NYPD Ready To Make Arrests In Weiner...</td>\n",
              "      <td>english</td>\n",
              "      <td>2016-11-05T05:59:07.458+02:00</td>\n",
              "      <td>100percentfedup.com</td>\n",
              "      <td>US</td>\n",
              "      <td>25689.0</td>\n",
              "      <td>WOW! WHISTLEBLOWER TELLS CHILLING STORY Of Mas...</td>\n",
              "      <td>0.188</td>\n",
              "      <td>http://100percentfedup.com/wp-content/uploads/...</td>\n",
              "      <td>0</td>\n",
              "      <td>0</td>\n",
              "      <td>0</td>\n",
              "      <td>0</td>\n",
              "      <td>0</td>\n",
              "      <td>bias</td>\n",
              "    </tr>\n",
              "    <tr>\n",
              "      <th>8</th>\n",
              "      <td>a19aabaa5a61eb8bc22fadaaa003e5fbba5c4bf6</td>\n",
              "      <td>0</td>\n",
              "      <td>Fed Up</td>\n",
              "      <td>2016-11-06T23:54:00.000+02:00</td>\n",
              "      <td>BREAKING: CLINTON CLEARED...Was This A Coordin...</td>\n",
              "      <td>\\nLimbaugh said that the revelations in the Wi...</td>\n",
              "      <td>english</td>\n",
              "      <td>2016-11-07T10:20:06.409+02:00</td>\n",
              "      <td>100percentfedup.com</td>\n",
              "      <td>US</td>\n",
              "      <td>25689.0</td>\n",
              "      <td>BREAKING: CLINTON CLEARED...Was This A Coordin...</td>\n",
              "      <td>0.144</td>\n",
              "      <td>http://100percentfedup.com/wp-content/uploads/...</td>\n",
              "      <td>0</td>\n",
              "      <td>0</td>\n",
              "      <td>0</td>\n",
              "      <td>0</td>\n",
              "      <td>0</td>\n",
              "      <td>bias</td>\n",
              "    </tr>\n",
              "    <tr>\n",
              "      <th>9</th>\n",
              "      <td>f54d8e13010d0a79893995ee65360ad4b38b5a35</td>\n",
              "      <td>0</td>\n",
              "      <td>Fed Up</td>\n",
              "      <td>2016-11-07T02:43:00.000+02:00</td>\n",
              "      <td>EVIL HILLARY SUPPORTERS Yell \"F*ck Trump\"…Burn...</td>\n",
              "      <td>Email \\nThese people are sick and evil. They w...</td>\n",
              "      <td>english</td>\n",
              "      <td>2016-11-07T10:20:27.252+02:00</td>\n",
              "      <td>100percentfedup.com</td>\n",
              "      <td>US</td>\n",
              "      <td>25689.0</td>\n",
              "      <td>EVIL HILLARY SUPPORTERS Yell \"F*ck Trump\"…Burn...</td>\n",
              "      <td>0.995</td>\n",
              "      <td>http://100percentfedup.com/wp-content/uploads/...</td>\n",
              "      <td>0</td>\n",
              "      <td>0</td>\n",
              "      <td>0</td>\n",
              "      <td>0</td>\n",
              "      <td>0</td>\n",
              "      <td>bias</td>\n",
              "    </tr>\n",
              "  </tbody>\n",
              "</table>\n",
              "</div>"
            ],
            "text/plain": [
              "                                       uuid  ord_in_thread  \\\n",
              "0  6a175f46bcd24d39b3e962ad0f29936721db70db              0   \n",
              "1  2bdc29d12605ef9cf3f09f9875040a7113be5d5b              0   \n",
              "2  c70e149fdd53de5e61c29281100b9de0ed268bc3              0   \n",
              "3  7cf7c15731ac2a116dd7f629bd57ea468ed70284              0   \n",
              "4  0206b54719c7e241ffe0ad4315b808290dbe6c0f              0   \n",
              "5  8f30f5ea14c9d5914a9fe4f55ab2581772af4c31              0   \n",
              "6  d3cc0fe38f41a59f7c48f8c3528ca5f74193148f              0   \n",
              "7  b4bbf8b5c19e8864f5257832a58b81ef4ed2d4e4              0   \n",
              "8  a19aabaa5a61eb8bc22fadaaa003e5fbba5c4bf6              0   \n",
              "9  f54d8e13010d0a79893995ee65360ad4b38b5a35              0   \n",
              "\n",
              "                 author                      published  \\\n",
              "0     Barracuda Brigade  2016-10-26T21:41:00.000+03:00   \n",
              "1  reasoning with facts  2016-10-29T08:47:11.259+03:00   \n",
              "2     Barracuda Brigade  2016-10-31T01:41:49.479+02:00   \n",
              "3                Fed Up  2016-11-01T05:22:00.000+02:00   \n",
              "4                Fed Up  2016-11-01T21:56:00.000+02:00   \n",
              "5     Barracuda Brigade  2016-11-02T16:31:28.550+02:00   \n",
              "6                Fed Up  2016-11-04T19:40:00.000+02:00   \n",
              "7                Fed Up  2016-11-05T01:19:00.000+02:00   \n",
              "8                Fed Up  2016-11-06T23:54:00.000+02:00   \n",
              "9                Fed Up  2016-11-07T02:43:00.000+02:00   \n",
              "\n",
              "                                               title  \\\n",
              "0  Muslims BUSTED: They Stole Millions In Gov’t B...   \n",
              "1  Re: Why Did Attorney General Loretta Lynch Ple...   \n",
              "2  BREAKING: Weiner Cooperating With FBI On Hilla...   \n",
              "3  PIN DROP SPEECH BY FATHER OF DAUGHTER Kidnappe...   \n",
              "4  FANTASTIC! TRUMP'S 7 POINT PLAN To Reform Heal...   \n",
              "5  Hillary Goes Absolutely Berserk On Protester A...   \n",
              "6  BREAKING! NYPD Ready To Make Arrests In Weiner...   \n",
              "7  WOW! WHISTLEBLOWER TELLS CHILLING STORY Of Mas...   \n",
              "8  BREAKING: CLINTON CLEARED...Was This A Coordin...   \n",
              "9  EVIL HILLARY SUPPORTERS Yell \"F*ck Trump\"…Burn...   \n",
              "\n",
              "                                                text language  \\\n",
              "0  Print They should pay all the back all the mon...  english   \n",
              "1  Why Did Attorney General Loretta Lynch Plead T...  english   \n",
              "2  Red State : \\nFox News Sunday reported this mo...  english   \n",
              "3  Email Kayla Mueller was a prisoner and torture...  english   \n",
              "4  Email HEALTHCARE REFORM TO MAKE AMERICA GREAT ...  english   \n",
              "5  Print Hillary goes absolutely berserk! She exp...  english   \n",
              "6  BREAKING! NYPD Ready To Make Arrests In Weiner...  english   \n",
              "7  BREAKING! NYPD Ready To Make Arrests In Weiner...  english   \n",
              "8  \\nLimbaugh said that the revelations in the Wi...  english   \n",
              "9  Email \\nThese people are sick and evil. They w...  english   \n",
              "\n",
              "                         crawled             site_url country  domain_rank  \\\n",
              "0  2016-10-27T01:49:27.168+03:00  100percentfedup.com      US      25689.0   \n",
              "1  2016-10-29T08:47:11.259+03:00  100percentfedup.com      US      25689.0   \n",
              "2  2016-10-31T01:41:49.479+02:00  100percentfedup.com      US      25689.0   \n",
              "3  2016-11-01T15:46:26.304+02:00  100percentfedup.com      US      25689.0   \n",
              "4  2016-11-01T23:59:42.266+02:00  100percentfedup.com      US      25689.0   \n",
              "5  2016-11-02T16:31:28.550+02:00  100percentfedup.com      US      25689.0   \n",
              "6  2016-11-05T02:13:46.065+02:00  100percentfedup.com      US      25689.0   \n",
              "7  2016-11-05T05:59:07.458+02:00  100percentfedup.com      US      25689.0   \n",
              "8  2016-11-07T10:20:06.409+02:00  100percentfedup.com      US      25689.0   \n",
              "9  2016-11-07T10:20:27.252+02:00  100percentfedup.com      US      25689.0   \n",
              "\n",
              "                                        thread_title  spam_score  \\\n",
              "0  Muslims BUSTED: They Stole Millions In Gov’t B...       0.000   \n",
              "1  Re: Why Did Attorney General Loretta Lynch Ple...       0.000   \n",
              "2  BREAKING: Weiner Cooperating With FBI On Hilla...       0.000   \n",
              "3  PIN DROP SPEECH BY FATHER OF DAUGHTER Kidnappe...       0.068   \n",
              "4  FANTASTIC! TRUMP'S 7 POINT PLAN To Reform Heal...       0.865   \n",
              "5  Hillary Goes Absolutely Berserk On Protester A...       0.000   \n",
              "6  BREAKING! NYPD Ready To Make Arrests In Weiner...       0.701   \n",
              "7  WOW! WHISTLEBLOWER TELLS CHILLING STORY Of Mas...       0.188   \n",
              "8  BREAKING: CLINTON CLEARED...Was This A Coordin...       0.144   \n",
              "9  EVIL HILLARY SUPPORTERS Yell \"F*ck Trump\"…Burn...       0.995   \n",
              "\n",
              "                                        main_img_url  replies_count  \\\n",
              "0  http://bb4sp.com/wp-content/uploads/2016/10/Fu...              0   \n",
              "1  http://bb4sp.com/wp-content/uploads/2016/10/Fu...              0   \n",
              "2  http://bb4sp.com/wp-content/uploads/2016/10/Fu...              0   \n",
              "3  http://100percentfedup.com/wp-content/uploads/...              0   \n",
              "4  http://100percentfedup.com/wp-content/uploads/...              0   \n",
              "5  http://bb4sp.com/wp-content/uploads/2016/11/Fu...              0   \n",
              "6  http://100percentfedup.com/wp-content/uploads/...              0   \n",
              "7  http://100percentfedup.com/wp-content/uploads/...              0   \n",
              "8  http://100percentfedup.com/wp-content/uploads/...              0   \n",
              "9  http://100percentfedup.com/wp-content/uploads/...              0   \n",
              "\n",
              "   participants_count  likes  comments  shares  type  \n",
              "0                   1      0         0       0  bias  \n",
              "1                   1      0         0       0  bias  \n",
              "2                   1      0         0       0  bias  \n",
              "3                   0      0         0       0  bias  \n",
              "4                   0      0         0       0  bias  \n",
              "5                   1      0         0       0  bias  \n",
              "6                   0      0         0       0  bias  \n",
              "7                   0      0         0       0  bias  \n",
              "8                   0      0         0       0  bias  \n",
              "9                   0      0         0       0  bias  "
            ]
          },
          "metadata": {
            "tags": []
          },
          "execution_count": 3
        }
      ]
    },
    {
      "cell_type": "code",
      "metadata": {
        "id": "xGlhg5yYdYiU",
        "scrolled": true,
        "outputId": "8978dd0e-89d3-4a92-ed9a-e4cbd8df05a2"
      },
      "source": [
        "df.shape"
      ],
      "execution_count": null,
      "outputs": [
        {
          "output_type": "execute_result",
          "data": {
            "text/plain": [
              "(12999, 20)"
            ]
          },
          "metadata": {
            "tags": []
          },
          "execution_count": 4
        }
      ]
    },
    {
      "cell_type": "markdown",
      "metadata": {
        "id": "XpqN-qVXgf-n"
      },
      "source": [
        "**12999 rows and 20 columns**"
      ]
    },
    {
      "cell_type": "code",
      "metadata": {
        "id": "RwfAUK3idYiW",
        "outputId": "23324065-41f1-4040-dd13-172c52be8420"
      },
      "source": [
        "df.isnull().sum(axis=0)"
      ],
      "execution_count": null,
      "outputs": [
        {
          "output_type": "execute_result",
          "data": {
            "text/plain": [
              "uuid                     0\n",
              "ord_in_thread            0\n",
              "author                2424\n",
              "published                0\n",
              "title                  680\n",
              "text                    46\n",
              "language                 0\n",
              "crawled                  0\n",
              "site_url                 0\n",
              "country                176\n",
              "domain_rank           4223\n",
              "thread_title            12\n",
              "spam_score               0\n",
              "main_img_url          3643\n",
              "replies_count            0\n",
              "participants_count       0\n",
              "likes                    0\n",
              "comments                 0\n",
              "shares                   0\n",
              "type                     0\n",
              "dtype: int64"
            ]
          },
          "metadata": {
            "tags": []
          },
          "execution_count": 5
        }
      ]
    },
    {
      "cell_type": "markdown",
      "metadata": {
        "id": "sAoU57z3grm8"
      },
      "source": [
        "**To check for null values row wise in each column.**"
      ]
    },
    {
      "cell_type": "code",
      "metadata": {
        "id": "OqfqatBcdYiY",
        "scrolled": true,
        "outputId": "15c73d4a-77c8-46cf-b87a-07d518a7cf67"
      },
      "source": [
        "sns.heatmap(df.isnull(),cmap='viridis',cbar=False)"
      ],
      "execution_count": null,
      "outputs": [
        {
          "output_type": "execute_result",
          "data": {
            "text/plain": [
              "<matplotlib.axes._subplots.AxesSubplot at 0x270e75d5ac8>"
            ]
          },
          "metadata": {
            "tags": []
          },
          "execution_count": 6
        },
        {
          "output_type": "display_data",
          "data": {
            "image/png": "[encoded data removed]",
            "text/plain": [
              "<Figure size 432x288 with 1 Axes>"
            ]
          },
          "metadata": {
            "tags": [],
            "needs_background": "light"
          }
        }
      ]
    },
    {
      "cell_type": "markdown",
      "metadata": {
        "id": "18Td99qYgxj9"
      },
      "source": [
        "**Shows null values in the dataset**"
      ]
    },
    {
      "cell_type": "code",
      "metadata": {
        "id": "tZfZyxB-dYiZ",
        "outputId": "284547b6-ebbe-4c3a-96c9-dc72fdfbc697"
      },
      "source": [
        "sns.pairplot(df)"
      ],
      "execution_count": null,
      "outputs": [
        {
          "output_type": "execute_result",
          "data": {
            "text/plain": [
              "<seaborn.axisgrid.PairGrid at 0x270e9ecacc8>"
            ]
          },
          "metadata": {
            "tags": []
          },
          "execution_count": 7
        },
        {
          "output_type": "display_data",
          "data": {
            "image/png": "[encoded data removed]",
            "text/plain": [
              "<Figure size 1440x1440 with 72 Axes>"
            ]
          },
          "metadata": {
            "tags": [],
            "needs_background": "light"
          }
        }
      ]
    },
    {
      "cell_type": "markdown",
      "metadata": {
        "id": "sw_Dp0MAg7PX"
      },
      "source": [
        "**To plot multiple pairwise bivariate distributions in a dataset**"
      ]
    },
    {
      "cell_type": "code",
      "metadata": {
        "id": "X5yvym_adYia",
        "outputId": "6ae54fad-e594-41bb-d69b-da0b07d182e4"
      },
      "source": [
        "colors=['r','y','g','b']\n",
        "df.hist(figsize=(6,4),rwidth=0.8,color='r',grid=False)\n",
        "plt.tight_layout()"
      ],
      "execution_count": null,
      "outputs": [
        {
          "output_type": "display_data",
          "data": {
            "image/png": "[encoded data removed]",
            "text/plain": [
              "<Figure size 432x288 with 9 Axes>"
            ]
          },
          "metadata": {
            "tags": [],
            "needs_background": "light"
          }
        }
      ]
    },
    {
      "cell_type": "code",
      "metadata": {
        "id": "pnLBU5shdYib",
        "outputId": "606a8eb0-accf-4061-d459-300f7d9a6107"
      },
      "source": [
        "df.info()"
      ],
      "execution_count": null,
      "outputs": [
        {
          "output_type": "stream",
          "text": [
            "<class 'pandas.core.frame.DataFrame'>\n",
            "RangeIndex: 12999 entries, 0 to 12998\n",
            "Data columns (total 20 columns):\n",
            " #   Column              Non-Null Count  Dtype  \n",
            "---  ------              --------------  -----  \n",
            " 0   uuid                12999 non-null  object \n",
            " 1   ord_in_thread       12999 non-null  int64  \n",
            " 2   author              10575 non-null  object \n",
            " 3   published           12999 non-null  object \n",
            " 4   title               12319 non-null  object \n",
            " 5   text                12953 non-null  object \n",
            " 6   language            12999 non-null  object \n",
            " 7   crawled             12999 non-null  object \n",
            " 8   site_url            12999 non-null  object \n",
            " 9   country             12823 non-null  object \n",
            " 10  domain_rank         8776 non-null   float64\n",
            " 11  thread_title        12987 non-null  object \n",
            " 12  spam_score          12999 non-null  float64\n",
            " 13  main_img_url        9356 non-null   object \n",
            " 14  replies_count       12999 non-null  int64  \n",
            " 15  participants_count  12999 non-null  int64  \n",
            " 16  likes               12999 non-null  int64  \n",
            " 17  comments            12999 non-null  int64  \n",
            " 18  shares              12999 non-null  int64  \n",
            " 19  type                12999 non-null  object \n",
            "dtypes: float64(2), int64(6), object(12)\n",
            "memory usage: 2.0+ MB\n"
          ],
          "name": "stdout"
        }
      ]
    },
    {
      "cell_type": "code",
      "metadata": {
        "id": "jAd8ZzPQdYic",
        "outputId": "ff682cb6-0f0f-4f1b-dc5a-f7b27d758f0a"
      },
      "source": [
        "df['uuid'].value_counts().unique()"
      ],
      "execution_count": null,
      "outputs": [
        {
          "output_type": "execute_result",
          "data": {
            "text/plain": [
              "array([1], dtype=int64)"
            ]
          },
          "metadata": {
            "tags": []
          },
          "execution_count": 10
        }
      ]
    },
    {
      "cell_type": "code",
      "metadata": {
        "id": "NmPUB0ISdYid",
        "outputId": "141b1cd5-2ffe-4bda-817a-066b44c20be1"
      },
      "source": [
        "len(df['uuid'].value_counts())"
      ],
      "execution_count": null,
      "outputs": [
        {
          "output_type": "execute_result",
          "data": {
            "text/plain": [
              "12999"
            ]
          },
          "metadata": {
            "tags": []
          },
          "execution_count": 11
        }
      ]
    },
    {
      "cell_type": "code",
      "metadata": {
        "id": "hxZ1fKcfdYid"
      },
      "source": [
        "df1 = df.drop('uuid',axis=1)"
      ],
      "execution_count": null,
      "outputs": []
    },
    {
      "cell_type": "code",
      "metadata": {
        "id": "QYbSB4LydYie",
        "outputId": "7d5e7759-7c8f-4d2b-ddb7-8bae30a8019b"
      },
      "source": [
        "df1.head(1)"
      ],
      "execution_count": null,
      "outputs": [
        {
          "output_type": "execute_result",
          "data": {
            "text/html": [
              "<div>\n",
              "<style scoped>\n",
              "    .dataframe tbody tr th:only-of-type {\n",
              "        vertical-align: middle;\n",
              "    }\n",
              "\n",
              "    .dataframe tbody tr th {\n",
              "        vertical-align: top;\n",
              "    }\n",
              "\n",
              "    .dataframe thead th {\n",
              "        text-align: right;\n",
              "    }\n",
              "</style>\n",
              "<table border=\"1\" class=\"dataframe\">\n",
              "  <thead>\n",
              "    <tr style=\"text-align: right;\">\n",
              "      <th></th>\n",
              "      <th>ord_in_thread</th>\n",
              "      <th>author</th>\n",
              "      <th>published</th>\n",
              "      <th>title</th>\n",
              "      <th>text</th>\n",
              "      <th>language</th>\n",
              "      <th>crawled</th>\n",
              "      <th>site_url</th>\n",
              "      <th>country</th>\n",
              "      <th>domain_rank</th>\n",
              "      <th>thread_title</th>\n",
              "      <th>spam_score</th>\n",
              "      <th>main_img_url</th>\n",
              "      <th>replies_count</th>\n",
              "      <th>participants_count</th>\n",
              "      <th>likes</th>\n",
              "      <th>comments</th>\n",
              "      <th>shares</th>\n",
              "      <th>type</th>\n",
              "    </tr>\n",
              "  </thead>\n",
              "  <tbody>\n",
              "    <tr>\n",
              "      <th>0</th>\n",
              "      <td>0</td>\n",
              "      <td>Barracuda Brigade</td>\n",
              "      <td>2016-10-26T21:41:00.000+03:00</td>\n",
              "      <td>Muslims BUSTED: They Stole Millions In Gov’t B...</td>\n",
              "      <td>Print They should pay all the back all the mon...</td>\n",
              "      <td>english</td>\n",
              "      <td>2016-10-27T01:49:27.168+03:00</td>\n",
              "      <td>100percentfedup.com</td>\n",
              "      <td>US</td>\n",
              "      <td>25689.0</td>\n",
              "      <td>Muslims BUSTED: They Stole Millions In Gov’t B...</td>\n",
              "      <td>0.0</td>\n",
              "      <td>http://bb4sp.com/wp-content/uploads/2016/10/Fu...</td>\n",
              "      <td>0</td>\n",
              "      <td>1</td>\n",
              "      <td>0</td>\n",
              "      <td>0</td>\n",
              "      <td>0</td>\n",
              "      <td>bias</td>\n",
              "    </tr>\n",
              "  </tbody>\n",
              "</table>\n",
              "</div>"
            ],
            "text/plain": [
              "   ord_in_thread             author                      published  \\\n",
              "0              0  Barracuda Brigade  2016-10-26T21:41:00.000+03:00   \n",
              "\n",
              "                                               title  \\\n",
              "0  Muslims BUSTED: They Stole Millions In Gov’t B...   \n",
              "\n",
              "                                                text language  \\\n",
              "0  Print They should pay all the back all the mon...  english   \n",
              "\n",
              "                         crawled             site_url country  domain_rank  \\\n",
              "0  2016-10-27T01:49:27.168+03:00  100percentfedup.com      US      25689.0   \n",
              "\n",
              "                                        thread_title  spam_score  \\\n",
              "0  Muslims BUSTED: They Stole Millions In Gov’t B...         0.0   \n",
              "\n",
              "                                        main_img_url  replies_count  \\\n",
              "0  http://bb4sp.com/wp-content/uploads/2016/10/Fu...              0   \n",
              "\n",
              "   participants_count  likes  comments  shares  type  \n",
              "0                   1      0         0       0  bias  "
            ]
          },
          "metadata": {
            "tags": []
          },
          "execution_count": 13
        }
      ]
    },
    {
      "cell_type": "code",
      "metadata": {
        "id": "oK7acTDGdYif"
      },
      "source": [
        "count=df1['ord_in_thread'].value_counts()"
      ],
      "execution_count": null,
      "outputs": []
    },
    {
      "cell_type": "code",
      "metadata": {
        "id": "N1Qvj_aidYif",
        "outputId": "198dccc5-7e39-4390-8830-6eeebc6316e5"
      },
      "source": [
        "df1['ord_in_thread'].plot(kind='hist')"
      ],
      "execution_count": null,
      "outputs": [
        {
          "output_type": "execute_result",
          "data": {
            "text/plain": [
              "<matplotlib.axes._subplots.AxesSubplot at 0x270f1a8f108>"
            ]
          },
          "metadata": {
            "tags": []
          },
          "execution_count": 15
        },
        {
          "output_type": "display_data",
          "data": {
            "image/png": "[encoded data removed]",
            "text/plain": [
              "<Figure size 432x288 with 1 Axes>"
            ]
          },
          "metadata": {
            "tags": [],
            "needs_background": "light"
          }
        }
      ]
    },
    {
      "cell_type": "code",
      "metadata": {
        "id": "54IkpG2udYig",
        "outputId": "47ee6dc5-c55d-4160-ac0f-5b961ffaf371"
      },
      "source": [
        "df1['author'].isnull().sum(axis=0)"
      ],
      "execution_count": null,
      "outputs": [
        {
          "output_type": "execute_result",
          "data": {
            "text/plain": [
              "2424"
            ]
          },
          "metadata": {
            "tags": []
          },
          "execution_count": 16
        }
      ]
    },
    {
      "cell_type": "code",
      "metadata": {
        "id": "ajhuuSu5dYih"
      },
      "source": [
        "df1= df1.dropna(subset=['author'])"
      ],
      "execution_count": null,
      "outputs": []
    },
    {
      "cell_type": "code",
      "metadata": {
        "id": "8nVS-Fb5dYih",
        "outputId": "1ea0ccad-9270-4142-9084-52646b2cf866"
      },
      "source": [
        "df1.shape"
      ],
      "execution_count": null,
      "outputs": [
        {
          "output_type": "execute_result",
          "data": {
            "text/plain": [
              "(10575, 19)"
            ]
          },
          "metadata": {
            "tags": []
          },
          "execution_count": 18
        }
      ]
    },
    {
      "cell_type": "code",
      "metadata": {
        "id": "BHnQwIJidYii",
        "outputId": "1b6d93a3-a5ef-4f1b-f97a-c34233b2283c"
      },
      "source": [
        "df1['author'].unique()"
      ],
      "execution_count": null,
      "outputs": [
        {
          "output_type": "execute_result",
          "data": {
            "text/plain": [
              "array(['Barracuda Brigade', 'reasoning with facts', 'Fed Up', ...,\n",
              "       'major major maj...', 'beemasters', 'i&#039;m-confused'],\n",
              "      dtype=object)"
            ]
          },
          "metadata": {
            "tags": []
          },
          "execution_count": 19
        }
      ]
    },
    {
      "cell_type": "code",
      "metadata": {
        "id": "Y8181EawdYii",
        "outputId": "77ccf88c-e127-4ea5-d158-d064b19f5c50"
      },
      "source": [
        "len(df1['author'].value_counts())"
      ],
      "execution_count": null,
      "outputs": [
        {
          "output_type": "execute_result",
          "data": {
            "text/plain": [
              "2259"
            ]
          },
          "metadata": {
            "tags": []
          },
          "execution_count": 20
        }
      ]
    },
    {
      "cell_type": "markdown",
      "metadata": {
        "id": "0eNk93MchIzf"
      },
      "source": [
        "**Too many values for authors- not useful for analysis**"
      ]
    },
    {
      "cell_type": "code",
      "metadata": {
        "id": "-tUWbuUadYij"
      },
      "source": [
        "df1['published']= pd.to_datetime(df1['published'])"
      ],
      "execution_count": null,
      "outputs": []
    },
    {
      "cell_type": "code",
      "metadata": {
        "id": "quGsuJ6zdYij",
        "outputId": "5bcc2ebe-39dd-4a7f-c693-f3cce279d805"
      },
      "source": [
        "df1.head()"
      ],
      "execution_count": null,
      "outputs": [
        {
          "output_type": "execute_result",
          "data": {
            "text/html": [
              "<div>\n",
              "<style scoped>\n",
              "    .dataframe tbody tr th:only-of-type {\n",
              "        vertical-align: middle;\n",
              "    }\n",
              "\n",
              "    .dataframe tbody tr th {\n",
              "        vertical-align: top;\n",
              "    }\n",
              "\n",
              "    .dataframe thead th {\n",
              "        text-align: right;\n",
              "    }\n",
              "</style>\n",
              "<table border=\"1\" class=\"dataframe\">\n",
              "  <thead>\n",
              "    <tr style=\"text-align: right;\">\n",
              "      <th></th>\n",
              "      <th>ord_in_thread</th>\n",
              "      <th>author</th>\n",
              "      <th>published</th>\n",
              "      <th>title</th>\n",
              "      <th>text</th>\n",
              "      <th>language</th>\n",
              "      <th>crawled</th>\n",
              "      <th>site_url</th>\n",
              "      <th>country</th>\n",
              "      <th>domain_rank</th>\n",
              "      <th>thread_title</th>\n",
              "      <th>spam_score</th>\n",
              "      <th>main_img_url</th>\n",
              "      <th>replies_count</th>\n",
              "      <th>participants_count</th>\n",
              "      <th>likes</th>\n",
              "      <th>comments</th>\n",
              "      <th>shares</th>\n",
              "      <th>type</th>\n",
              "    </tr>\n",
              "  </thead>\n",
              "  <tbody>\n",
              "    <tr>\n",
              "      <th>0</th>\n",
              "      <td>0</td>\n",
              "      <td>Barracuda Brigade</td>\n",
              "      <td>2016-10-26 21:41:00+03:00</td>\n",
              "      <td>Muslims BUSTED: They Stole Millions In Gov’t B...</td>\n",
              "      <td>Print They should pay all the back all the mon...</td>\n",
              "      <td>english</td>\n",
              "      <td>2016-10-27T01:49:27.168+03:00</td>\n",
              "      <td>100percentfedup.com</td>\n",
              "      <td>US</td>\n",
              "      <td>25689.0</td>\n",
              "      <td>Muslims BUSTED: They Stole Millions In Gov’t B...</td>\n",
              "      <td>0.000</td>\n",
              "      <td>http://bb4sp.com/wp-content/uploads/2016/10/Fu...</td>\n",
              "      <td>0</td>\n",
              "      <td>1</td>\n",
              "      <td>0</td>\n",
              "      <td>0</td>\n",
              "      <td>0</td>\n",
              "      <td>bias</td>\n",
              "    </tr>\n",
              "    <tr>\n",
              "      <th>1</th>\n",
              "      <td>0</td>\n",
              "      <td>reasoning with facts</td>\n",
              "      <td>2016-10-29 08:47:11.259000+03:00</td>\n",
              "      <td>Re: Why Did Attorney General Loretta Lynch Ple...</td>\n",
              "      <td>Why Did Attorney General Loretta Lynch Plead T...</td>\n",
              "      <td>english</td>\n",
              "      <td>2016-10-29T08:47:11.259+03:00</td>\n",
              "      <td>100percentfedup.com</td>\n",
              "      <td>US</td>\n",
              "      <td>25689.0</td>\n",
              "      <td>Re: Why Did Attorney General Loretta Lynch Ple...</td>\n",
              "      <td>0.000</td>\n",
              "      <td>http://bb4sp.com/wp-content/uploads/2016/10/Fu...</td>\n",
              "      <td>0</td>\n",
              "      <td>1</td>\n",
              "      <td>0</td>\n",
              "      <td>0</td>\n",
              "      <td>0</td>\n",
              "      <td>bias</td>\n",
              "    </tr>\n",
              "    <tr>\n",
              "      <th>2</th>\n",
              "      <td>0</td>\n",
              "      <td>Barracuda Brigade</td>\n",
              "      <td>2016-10-31 01:41:49.479000+02:00</td>\n",
              "      <td>BREAKING: Weiner Cooperating With FBI On Hilla...</td>\n",
              "      <td>Red State : \\nFox News Sunday reported this mo...</td>\n",
              "      <td>english</td>\n",
              "      <td>2016-10-31T01:41:49.479+02:00</td>\n",
              "      <td>100percentfedup.com</td>\n",
              "      <td>US</td>\n",
              "      <td>25689.0</td>\n",
              "      <td>BREAKING: Weiner Cooperating With FBI On Hilla...</td>\n",
              "      <td>0.000</td>\n",
              "      <td>http://bb4sp.com/wp-content/uploads/2016/10/Fu...</td>\n",
              "      <td>0</td>\n",
              "      <td>1</td>\n",
              "      <td>0</td>\n",
              "      <td>0</td>\n",
              "      <td>0</td>\n",
              "      <td>bias</td>\n",
              "    </tr>\n",
              "    <tr>\n",
              "      <th>3</th>\n",
              "      <td>0</td>\n",
              "      <td>Fed Up</td>\n",
              "      <td>2016-11-01 05:22:00+02:00</td>\n",
              "      <td>PIN DROP SPEECH BY FATHER OF DAUGHTER Kidnappe...</td>\n",
              "      <td>Email Kayla Mueller was a prisoner and torture...</td>\n",
              "      <td>english</td>\n",
              "      <td>2016-11-01T15:46:26.304+02:00</td>\n",
              "      <td>100percentfedup.com</td>\n",
              "      <td>US</td>\n",
              "      <td>25689.0</td>\n",
              "      <td>PIN DROP SPEECH BY FATHER OF DAUGHTER Kidnappe...</td>\n",
              "      <td>0.068</td>\n",
              "      <td>http://100percentfedup.com/wp-content/uploads/...</td>\n",
              "      <td>0</td>\n",
              "      <td>0</td>\n",
              "      <td>0</td>\n",
              "      <td>0</td>\n",
              "      <td>0</td>\n",
              "      <td>bias</td>\n",
              "    </tr>\n",
              "    <tr>\n",
              "      <th>4</th>\n",
              "      <td>0</td>\n",
              "      <td>Fed Up</td>\n",
              "      <td>2016-11-01 21:56:00+02:00</td>\n",
              "      <td>FANTASTIC! TRUMP'S 7 POINT PLAN To Reform Heal...</td>\n",
              "      <td>Email HEALTHCARE REFORM TO MAKE AMERICA GREAT ...</td>\n",
              "      <td>english</td>\n",
              "      <td>2016-11-01T23:59:42.266+02:00</td>\n",
              "      <td>100percentfedup.com</td>\n",
              "      <td>US</td>\n",
              "      <td>25689.0</td>\n",
              "      <td>FANTASTIC! TRUMP'S 7 POINT PLAN To Reform Heal...</td>\n",
              "      <td>0.865</td>\n",
              "      <td>http://100percentfedup.com/wp-content/uploads/...</td>\n",
              "      <td>0</td>\n",
              "      <td>0</td>\n",
              "      <td>0</td>\n",
              "      <td>0</td>\n",
              "      <td>0</td>\n",
              "      <td>bias</td>\n",
              "    </tr>\n",
              "  </tbody>\n",
              "</table>\n",
              "</div>"
            ],
            "text/plain": [
              "   ord_in_thread                author                         published  \\\n",
              "0              0     Barracuda Brigade         2016-10-26 21:41:00+03:00   \n",
              "1              0  reasoning with facts  2016-10-29 08:47:11.259000+03:00   \n",
              "2              0     Barracuda Brigade  2016-10-31 01:41:49.479000+02:00   \n",
              "3              0                Fed Up         2016-11-01 05:22:00+02:00   \n",
              "4              0                Fed Up         2016-11-01 21:56:00+02:00   \n",
              "\n",
              "                                               title  \\\n",
              "0  Muslims BUSTED: They Stole Millions In Gov’t B...   \n",
              "1  Re: Why Did Attorney General Loretta Lynch Ple...   \n",
              "2  BREAKING: Weiner Cooperating With FBI On Hilla...   \n",
              "3  PIN DROP SPEECH BY FATHER OF DAUGHTER Kidnappe...   \n",
              "4  FANTASTIC! TRUMP'S 7 POINT PLAN To Reform Heal...   \n",
              "\n",
              "                                                text language  \\\n",
              "0  Print They should pay all the back all the mon...  english   \n",
              "1  Why Did Attorney General Loretta Lynch Plead T...  english   \n",
              "2  Red State : \\nFox News Sunday reported this mo...  english   \n",
              "3  Email Kayla Mueller was a prisoner and torture...  english   \n",
              "4  Email HEALTHCARE REFORM TO MAKE AMERICA GREAT ...  english   \n",
              "\n",
              "                         crawled             site_url country  domain_rank  \\\n",
              "0  2016-10-27T01:49:27.168+03:00  100percentfedup.com      US      25689.0   \n",
              "1  2016-10-29T08:47:11.259+03:00  100percentfedup.com      US      25689.0   \n",
              "2  2016-10-31T01:41:49.479+02:00  100percentfedup.com      US      25689.0   \n",
              "3  2016-11-01T15:46:26.304+02:00  100percentfedup.com      US      25689.0   \n",
              "4  2016-11-01T23:59:42.266+02:00  100percentfedup.com      US      25689.0   \n",
              "\n",
              "                                        thread_title  spam_score  \\\n",
              "0  Muslims BUSTED: They Stole Millions In Gov’t B...       0.000   \n",
              "1  Re: Why Did Attorney General Loretta Lynch Ple...       0.000   \n",
              "2  BREAKING: Weiner Cooperating With FBI On Hilla...       0.000   \n",
              "3  PIN DROP SPEECH BY FATHER OF DAUGHTER Kidnappe...       0.068   \n",
              "4  FANTASTIC! TRUMP'S 7 POINT PLAN To Reform Heal...       0.865   \n",
              "\n",
              "                                        main_img_url  replies_count  \\\n",
              "0  http://bb4sp.com/wp-content/uploads/2016/10/Fu...              0   \n",
              "1  http://bb4sp.com/wp-content/uploads/2016/10/Fu...              0   \n",
              "2  http://bb4sp.com/wp-content/uploads/2016/10/Fu...              0   \n",
              "3  http://100percentfedup.com/wp-content/uploads/...              0   \n",
              "4  http://100percentfedup.com/wp-content/uploads/...              0   \n",
              "\n",
              "   participants_count  likes  comments  shares  type  \n",
              "0                   1      0         0       0  bias  \n",
              "1                   1      0         0       0  bias  \n",
              "2                   1      0         0       0  bias  \n",
              "3                   0      0         0       0  bias  \n",
              "4                   0      0         0       0  bias  "
            ]
          },
          "metadata": {
            "tags": []
          },
          "execution_count": 22
        }
      ]
    },
    {
      "cell_type": "code",
      "metadata": {
        "id": "zFnGNau7dYik"
      },
      "source": [
        "df1['published_month']= df1['published'].apply(lambda x: x.month)"
      ],
      "execution_count": null,
      "outputs": []
    },
    {
      "cell_type": "code",
      "metadata": {
        "id": "_JXIJMm1dYil"
      },
      "source": [
        "df1['published_date']=df1['published'].apply(lambda x: x.day)"
      ],
      "execution_count": null,
      "outputs": []
    },
    {
      "cell_type": "code",
      "metadata": {
        "id": "jj57tSj8dYil",
        "outputId": "7e83b19f-7cd2-45aa-98a5-8d6016433ddb"
      },
      "source": [
        "df1.head(5)"
      ],
      "execution_count": null,
      "outputs": [
        {
          "output_type": "execute_result",
          "data": {
            "text/html": [
              "<div>\n",
              "<style scoped>\n",
              "    .dataframe tbody tr th:only-of-type {\n",
              "        vertical-align: middle;\n",
              "    }\n",
              "\n",
              "    .dataframe tbody tr th {\n",
              "        vertical-align: top;\n",
              "    }\n",
              "\n",
              "    .dataframe thead th {\n",
              "        text-align: right;\n",
              "    }\n",
              "</style>\n",
              "<table border=\"1\" class=\"dataframe\">\n",
              "  <thead>\n",
              "    <tr style=\"text-align: right;\">\n",
              "      <th></th>\n",
              "      <th>ord_in_thread</th>\n",
              "      <th>author</th>\n",
              "      <th>published</th>\n",
              "      <th>title</th>\n",
              "      <th>text</th>\n",
              "      <th>language</th>\n",
              "      <th>crawled</th>\n",
              "      <th>site_url</th>\n",
              "      <th>country</th>\n",
              "      <th>domain_rank</th>\n",
              "      <th>...</th>\n",
              "      <th>spam_score</th>\n",
              "      <th>main_img_url</th>\n",
              "      <th>replies_count</th>\n",
              "      <th>participants_count</th>\n",
              "      <th>likes</th>\n",
              "      <th>comments</th>\n",
              "      <th>shares</th>\n",
              "      <th>type</th>\n",
              "      <th>published_month</th>\n",
              "      <th>published_date</th>\n",
              "    </tr>\n",
              "  </thead>\n",
              "  <tbody>\n",
              "    <tr>\n",
              "      <th>0</th>\n",
              "      <td>0</td>\n",
              "      <td>Barracuda Brigade</td>\n",
              "      <td>2016-10-26 21:41:00+03:00</td>\n",
              "      <td>Muslims BUSTED: They Stole Millions In Gov’t B...</td>\n",
              "      <td>Print They should pay all the back all the mon...</td>\n",
              "      <td>english</td>\n",
              "      <td>2016-10-27T01:49:27.168+03:00</td>\n",
              "      <td>100percentfedup.com</td>\n",
              "      <td>US</td>\n",
              "      <td>25689.0</td>\n",
              "      <td>...</td>\n",
              "      <td>0.000</td>\n",
              "      <td>http://bb4sp.com/wp-content/uploads/2016/10/Fu...</td>\n",
              "      <td>0</td>\n",
              "      <td>1</td>\n",
              "      <td>0</td>\n",
              "      <td>0</td>\n",
              "      <td>0</td>\n",
              "      <td>bias</td>\n",
              "      <td>10</td>\n",
              "      <td>26</td>\n",
              "    </tr>\n",
              "    <tr>\n",
              "      <th>1</th>\n",
              "      <td>0</td>\n",
              "      <td>reasoning with facts</td>\n",
              "      <td>2016-10-29 08:47:11.259000+03:00</td>\n",
              "      <td>Re: Why Did Attorney General Loretta Lynch Ple...</td>\n",
              "      <td>Why Did Attorney General Loretta Lynch Plead T...</td>\n",
              "      <td>english</td>\n",
              "      <td>2016-10-29T08:47:11.259+03:00</td>\n",
              "      <td>100percentfedup.com</td>\n",
              "      <td>US</td>\n",
              "      <td>25689.0</td>\n",
              "      <td>...</td>\n",
              "      <td>0.000</td>\n",
              "      <td>http://bb4sp.com/wp-content/uploads/2016/10/Fu...</td>\n",
              "      <td>0</td>\n",
              "      <td>1</td>\n",
              "      <td>0</td>\n",
              "      <td>0</td>\n",
              "      <td>0</td>\n",
              "      <td>bias</td>\n",
              "      <td>10</td>\n",
              "      <td>29</td>\n",
              "    </tr>\n",
              "    <tr>\n",
              "      <th>2</th>\n",
              "      <td>0</td>\n",
              "      <td>Barracuda Brigade</td>\n",
              "      <td>2016-10-31 01:41:49.479000+02:00</td>\n",
              "      <td>BREAKING: Weiner Cooperating With FBI On Hilla...</td>\n",
              "      <td>Red State : \\nFox News Sunday reported this mo...</td>\n",
              "      <td>english</td>\n",
              "      <td>2016-10-31T01:41:49.479+02:00</td>\n",
              "      <td>100percentfedup.com</td>\n",
              "      <td>US</td>\n",
              "      <td>25689.0</td>\n",
              "      <td>...</td>\n",
              "      <td>0.000</td>\n",
              "      <td>http://bb4sp.com/wp-content/uploads/2016/10/Fu...</td>\n",
              "      <td>0</td>\n",
              "      <td>1</td>\n",
              "      <td>0</td>\n",
              "      <td>0</td>\n",
              "      <td>0</td>\n",
              "      <td>bias</td>\n",
              "      <td>10</td>\n",
              "      <td>31</td>\n",
              "    </tr>\n",
              "    <tr>\n",
              "      <th>3</th>\n",
              "      <td>0</td>\n",
              "      <td>Fed Up</td>\n",
              "      <td>2016-11-01 05:22:00+02:00</td>\n",
              "      <td>PIN DROP SPEECH BY FATHER OF DAUGHTER Kidnappe...</td>\n",
              "      <td>Email Kayla Mueller was a prisoner and torture...</td>\n",
              "      <td>english</td>\n",
              "      <td>2016-11-01T15:46:26.304+02:00</td>\n",
              "      <td>100percentfedup.com</td>\n",
              "      <td>US</td>\n",
              "      <td>25689.0</td>\n",
              "      <td>...</td>\n",
              "      <td>0.068</td>\n",
              "      <td>http://100percentfedup.com/wp-content/uploads/...</td>\n",
              "      <td>0</td>\n",
              "      <td>0</td>\n",
              "      <td>0</td>\n",
              "      <td>0</td>\n",
              "      <td>0</td>\n",
              "      <td>bias</td>\n",
              "      <td>11</td>\n",
              "      <td>1</td>\n",
              "    </tr>\n",
              "    <tr>\n",
              "      <th>4</th>\n",
              "      <td>0</td>\n",
              "      <td>Fed Up</td>\n",
              "      <td>2016-11-01 21:56:00+02:00</td>\n",
              "      <td>FANTASTIC! TRUMP'S 7 POINT PLAN To Reform Heal...</td>\n",
              "      <td>Email HEALTHCARE REFORM TO MAKE AMERICA GREAT ...</td>\n",
              "      <td>english</td>\n",
              "      <td>2016-11-01T23:59:42.266+02:00</td>\n",
              "      <td>100percentfedup.com</td>\n",
              "      <td>US</td>\n",
              "      <td>25689.0</td>\n",
              "      <td>...</td>\n",
              "      <td>0.865</td>\n",
              "      <td>http://100percentfedup.com/wp-content/uploads/...</td>\n",
              "      <td>0</td>\n",
              "      <td>0</td>\n",
              "      <td>0</td>\n",
              "      <td>0</td>\n",
              "      <td>0</td>\n",
              "      <td>bias</td>\n",
              "      <td>11</td>\n",
              "      <td>1</td>\n",
              "    </tr>\n",
              "  </tbody>\n",
              "</table>\n",
              "<p>5 rows × 21 columns</p>\n",
              "</div>"
            ],
            "text/plain": [
              "   ord_in_thread                author                         published  \\\n",
              "0              0     Barracuda Brigade         2016-10-26 21:41:00+03:00   \n",
              "1              0  reasoning with facts  2016-10-29 08:47:11.259000+03:00   \n",
              "2              0     Barracuda Brigade  2016-10-31 01:41:49.479000+02:00   \n",
              "3              0                Fed Up         2016-11-01 05:22:00+02:00   \n",
              "4              0                Fed Up         2016-11-01 21:56:00+02:00   \n",
              "\n",
              "                                               title  \\\n",
              "0  Muslims BUSTED: They Stole Millions In Gov’t B...   \n",
              "1  Re: Why Did Attorney General Loretta Lynch Ple...   \n",
              "2  BREAKING: Weiner Cooperating With FBI On Hilla...   \n",
              "3  PIN DROP SPEECH BY FATHER OF DAUGHTER Kidnappe...   \n",
              "4  FANTASTIC! TRUMP'S 7 POINT PLAN To Reform Heal...   \n",
              "\n",
              "                                                text language  \\\n",
              "0  Print They should pay all the back all the mon...  english   \n",
              "1  Why Did Attorney General Loretta Lynch Plead T...  english   \n",
              "2  Red State : \\nFox News Sunday reported this mo...  english   \n",
              "3  Email Kayla Mueller was a prisoner and torture...  english   \n",
              "4  Email HEALTHCARE REFORM TO MAKE AMERICA GREAT ...  english   \n",
              "\n",
              "                         crawled             site_url country  domain_rank  \\\n",
              "0  2016-10-27T01:49:27.168+03:00  100percentfedup.com      US      25689.0   \n",
              "1  2016-10-29T08:47:11.259+03:00  100percentfedup.com      US      25689.0   \n",
              "2  2016-10-31T01:41:49.479+02:00  100percentfedup.com      US      25689.0   \n",
              "3  2016-11-01T15:46:26.304+02:00  100percentfedup.com      US      25689.0   \n",
              "4  2016-11-01T23:59:42.266+02:00  100percentfedup.com      US      25689.0   \n",
              "\n",
              "   ... spam_score                                       main_img_url  \\\n",
              "0  ...      0.000  http://bb4sp.com/wp-content/uploads/2016/10/Fu...   \n",
              "1  ...      0.000  http://bb4sp.com/wp-content/uploads/2016/10/Fu...   \n",
              "2  ...      0.000  http://bb4sp.com/wp-content/uploads/2016/10/Fu...   \n",
              "3  ...      0.068  http://100percentfedup.com/wp-content/uploads/...   \n",
              "4  ...      0.865  http://100percentfedup.com/wp-content/uploads/...   \n",
              "\n",
              "  replies_count  participants_count  likes  comments  shares  type  \\\n",
              "0             0                   1      0         0       0  bias   \n",
              "1             0                   1      0         0       0  bias   \n",
              "2             0                   1      0         0       0  bias   \n",
              "3             0                   0      0         0       0  bias   \n",
              "4             0                   0      0         0       0  bias   \n",
              "\n",
              "  published_month  published_date  \n",
              "0              10              26  \n",
              "1              10              29  \n",
              "2              10              31  \n",
              "3              11               1  \n",
              "4              11               1  \n",
              "\n",
              "[5 rows x 21 columns]"
            ]
          },
          "metadata": {
            "tags": []
          },
          "execution_count": 25
        }
      ]
    },
    {
      "cell_type": "code",
      "metadata": {
        "id": "c8Es4mfNdYim",
        "scrolled": true,
        "outputId": "4c6d4797-3e3b-420d-fb49-0c6b714da45e"
      },
      "source": [
        "df1.head(5)"
      ],
      "execution_count": null,
      "outputs": [
        {
          "output_type": "execute_result",
          "data": {
            "text/html": [
              "<div>\n",
              "<style scoped>\n",
              "    .dataframe tbody tr th:only-of-type {\n",
              "        vertical-align: middle;\n",
              "    }\n",
              "\n",
              "    .dataframe tbody tr th {\n",
              "        vertical-align: top;\n",
              "    }\n",
              "\n",
              "    .dataframe thead th {\n",
              "        text-align: right;\n",
              "    }\n",
              "</style>\n",
              "<table border=\"1\" class=\"dataframe\">\n",
              "  <thead>\n",
              "    <tr style=\"text-align: right;\">\n",
              "      <th></th>\n",
              "      <th>ord_in_thread</th>\n",
              "      <th>author</th>\n",
              "      <th>published</th>\n",
              "      <th>title</th>\n",
              "      <th>text</th>\n",
              "      <th>language</th>\n",
              "      <th>crawled</th>\n",
              "      <th>site_url</th>\n",
              "      <th>country</th>\n",
              "      <th>domain_rank</th>\n",
              "      <th>...</th>\n",
              "      <th>spam_score</th>\n",
              "      <th>main_img_url</th>\n",
              "      <th>replies_count</th>\n",
              "      <th>participants_count</th>\n",
              "      <th>likes</th>\n",
              "      <th>comments</th>\n",
              "      <th>shares</th>\n",
              "      <th>type</th>\n",
              "      <th>published_month</th>\n",
              "      <th>published_date</th>\n",
              "    </tr>\n",
              "  </thead>\n",
              "  <tbody>\n",
              "    <tr>\n",
              "      <th>0</th>\n",
              "      <td>0</td>\n",
              "      <td>Barracuda Brigade</td>\n",
              "      <td>2016-10-26 21:41:00+03:00</td>\n",
              "      <td>Muslims BUSTED: They Stole Millions In Gov’t B...</td>\n",
              "      <td>Print They should pay all the back all the mon...</td>\n",
              "      <td>english</td>\n",
              "      <td>2016-10-27T01:49:27.168+03:00</td>\n",
              "      <td>100percentfedup.com</td>\n",
              "      <td>US</td>\n",
              "      <td>25689.0</td>\n",
              "      <td>...</td>\n",
              "      <td>0.000</td>\n",
              "      <td>http://bb4sp.com/wp-content/uploads/2016/10/Fu...</td>\n",
              "      <td>0</td>\n",
              "      <td>1</td>\n",
              "      <td>0</td>\n",
              "      <td>0</td>\n",
              "      <td>0</td>\n",
              "      <td>bias</td>\n",
              "      <td>10</td>\n",
              "      <td>26</td>\n",
              "    </tr>\n",
              "    <tr>\n",
              "      <th>1</th>\n",
              "      <td>0</td>\n",
              "      <td>reasoning with facts</td>\n",
              "      <td>2016-10-29 08:47:11.259000+03:00</td>\n",
              "      <td>Re: Why Did Attorney General Loretta Lynch Ple...</td>\n",
              "      <td>Why Did Attorney General Loretta Lynch Plead T...</td>\n",
              "      <td>english</td>\n",
              "      <td>2016-10-29T08:47:11.259+03:00</td>\n",
              "      <td>100percentfedup.com</td>\n",
              "      <td>US</td>\n",
              "      <td>25689.0</td>\n",
              "      <td>...</td>\n",
              "      <td>0.000</td>\n",
              "      <td>http://bb4sp.com/wp-content/uploads/2016/10/Fu...</td>\n",
              "      <td>0</td>\n",
              "      <td>1</td>\n",
              "      <td>0</td>\n",
              "      <td>0</td>\n",
              "      <td>0</td>\n",
              "      <td>bias</td>\n",
              "      <td>10</td>\n",
              "      <td>29</td>\n",
              "    </tr>\n",
              "    <tr>\n",
              "      <th>2</th>\n",
              "      <td>0</td>\n",
              "      <td>Barracuda Brigade</td>\n",
              "      <td>2016-10-31 01:41:49.479000+02:00</td>\n",
              "      <td>BREAKING: Weiner Cooperating With FBI On Hilla...</td>\n",
              "      <td>Red State : \\nFox News Sunday reported this mo...</td>\n",
              "      <td>english</td>\n",
              "      <td>2016-10-31T01:41:49.479+02:00</td>\n",
              "      <td>100percentfedup.com</td>\n",
              "      <td>US</td>\n",
              "      <td>25689.0</td>\n",
              "      <td>...</td>\n",
              "      <td>0.000</td>\n",
              "      <td>http://bb4sp.com/wp-content/uploads/2016/10/Fu...</td>\n",
              "      <td>0</td>\n",
              "      <td>1</td>\n",
              "      <td>0</td>\n",
              "      <td>0</td>\n",
              "      <td>0</td>\n",
              "      <td>bias</td>\n",
              "      <td>10</td>\n",
              "      <td>31</td>\n",
              "    </tr>\n",
              "    <tr>\n",
              "      <th>3</th>\n",
              "      <td>0</td>\n",
              "      <td>Fed Up</td>\n",
              "      <td>2016-11-01 05:22:00+02:00</td>\n",
              "      <td>PIN DROP SPEECH BY FATHER OF DAUGHTER Kidnappe...</td>\n",
              "      <td>Email Kayla Mueller was a prisoner and torture...</td>\n",
              "      <td>english</td>\n",
              "      <td>2016-11-01T15:46:26.304+02:00</td>\n",
              "      <td>100percentfedup.com</td>\n",
              "      <td>US</td>\n",
              "      <td>25689.0</td>\n",
              "      <td>...</td>\n",
              "      <td>0.068</td>\n",
              "      <td>http://100percentfedup.com/wp-content/uploads/...</td>\n",
              "      <td>0</td>\n",
              "      <td>0</td>\n",
              "      <td>0</td>\n",
              "      <td>0</td>\n",
              "      <td>0</td>\n",
              "      <td>bias</td>\n",
              "      <td>11</td>\n",
              "      <td>1</td>\n",
              "    </tr>\n",
              "    <tr>\n",
              "      <th>4</th>\n",
              "      <td>0</td>\n",
              "      <td>Fed Up</td>\n",
              "      <td>2016-11-01 21:56:00+02:00</td>\n",
              "      <td>FANTASTIC! TRUMP'S 7 POINT PLAN To Reform Heal...</td>\n",
              "      <td>Email HEALTHCARE REFORM TO MAKE AMERICA GREAT ...</td>\n",
              "      <td>english</td>\n",
              "      <td>2016-11-01T23:59:42.266+02:00</td>\n",
              "      <td>100percentfedup.com</td>\n",
              "      <td>US</td>\n",
              "      <td>25689.0</td>\n",
              "      <td>...</td>\n",
              "      <td>0.865</td>\n",
              "      <td>http://100percentfedup.com/wp-content/uploads/...</td>\n",
              "      <td>0</td>\n",
              "      <td>0</td>\n",
              "      <td>0</td>\n",
              "      <td>0</td>\n",
              "      <td>0</td>\n",
              "      <td>bias</td>\n",
              "      <td>11</td>\n",
              "      <td>1</td>\n",
              "    </tr>\n",
              "  </tbody>\n",
              "</table>\n",
              "<p>5 rows × 21 columns</p>\n",
              "</div>"
            ],
            "text/plain": [
              "   ord_in_thread                author                         published  \\\n",
              "0              0     Barracuda Brigade         2016-10-26 21:41:00+03:00   \n",
              "1              0  reasoning with facts  2016-10-29 08:47:11.259000+03:00   \n",
              "2              0     Barracuda Brigade  2016-10-31 01:41:49.479000+02:00   \n",
              "3              0                Fed Up         2016-11-01 05:22:00+02:00   \n",
              "4              0                Fed Up         2016-11-01 21:56:00+02:00   \n",
              "\n",
              "                                               title  \\\n",
              "0  Muslims BUSTED: They Stole Millions In Gov’t B...   \n",
              "1  Re: Why Did Attorney General Loretta Lynch Ple...   \n",
              "2  BREAKING: Weiner Cooperating With FBI On Hilla...   \n",
              "3  PIN DROP SPEECH BY FATHER OF DAUGHTER Kidnappe...   \n",
              "4  FANTASTIC! TRUMP'S 7 POINT PLAN To Reform Heal...   \n",
              "\n",
              "                                                text language  \\\n",
              "0  Print They should pay all the back all the mon...  english   \n",
              "1  Why Did Attorney General Loretta Lynch Plead T...  english   \n",
              "2  Red State : \\nFox News Sunday reported this mo...  english   \n",
              "3  Email Kayla Mueller was a prisoner and torture...  english   \n",
              "4  Email HEALTHCARE REFORM TO MAKE AMERICA GREAT ...  english   \n",
              "\n",
              "                         crawled             site_url country  domain_rank  \\\n",
              "0  2016-10-27T01:49:27.168+03:00  100percentfedup.com      US      25689.0   \n",
              "1  2016-10-29T08:47:11.259+03:00  100percentfedup.com      US      25689.0   \n",
              "2  2016-10-31T01:41:49.479+02:00  100percentfedup.com      US      25689.0   \n",
              "3  2016-11-01T15:46:26.304+02:00  100percentfedup.com      US      25689.0   \n",
              "4  2016-11-01T23:59:42.266+02:00  100percentfedup.com      US      25689.0   \n",
              "\n",
              "   ... spam_score                                       main_img_url  \\\n",
              "0  ...      0.000  http://bb4sp.com/wp-content/uploads/2016/10/Fu...   \n",
              "1  ...      0.000  http://bb4sp.com/wp-content/uploads/2016/10/Fu...   \n",
              "2  ...      0.000  http://bb4sp.com/wp-content/uploads/2016/10/Fu...   \n",
              "3  ...      0.068  http://100percentfedup.com/wp-content/uploads/...   \n",
              "4  ...      0.865  http://100percentfedup.com/wp-content/uploads/...   \n",
              "\n",
              "  replies_count  participants_count  likes  comments  shares  type  \\\n",
              "0             0                   1      0         0       0  bias   \n",
              "1             0                   1      0         0       0  bias   \n",
              "2             0                   1      0         0       0  bias   \n",
              "3             0                   0      0         0       0  bias   \n",
              "4             0                   0      0         0       0  bias   \n",
              "\n",
              "  published_month  published_date  \n",
              "0              10              26  \n",
              "1              10              29  \n",
              "2              10              31  \n",
              "3              11               1  \n",
              "4              11               1  \n",
              "\n",
              "[5 rows x 21 columns]"
            ]
          },
          "metadata": {
            "tags": []
          },
          "execution_count": 26
        }
      ]
    },
    {
      "cell_type": "code",
      "metadata": {
        "id": "Fz1m14s0dYim"
      },
      "source": [
        "df1['published_year']= df1['published'].apply(lambda x: x.year)"
      ],
      "execution_count": null,
      "outputs": []
    },
    {
      "cell_type": "code",
      "metadata": {
        "id": "-dDjwgCBdYin"
      },
      "source": [
        "df1['published_hour']= df1['published'].apply(lambda x: x.hour)"
      ],
      "execution_count": null,
      "outputs": []
    },
    {
      "cell_type": "code",
      "metadata": {
        "id": "F1jfMgXpdYio",
        "outputId": "32469c31-77f8-4c59-d214-75081326e732"
      },
      "source": [
        "df1['title'].value_counts()"
      ],
      "execution_count": null,
      "outputs": [
        {
          "output_type": "execute_result",
          "data": {
            "text/plain": [
              "Get Ready For Civil Unrest: Survey Finds That Most Americans Are Concerned About Election Violence              6\n",
              "Let’s Be Clear – A Vote For Warmonger Hillary Clinton Is A Vote For World War 3                                 5\n",
              "“If Trump Loses, I’m Grabbing My Musket”: Former Congressman Ready to Go Full Revolution                        5\n",
              "Will Barack Obama Delay Or Suspend The Election If Hillary Is Forced Out By The New FBI Email Investigation?    5\n",
              "If Hillary Clinton Is Charged With Obstruction Of Justice She Could Go To Prison For 20 Years                   5\n",
              "                                                                                                               ..\n",
              "Shilajit: The Ancient Yogic Superfood That Rebuilds Your Body                                                   1\n",
              "Huffington Post Continues Campaigning for Hillary Clinton                                                       1\n",
              "Britain, U.S. sending planes, troops to deter Russia in the east                                                1\n",
              "America’s Most Popular ‘Legal’ Drug is Responsible for 25% of ALL Cancer                                        1\n",
              "A Reader Refers Us To Englishman Pat Condell On Brexit, The Trump Election, And “America’s Moment Of Truth”     1\n",
              "Name: title, Length: 9404, dtype: int64"
            ]
          },
          "metadata": {
            "tags": []
          },
          "execution_count": 29
        }
      ]
    },
    {
      "cell_type": "code",
      "metadata": {
        "id": "04pPGKzidYio",
        "outputId": "87a3e957-16ec-44dc-ef4b-f0075eb6030c"
      },
      "source": [
        "len(df1['title'].value_counts())"
      ],
      "execution_count": null,
      "outputs": [
        {
          "output_type": "execute_result",
          "data": {
            "text/plain": [
              "9404"
            ]
          },
          "metadata": {
            "tags": []
          },
          "execution_count": 30
        }
      ]
    },
    {
      "cell_type": "code",
      "metadata": {
        "id": "bfGuLS_xdYip"
      },
      "source": [
        "df1 = df1.dropna(subset=['title','text'])"
      ],
      "execution_count": null,
      "outputs": []
    },
    {
      "cell_type": "code",
      "metadata": {
        "id": "dMTe0tWqdYip",
        "outputId": "fa0bb2b2-8f6c-41db-8cab-c851714ac683"
      },
      "source": [
        "df1['language'].value_counts()"
      ],
      "execution_count": null,
      "outputs": [
        {
          "output_type": "execute_result",
          "data": {
            "text/plain": [
              "english       9514\n",
              "spanish        146\n",
              "german         108\n",
              "russian         58\n",
              "french          27\n",
              "turkish          9\n",
              "italian          7\n",
              "ignore           7\n",
              "arabic           5\n",
              "portuguese       5\n",
              "norwegian        3\n",
              "greek            2\n",
              "finnish          1\n",
              "chinese          1\n",
              "polish           1\n",
              "dutch            1\n",
              "Name: language, dtype: int64"
            ]
          },
          "metadata": {
            "tags": []
          },
          "execution_count": 32
        }
      ]
    },
    {
      "cell_type": "code",
      "metadata": {
        "id": "IROdKb6RdYiq",
        "outputId": "2a49984d-27fe-4604-87e0-06663ab8ac35"
      },
      "source": [
        "df1['language'].hist(grid=False,figsize=(5,4),rwidth=0.9,color='r',xrot=90)\n",
        "plt.tight_layout()"
      ],
      "execution_count": null,
      "outputs": [
        {
          "output_type": "display_data",
          "data": {
            "image/png": "[encoded data removed]",
            "text/plain": [
              "<Figure size 360x288 with 1 Axes>"
            ]
          },
          "metadata": {
            "tags": [],
            "needs_background": "light"
          }
        }
      ]
    },
    {
      "cell_type": "markdown",
      "metadata": {
        "id": "lIJn30y3hY5I"
      },
      "source": [
        "**Most of the texts are in English**"
      ]
    },
    {
      "cell_type": "code",
      "metadata": {
        "id": "ExoGs34TdYir"
      },
      "source": [
        "df1['crawled']= pd.to_datetime(df1['crawled'])"
      ],
      "execution_count": null,
      "outputs": []
    },
    {
      "cell_type": "code",
      "metadata": {
        "id": "CaWP0LixdYiu"
      },
      "source": [
        "df1['crawled_month']= df1['crawled'].apply(lambda x: x.month)"
      ],
      "execution_count": null,
      "outputs": []
    },
    {
      "cell_type": "code",
      "metadata": {
        "id": "EjvxtV4TdYiu"
      },
      "source": [
        "df1['crawled_year']= df1['crawled'].apply(lambda x: x.year)"
      ],
      "execution_count": null,
      "outputs": []
    },
    {
      "cell_type": "code",
      "metadata": {
        "id": "WtNsnbpPdYiv"
      },
      "source": [
        "df1['crawled_hour']= df1['crawled'].apply(lambda x: x.hour)"
      ],
      "execution_count": null,
      "outputs": []
    },
    {
      "cell_type": "code",
      "metadata": {
        "id": "9Yw665aadYiv"
      },
      "source": [
        "df1['crawled_date']=df1['crawled'].apply(lambda x: x.day)"
      ],
      "execution_count": null,
      "outputs": []
    },
    {
      "cell_type": "code",
      "metadata": {
        "id": "8P2amvpTdYiv",
        "outputId": "63a6eba4-a7a4-4354-e003-ced2f4c2907a"
      },
      "source": [
        "df1.head(1)"
      ],
      "execution_count": null,
      "outputs": [
        {
          "output_type": "execute_result",
          "data": {
            "text/html": [
              "<div>\n",
              "<style scoped>\n",
              "    .dataframe tbody tr th:only-of-type {\n",
              "        vertical-align: middle;\n",
              "    }\n",
              "\n",
              "    .dataframe tbody tr th {\n",
              "        vertical-align: top;\n",
              "    }\n",
              "\n",
              "    .dataframe thead th {\n",
              "        text-align: right;\n",
              "    }\n",
              "</style>\n",
              "<table border=\"1\" class=\"dataframe\">\n",
              "  <thead>\n",
              "    <tr style=\"text-align: right;\">\n",
              "      <th></th>\n",
              "      <th>ord_in_thread</th>\n",
              "      <th>author</th>\n",
              "      <th>published</th>\n",
              "      <th>title</th>\n",
              "      <th>text</th>\n",
              "      <th>language</th>\n",
              "      <th>crawled</th>\n",
              "      <th>site_url</th>\n",
              "      <th>country</th>\n",
              "      <th>domain_rank</th>\n",
              "      <th>...</th>\n",
              "      <th>shares</th>\n",
              "      <th>type</th>\n",
              "      <th>published_month</th>\n",
              "      <th>published_date</th>\n",
              "      <th>published_year</th>\n",
              "      <th>published_hour</th>\n",
              "      <th>crawled_month</th>\n",
              "      <th>crawled_year</th>\n",
              "      <th>crawled_hour</th>\n",
              "      <th>crawled_date</th>\n",
              "    </tr>\n",
              "  </thead>\n",
              "  <tbody>\n",
              "    <tr>\n",
              "      <th>0</th>\n",
              "      <td>0</td>\n",
              "      <td>Barracuda Brigade</td>\n",
              "      <td>2016-10-26 21:41:00+03:00</td>\n",
              "      <td>Muslims BUSTED: They Stole Millions In Gov’t B...</td>\n",
              "      <td>Print They should pay all the back all the mon...</td>\n",
              "      <td>english</td>\n",
              "      <td>2016-10-27 01:49:27.168000+03:00</td>\n",
              "      <td>100percentfedup.com</td>\n",
              "      <td>US</td>\n",
              "      <td>25689.0</td>\n",
              "      <td>...</td>\n",
              "      <td>0</td>\n",
              "      <td>bias</td>\n",
              "      <td>10</td>\n",
              "      <td>26</td>\n",
              "      <td>2016</td>\n",
              "      <td>21</td>\n",
              "      <td>10</td>\n",
              "      <td>2016</td>\n",
              "      <td>1</td>\n",
              "      <td>27</td>\n",
              "    </tr>\n",
              "  </tbody>\n",
              "</table>\n",
              "<p>1 rows × 27 columns</p>\n",
              "</div>"
            ],
            "text/plain": [
              "   ord_in_thread             author                  published  \\\n",
              "0              0  Barracuda Brigade  2016-10-26 21:41:00+03:00   \n",
              "\n",
              "                                               title  \\\n",
              "0  Muslims BUSTED: They Stole Millions In Gov’t B...   \n",
              "\n",
              "                                                text language  \\\n",
              "0  Print They should pay all the back all the mon...  english   \n",
              "\n",
              "                            crawled             site_url country  domain_rank  \\\n",
              "0  2016-10-27 01:49:27.168000+03:00  100percentfedup.com      US      25689.0   \n",
              "\n",
              "   ... shares  type published_month  published_date  published_year  \\\n",
              "0  ...      0  bias              10              26            2016   \n",
              "\n",
              "   published_hour  crawled_month  crawled_year crawled_hour  crawled_date  \n",
              "0              21             10          2016            1            27  \n",
              "\n",
              "[1 rows x 27 columns]"
            ]
          },
          "metadata": {
            "tags": []
          },
          "execution_count": 39
        }
      ]
    },
    {
      "cell_type": "code",
      "metadata": {
        "id": "-SQ_f4RudYiw",
        "outputId": "322d4324-645e-4737-fadf-fe8334afb79e"
      },
      "source": [
        "df1['published_month'].describe()"
      ],
      "execution_count": null,
      "outputs": [
        {
          "output_type": "execute_result",
          "data": {
            "text/plain": [
              "count    9895.000000\n",
              "mean       10.520061\n",
              "std         0.499623\n",
              "min        10.000000\n",
              "25%        10.000000\n",
              "50%        11.000000\n",
              "75%        11.000000\n",
              "max        11.000000\n",
              "Name: published_month, dtype: float64"
            ]
          },
          "metadata": {
            "tags": []
          },
          "execution_count": 40
        }
      ]
    },
    {
      "cell_type": "code",
      "metadata": {
        "id": "jpL8dWbOdYix",
        "outputId": "e177ae5f-3c23-4f98-b7fd-50239d82907d"
      },
      "source": [
        "df1['site_url']"
      ],
      "execution_count": null,
      "outputs": [
        {
          "output_type": "execute_result",
          "data": {
            "text/plain": [
              "0        100percentfedup.com\n",
              "1        100percentfedup.com\n",
              "2        100percentfedup.com\n",
              "3        100percentfedup.com\n",
              "4        100percentfedup.com\n",
              "                ...         \n",
              "12907          zerohedge.com\n",
              "12909          zerohedge.com\n",
              "12910          zerohedge.com\n",
              "12911          zerohedge.com\n",
              "12912          zerohedge.com\n",
              "Name: site_url, Length: 9895, dtype: object"
            ]
          },
          "metadata": {
            "tags": []
          },
          "execution_count": 41
        }
      ]
    },
    {
      "cell_type": "code",
      "metadata": {
        "id": "7FSYsA7NdYix",
        "outputId": "b930ac9f-d568-44b0-fca4-bb9862d53fdb"
      },
      "source": [
        "df1['site_url'].value_counts()"
      ],
      "execution_count": null,
      "outputs": [
        {
          "output_type": "execute_result",
          "data": {
            "text/plain": [
              "greanvillepost.com          100\n",
              "thefederalistpapers.org     100\n",
              "returnofkings.com           100\n",
              "infowars.com                100\n",
              "jewsnews.co.il              100\n",
              "                           ... \n",
              "theonion.com                  1\n",
              "blacklistednews.com           1\n",
              "bigbluevision.org             1\n",
              "reductress.com                1\n",
              "educateinspirechange.org      1\n",
              "Name: site_url, Length: 183, dtype: int64"
            ]
          },
          "metadata": {
            "tags": []
          },
          "execution_count": 42
        }
      ]
    },
    {
      "cell_type": "code",
      "metadata": {
        "id": "Da1LPvDEdYiy"
      },
      "source": [
        "df1['site_name']= df1['site_url'].apply(lambda x: x.split('.')[0])"
      ],
      "execution_count": null,
      "outputs": []
    },
    {
      "cell_type": "markdown",
      "metadata": {
        "id": "5q59pm88hgUx"
      },
      "source": [
        "**Removing extension**"
      ]
    },
    {
      "cell_type": "code",
      "metadata": {
        "id": "eAY8vl14dYiy",
        "outputId": "6dcc1799-a7ce-4460-ec55-71fc1649b38f"
      },
      "source": [
        "df1.head(1)"
      ],
      "execution_count": null,
      "outputs": [
        {
          "output_type": "execute_result",
          "data": {
            "text/html": [
              "<div>\n",
              "<style scoped>\n",
              "    .dataframe tbody tr th:only-of-type {\n",
              "        vertical-align: middle;\n",
              "    }\n",
              "\n",
              "    .dataframe tbody tr th {\n",
              "        vertical-align: top;\n",
              "    }\n",
              "\n",
              "    .dataframe thead th {\n",
              "        text-align: right;\n",
              "    }\n",
              "</style>\n",
              "<table border=\"1\" class=\"dataframe\">\n",
              "  <thead>\n",
              "    <tr style=\"text-align: right;\">\n",
              "      <th></th>\n",
              "      <th>ord_in_thread</th>\n",
              "      <th>author</th>\n",
              "      <th>published</th>\n",
              "      <th>title</th>\n",
              "      <th>text</th>\n",
              "      <th>language</th>\n",
              "      <th>crawled</th>\n",
              "      <th>site_url</th>\n",
              "      <th>country</th>\n",
              "      <th>domain_rank</th>\n",
              "      <th>...</th>\n",
              "      <th>type</th>\n",
              "      <th>published_month</th>\n",
              "      <th>published_date</th>\n",
              "      <th>published_year</th>\n",
              "      <th>published_hour</th>\n",
              "      <th>crawled_month</th>\n",
              "      <th>crawled_year</th>\n",
              "      <th>crawled_hour</th>\n",
              "      <th>crawled_date</th>\n",
              "      <th>site_name</th>\n",
              "    </tr>\n",
              "  </thead>\n",
              "  <tbody>\n",
              "    <tr>\n",
              "      <th>0</th>\n",
              "      <td>0</td>\n",
              "      <td>Barracuda Brigade</td>\n",
              "      <td>2016-10-26 21:41:00+03:00</td>\n",
              "      <td>Muslims BUSTED: They Stole Millions In Gov’t B...</td>\n",
              "      <td>Print They should pay all the back all the mon...</td>\n",
              "      <td>english</td>\n",
              "      <td>2016-10-27 01:49:27.168000+03:00</td>\n",
              "      <td>100percentfedup.com</td>\n",
              "      <td>US</td>\n",
              "      <td>25689.0</td>\n",
              "      <td>...</td>\n",
              "      <td>bias</td>\n",
              "      <td>10</td>\n",
              "      <td>26</td>\n",
              "      <td>2016</td>\n",
              "      <td>21</td>\n",
              "      <td>10</td>\n",
              "      <td>2016</td>\n",
              "      <td>1</td>\n",
              "      <td>27</td>\n",
              "      <td>100percentfedup</td>\n",
              "    </tr>\n",
              "  </tbody>\n",
              "</table>\n",
              "<p>1 rows × 28 columns</p>\n",
              "</div>"
            ],
            "text/plain": [
              "   ord_in_thread             author                  published  \\\n",
              "0              0  Barracuda Brigade  2016-10-26 21:41:00+03:00   \n",
              "\n",
              "                                               title  \\\n",
              "0  Muslims BUSTED: They Stole Millions In Gov’t B...   \n",
              "\n",
              "                                                text language  \\\n",
              "0  Print They should pay all the back all the mon...  english   \n",
              "\n",
              "                            crawled             site_url country  domain_rank  \\\n",
              "0  2016-10-27 01:49:27.168000+03:00  100percentfedup.com      US      25689.0   \n",
              "\n",
              "   ...  type  published_month published_date  published_year  published_hour  \\\n",
              "0  ...  bias               10             26            2016              21   \n",
              "\n",
              "   crawled_month  crawled_year  crawled_hour crawled_date        site_name  \n",
              "0             10          2016             1           27  100percentfedup  \n",
              "\n",
              "[1 rows x 28 columns]"
            ]
          },
          "metadata": {
            "tags": []
          },
          "execution_count": 44
        }
      ]
    },
    {
      "cell_type": "code",
      "metadata": {
        "id": "HBqhb4PddYiz"
      },
      "source": [
        "df1 = df1.drop('site_url',axis=1)"
      ],
      "execution_count": null,
      "outputs": []
    },
    {
      "cell_type": "code",
      "metadata": {
        "id": "foMiEo6JdYiz"
      },
      "source": [
        "df1 = df1.dropna(subset=['country'])"
      ],
      "execution_count": null,
      "outputs": []
    },
    {
      "cell_type": "code",
      "metadata": {
        "id": "NQ902rNRdYi0",
        "outputId": "a56c38fb-208f-4b01-a66c-395d4903d815"
      },
      "source": [
        "df1['country'].unique()"
      ],
      "execution_count": null,
      "outputs": [
        {
          "output_type": "execute_result",
          "data": {
            "text/plain": [
              "array(['US', 'CO', 'DE', 'EU', 'NL', 'GB', 'ME', 'ES', 'RU', 'CA', 'IN',\n",
              "       'TV', 'FR', 'SE', 'ZA', 'IS', 'BG'], dtype=object)"
            ]
          },
          "metadata": {
            "tags": []
          },
          "execution_count": 47
        }
      ]
    },
    {
      "cell_type": "code",
      "metadata": {
        "id": "tkLsKNyDdYi0",
        "outputId": "41802d00-4d5d-4d16-fcc5-b84ea11323de"
      },
      "source": [
        "df1['country'].hist(grid=False,rwidth=0.8,color='g',bins=17)"
      ],
      "execution_count": null,
      "outputs": [
        {
          "output_type": "execute_result",
          "data": {
            "text/plain": [
              "<matplotlib.axes._subplots.AxesSubplot at 0x270f5cd3a08>"
            ]
          },
          "metadata": {
            "tags": []
          },
          "execution_count": 48
        },
        {
          "output_type": "display_data",
          "data": {
            "image/png": "[encoded data removed]",
            "text/plain": [
              "<Figure size 432x288 with 1 Axes>"
            ]
          },
          "metadata": {
            "tags": [],
            "needs_background": "light"
          }
        }
      ]
    },
    {
      "cell_type": "markdown",
      "metadata": {
        "id": "VvL0dsWzhoUH"
      },
      "source": [
        "**The country with highest number of values is US**"
      ]
    },
    {
      "cell_type": "code",
      "metadata": {
        "id": "0xNkaBLgdYi1",
        "outputId": "fdfafb6e-4058-4ebd-8ed1-42935434c3c0"
      },
      "source": [
        "df1['domain_rank'].nunique()"
      ],
      "execution_count": null,
      "outputs": [
        {
          "output_type": "execute_result",
          "data": {
            "text/plain": [
              "102"
            ]
          },
          "metadata": {
            "tags": []
          },
          "execution_count": 49
        }
      ]
    },
    {
      "cell_type": "code",
      "metadata": {
        "id": "5fLvf6GAdYi1"
      },
      "source": [
        "df1= df1.dropna(subset=['thread_title'])"
      ],
      "execution_count": null,
      "outputs": []
    },
    {
      "cell_type": "markdown",
      "metadata": {
        "id": "o41wZw0JhtOE"
      },
      "source": [
        "**Removes null values in thread title**"
      ]
    },
    {
      "cell_type": "code",
      "metadata": {
        "id": "-3UrE9k1dYi2",
        "outputId": "2708d78a-fef6-4630-cfa2-f063bd4b7e7d"
      },
      "source": [
        "df1['thread_title'].unique()"
      ],
      "execution_count": null,
      "outputs": [
        {
          "output_type": "execute_result",
          "data": {
            "text/plain": [
              "array(['Muslims BUSTED: They Stole Millions In Gov’t Benefits',\n",
              "       'Re: Why Did Attorney General Loretta Lynch Plead The Fifth?',\n",
              "       'BREAKING: Weiner Cooperating With FBI On Hillary Email Investigation',\n",
              "       ..., 'Rules For Rulers (Or How The World Really Works)',\n",
              "       'Caught On Tape: ISIS Destroys Iraqi Abrams With Anti-Tank Missile',\n",
              "       'ObamaCare Architect Admits \"The Law Is Working As Designed\" As Premiums Spike'],\n",
              "      dtype=object)"
            ]
          },
          "metadata": {
            "tags": []
          },
          "execution_count": 51
        }
      ]
    },
    {
      "cell_type": "code",
      "metadata": {
        "id": "BoRgYgO7dYi2",
        "outputId": "87a2f09d-292c-4e83-fa73-658598846ff1"
      },
      "source": [
        "df1['spam_score'].describe()"
      ],
      "execution_count": null,
      "outputs": [
        {
          "output_type": "execute_result",
          "data": {
            "text/plain": [
              "count    9809.000000\n",
              "mean        0.014846\n",
              "std         0.096256\n",
              "min         0.000000\n",
              "25%         0.000000\n",
              "50%         0.000000\n",
              "75%         0.000000\n",
              "max         1.000000\n",
              "Name: spam_score, dtype: float64"
            ]
          },
          "metadata": {
            "tags": []
          },
          "execution_count": 52
        }
      ]
    },
    {
      "cell_type": "code",
      "metadata": {
        "id": "WfyC4IfsdYi3",
        "outputId": "e85d698c-956a-419d-9e19-eae27cc89e41"
      },
      "source": [
        "df1['spam_score'].plot(color='g',kind='line',grid=True)"
      ],
      "execution_count": null,
      "outputs": [
        {
          "output_type": "execute_result",
          "data": {
            "text/plain": [
              "<matplotlib.axes._subplots.AxesSubplot at 0x270f5ef6748>"
            ]
          },
          "metadata": {
            "tags": []
          },
          "execution_count": 53
        },
        {
          "output_type": "display_data",
          "data": {
            "image/png": "[encoded data removed]",
            "text/plain": [
              "<Figure size 432x288 with 1 Axes>"
            ]
          },
          "metadata": {
            "tags": [],
            "needs_background": "light"
          }
        }
      ]
    },
    {
      "cell_type": "code",
      "metadata": {
        "id": "I8MoV6cQdYi4",
        "outputId": "5f12d6b5-8cb1-4bee-dc88-fb1291f043a1"
      },
      "source": [
        "df1['main_img_url'].nunique()"
      ],
      "execution_count": null,
      "outputs": [
        {
          "output_type": "execute_result",
          "data": {
            "text/plain": [
              "5483"
            ]
          },
          "metadata": {
            "tags": []
          },
          "execution_count": 54
        }
      ]
    },
    {
      "cell_type": "code",
      "metadata": {
        "id": "DhZkkzb6dYi5"
      },
      "source": [
        "df1 = df1.drop('main_img_url',axis=1)"
      ],
      "execution_count": null,
      "outputs": []
    },
    {
      "cell_type": "markdown",
      "metadata": {
        "id": "MvJLU9Sdhz-e"
      },
      "source": [
        "**main_img_url has no contribution**"
      ]
    },
    {
      "cell_type": "code",
      "metadata": {
        "id": "gdYyTARcdYi5",
        "outputId": "ef88273b-a8c4-42ee-c828-0c43d0270c3b"
      },
      "source": [
        "df1.head(1)"
      ],
      "execution_count": null,
      "outputs": [
        {
          "output_type": "execute_result",
          "data": {
            "text/html": [
              "<div>\n",
              "<style scoped>\n",
              "    .dataframe tbody tr th:only-of-type {\n",
              "        vertical-align: middle;\n",
              "    }\n",
              "\n",
              "    .dataframe tbody tr th {\n",
              "        vertical-align: top;\n",
              "    }\n",
              "\n",
              "    .dataframe thead th {\n",
              "        text-align: right;\n",
              "    }\n",
              "</style>\n",
              "<table border=\"1\" class=\"dataframe\">\n",
              "  <thead>\n",
              "    <tr style=\"text-align: right;\">\n",
              "      <th></th>\n",
              "      <th>ord_in_thread</th>\n",
              "      <th>author</th>\n",
              "      <th>published</th>\n",
              "      <th>title</th>\n",
              "      <th>text</th>\n",
              "      <th>language</th>\n",
              "      <th>crawled</th>\n",
              "      <th>country</th>\n",
              "      <th>domain_rank</th>\n",
              "      <th>thread_title</th>\n",
              "      <th>...</th>\n",
              "      <th>type</th>\n",
              "      <th>published_month</th>\n",
              "      <th>published_date</th>\n",
              "      <th>published_year</th>\n",
              "      <th>published_hour</th>\n",
              "      <th>crawled_month</th>\n",
              "      <th>crawled_year</th>\n",
              "      <th>crawled_hour</th>\n",
              "      <th>crawled_date</th>\n",
              "      <th>site_name</th>\n",
              "    </tr>\n",
              "  </thead>\n",
              "  <tbody>\n",
              "    <tr>\n",
              "      <th>0</th>\n",
              "      <td>0</td>\n",
              "      <td>Barracuda Brigade</td>\n",
              "      <td>2016-10-26 21:41:00+03:00</td>\n",
              "      <td>Muslims BUSTED: They Stole Millions In Gov’t B...</td>\n",
              "      <td>Print They should pay all the back all the mon...</td>\n",
              "      <td>english</td>\n",
              "      <td>2016-10-27 01:49:27.168000+03:00</td>\n",
              "      <td>US</td>\n",
              "      <td>25689.0</td>\n",
              "      <td>Muslims BUSTED: They Stole Millions In Gov’t B...</td>\n",
              "      <td>...</td>\n",
              "      <td>bias</td>\n",
              "      <td>10</td>\n",
              "      <td>26</td>\n",
              "      <td>2016</td>\n",
              "      <td>21</td>\n",
              "      <td>10</td>\n",
              "      <td>2016</td>\n",
              "      <td>1</td>\n",
              "      <td>27</td>\n",
              "      <td>100percentfedup</td>\n",
              "    </tr>\n",
              "  </tbody>\n",
              "</table>\n",
              "<p>1 rows × 26 columns</p>\n",
              "</div>"
            ],
            "text/plain": [
              "   ord_in_thread             author                  published  \\\n",
              "0              0  Barracuda Brigade  2016-10-26 21:41:00+03:00   \n",
              "\n",
              "                                               title  \\\n",
              "0  Muslims BUSTED: They Stole Millions In Gov’t B...   \n",
              "\n",
              "                                                text language  \\\n",
              "0  Print They should pay all the back all the mon...  english   \n",
              "\n",
              "                            crawled country  domain_rank  \\\n",
              "0  2016-10-27 01:49:27.168000+03:00      US      25689.0   \n",
              "\n",
              "                                        thread_title  ...  type  \\\n",
              "0  Muslims BUSTED: They Stole Millions In Gov’t B...  ...  bias   \n",
              "\n",
              "   published_month  published_date  published_year  published_hour  \\\n",
              "0               10              26            2016              21   \n",
              "\n",
              "   crawled_month crawled_year  crawled_hour  crawled_date        site_name  \n",
              "0             10         2016             1            27  100percentfedup  \n",
              "\n",
              "[1 rows x 26 columns]"
            ]
          },
          "metadata": {
            "tags": []
          },
          "execution_count": 56
        }
      ]
    },
    {
      "cell_type": "code",
      "metadata": {
        "id": "FwLEvXG2dYi6",
        "outputId": "39bea953-a17f-44e5-c426-770d3275590d"
      },
      "source": [
        "df1.isnull().sum(axis=0)"
      ],
      "execution_count": null,
      "outputs": [
        {
          "output_type": "execute_result",
          "data": {
            "text/plain": [
              "ord_in_thread            0\n",
              "author                   0\n",
              "published                0\n",
              "title                    0\n",
              "text                     0\n",
              "language                 0\n",
              "crawled                  0\n",
              "country                  0\n",
              "domain_rank           3557\n",
              "thread_title             0\n",
              "spam_score               0\n",
              "replies_count            0\n",
              "participants_count       0\n",
              "likes                    0\n",
              "comments                 0\n",
              "shares                   0\n",
              "type                     0\n",
              "published_month          0\n",
              "published_date           0\n",
              "published_year           0\n",
              "published_hour           0\n",
              "crawled_month            0\n",
              "crawled_year             0\n",
              "crawled_hour             0\n",
              "crawled_date             0\n",
              "site_name                0\n",
              "dtype: int64"
            ]
          },
          "metadata": {
            "tags": []
          },
          "execution_count": 57
        }
      ]
    },
    {
      "cell_type": "code",
      "metadata": {
        "id": "hNSgx5kmdYi6",
        "outputId": "46665a21-9750-4a38-938e-6a082927d7b5"
      },
      "source": [
        "df1['replies_count'].value_counts()"
      ],
      "execution_count": null,
      "outputs": [
        {
          "output_type": "execute_result",
          "data": {
            "text/plain": [
              "0     9791\n",
              "1       10\n",
              "5        2\n",
              "4        2\n",
              "2        2\n",
              "6        1\n",
              "17       1\n",
              "Name: replies_count, dtype: int64"
            ]
          },
          "metadata": {
            "tags": []
          },
          "execution_count": 58
        }
      ]
    },
    {
      "cell_type": "code",
      "metadata": {
        "id": "1Y28XGK3dYi7",
        "outputId": "f9bcf9e8-277f-43c7-f580-2204b0c87fd4"
      },
      "source": [
        "df1['replies_count'].describe()"
      ],
      "execution_count": null,
      "outputs": [
        {
          "output_type": "execute_result",
          "data": {
            "text/plain": [
              "count    9809.000000\n",
              "mean        0.005607\n",
              "std         0.208088\n",
              "min         0.000000\n",
              "25%         0.000000\n",
              "50%         0.000000\n",
              "75%         0.000000\n",
              "max        17.000000\n",
              "Name: replies_count, dtype: float64"
            ]
          },
          "metadata": {
            "tags": []
          },
          "execution_count": 59
        }
      ]
    },
    {
      "cell_type": "code",
      "metadata": {
        "id": "ZOobsI8_dYi8",
        "outputId": "4f0e24b5-9bb6-4c91-947c-d667ac39e0f0"
      },
      "source": [
        "df1['replies_count'].plot(c='g')"
      ],
      "execution_count": null,
      "outputs": [
        {
          "output_type": "execute_result",
          "data": {
            "text/plain": [
              "<matplotlib.axes._subplots.AxesSubplot at 0x270f5ea2c88>"
            ]
          },
          "metadata": {
            "tags": []
          },
          "execution_count": 60
        },
        {
          "output_type": "display_data",
          "data": {
            "image/png": "[encoded data removed]",
            "text/plain": [
              "<Figure size 432x288 with 1 Axes>"
            ]
          },
          "metadata": {
            "tags": [],
            "needs_background": "light"
          }
        }
      ]
    },
    {
      "cell_type": "markdown",
      "metadata": {
        "id": "OM-y5gZKh5--"
      },
      "source": [
        "**Very few posts with high replies count**"
      ]
    },
    {
      "cell_type": "code",
      "metadata": {
        "id": "QaEdNRoDdYi8",
        "outputId": "105d80b6-0440-4ba5-b9eb-8cdea55aa004"
      },
      "source": [
        "df1['participants_count'].value_counts()"
      ],
      "execution_count": null,
      "outputs": [
        {
          "output_type": "execute_result",
          "data": {
            "text/plain": [
              "1     9379\n",
              "0      415\n",
              "2        9\n",
              "5        3\n",
              "3        2\n",
              "15       1\n",
              "Name: participants_count, dtype: int64"
            ]
          },
          "metadata": {
            "tags": []
          },
          "execution_count": 61
        }
      ]
    },
    {
      "cell_type": "code",
      "metadata": {
        "id": "qT-NOl2udYi9",
        "outputId": "d752a083-7770-43d2-b2dc-03607b6054d0"
      },
      "source": [
        "df1['participants_count'].describe()"
      ],
      "execution_count": null,
      "outputs": [
        {
          "output_type": "execute_result",
          "data": {
            "text/plain": [
              "count    9809.000000\n",
              "mean        0.961668\n",
              "std         0.259719\n",
              "min         0.000000\n",
              "25%         1.000000\n",
              "50%         1.000000\n",
              "75%         1.000000\n",
              "max        15.000000\n",
              "Name: participants_count, dtype: float64"
            ]
          },
          "metadata": {
            "tags": []
          },
          "execution_count": 62
        }
      ]
    },
    {
      "cell_type": "code",
      "metadata": {
        "id": "QtqEU5xHdYjB",
        "outputId": "6d75c19b-3150-4732-ec45-7bce01650b9c"
      },
      "source": [
        "df1['participants_count'].plot()"
      ],
      "execution_count": null,
      "outputs": [
        {
          "output_type": "execute_result",
          "data": {
            "text/plain": [
              "<matplotlib.axes._subplots.AxesSubplot at 0x270f5fb94c8>"
            ]
          },
          "metadata": {
            "tags": []
          },
          "execution_count": 63
        },
        {
          "output_type": "display_data",
          "data": {
            "image/png": "[encoded data removed]",
            "text/plain": [
              "<Figure size 432x288 with 1 Axes>"
            ]
          },
          "metadata": {
            "tags": [],
            "needs_background": "light"
          }
        }
      ]
    },
    {
      "cell_type": "code",
      "metadata": {
        "id": "VzDt1lA3dYjB",
        "outputId": "14f13c41-e9fc-424f-f6d5-c37b27d7463b"
      },
      "source": [
        "df1['likes'].value_counts()"
      ],
      "execution_count": null,
      "outputs": [
        {
          "output_type": "execute_result",
          "data": {
            "text/plain": [
              "0      9479\n",
              "3         9\n",
              "1         8\n",
              "2         5\n",
              "12        5\n",
              "       ... \n",
              "23        1\n",
              "931       1\n",
              "959       1\n",
              "699       1\n",
              "891       1\n",
              "Name: likes, Length: 231, dtype: int64"
            ]
          },
          "metadata": {
            "tags": []
          },
          "execution_count": 64
        }
      ]
    },
    {
      "cell_type": "code",
      "metadata": {
        "id": "NkUQRCswdYjC",
        "outputId": "83c2bf45-e940-4959-f2c9-e952fbb7bc70"
      },
      "source": [
        "df1['likes'].describe()"
      ],
      "execution_count": null,
      "outputs": [
        {
          "output_type": "execute_result",
          "data": {
            "text/plain": [
              "count    9809.000000\n",
              "mean        9.856254\n",
              "std        76.485812\n",
              "min         0.000000\n",
              "25%         0.000000\n",
              "50%         0.000000\n",
              "75%         0.000000\n",
              "max       988.000000\n",
              "Name: likes, dtype: float64"
            ]
          },
          "metadata": {
            "tags": []
          },
          "execution_count": 65
        }
      ]
    },
    {
      "cell_type": "code",
      "metadata": {
        "id": "y7YWOyiddYjC",
        "outputId": "e9c614be-ebd6-41ab-ae01-160372515ffb"
      },
      "source": [
        "df1['likes'].plot(c='r')"
      ],
      "execution_count": null,
      "outputs": [
        {
          "output_type": "execute_result",
          "data": {
            "text/plain": [
              "<matplotlib.axes._subplots.AxesSubplot at 0x270f60333c8>"
            ]
          },
          "metadata": {
            "tags": []
          },
          "execution_count": 66
        },
        {
          "output_type": "display_data",
          "data": {
            "image/png": "[encoded data removed]",
            "text/plain": [
              "<Figure size 432x288 with 1 Axes>"
            ]
          },
          "metadata": {
            "tags": [],
            "needs_background": "light"
          }
        }
      ]
    },
    {
      "cell_type": "markdown",
      "metadata": {
        "id": "jMayOQyDiBCl"
      },
      "source": [
        "**Shows posts with high likes count**"
      ]
    },
    {
      "cell_type": "code",
      "metadata": {
        "id": "wEE9AQRLdYjD"
      },
      "source": [
        "c=df1['comments'].value_counts()"
      ],
      "execution_count": null,
      "outputs": []
    },
    {
      "cell_type": "code",
      "metadata": {
        "id": "fs6gYyUydYjD",
        "outputId": "6c0bf5e4-17dd-4977-b9af-2e653466070b"
      },
      "source": [
        "c"
      ],
      "execution_count": null,
      "outputs": [
        {
          "output_type": "execute_result",
          "data": {
            "text/plain": [
              "0     9771\n",
              "3        8\n",
              "1        6\n",
              "2        5\n",
              "4        4\n",
              "9        3\n",
              "7        2\n",
              "5        2\n",
              "17       2\n",
              "8        2\n",
              "15       1\n",
              "30       1\n",
              "6        1\n",
              "26       1\n",
              "Name: comments, dtype: int64"
            ]
          },
          "metadata": {
            "tags": []
          },
          "execution_count": 68
        }
      ]
    },
    {
      "cell_type": "code",
      "metadata": {
        "id": "QgpWdqjfdYjE",
        "outputId": "6e271420-1950-4c01-9e65-70d1f43b5b3c"
      },
      "source": [
        "c[1:]"
      ],
      "execution_count": null,
      "outputs": [
        {
          "output_type": "execute_result",
          "data": {
            "text/plain": [
              "3     8\n",
              "1     6\n",
              "2     5\n",
              "4     4\n",
              "9     3\n",
              "7     2\n",
              "5     2\n",
              "17    2\n",
              "8     2\n",
              "15    1\n",
              "30    1\n",
              "6     1\n",
              "26    1\n",
              "Name: comments, dtype: int64"
            ]
          },
          "metadata": {
            "tags": []
          },
          "execution_count": 69
        }
      ]
    },
    {
      "cell_type": "code",
      "metadata": {
        "id": "9NfP82gSdYjE",
        "outputId": "a0d38719-717e-46ee-e159-44ad775ba92c"
      },
      "source": [
        "sns.countplot(df1['comments'].value_counts()[1:])"
      ],
      "execution_count": null,
      "outputs": [
        {
          "output_type": "execute_result",
          "data": {
            "text/plain": [
              "<matplotlib.axes._subplots.AxesSubplot at 0x270f60c4308>"
            ]
          },
          "metadata": {
            "tags": []
          },
          "execution_count": 70
        },
        {
          "output_type": "display_data",
          "data": {
            "image/png": "[encoded data removed]",
            "text/plain": [
              "<Figure size 432x288 with 1 Axes>"
            ]
          },
          "metadata": {
            "tags": [],
            "needs_background": "light"
          }
        }
      ]
    },
    {
      "cell_type": "code",
      "metadata": {
        "id": "n2ViPV3SdYjF",
        "outputId": "bf9f6d6c-8354-490f-c7d7-a638a6ed515f"
      },
      "source": [
        "df1['shares'].value_counts()"
      ],
      "execution_count": null,
      "outputs": [
        {
          "output_type": "execute_result",
          "data": {
            "text/plain": [
              "0      9479\n",
              "3         9\n",
              "1         8\n",
              "2         5\n",
              "12        5\n",
              "       ... \n",
              "23        1\n",
              "931       1\n",
              "959       1\n",
              "699       1\n",
              "891       1\n",
              "Name: shares, Length: 231, dtype: int64"
            ]
          },
          "metadata": {
            "tags": []
          },
          "execution_count": 71
        }
      ]
    },
    {
      "cell_type": "code",
      "metadata": {
        "id": "E16j_-T8dYjG",
        "outputId": "bc92b366-2737-4a79-d278-6033dd89171c"
      },
      "source": [
        "df1['type'].value_counts()"
      ],
      "execution_count": null,
      "outputs": [
        {
          "output_type": "execute_result",
          "data": {
            "text/plain": [
              "bs            8888\n",
              "bias           290\n",
              "conspiracy     269\n",
              "hate           245\n",
              "junksci         97\n",
              "fake            14\n",
              "state            6\n",
              "Name: type, dtype: int64"
            ]
          },
          "metadata": {
            "tags": []
          },
          "execution_count": 72
        }
      ]
    },
    {
      "cell_type": "code",
      "metadata": {
        "id": "wagTNH6idYjG",
        "outputId": "d87643bb-b4bd-4de4-e3ab-d453afd88279"
      },
      "source": [
        "plt.plot(df1['type'].value_counts()[1:])"
      ],
      "execution_count": null,
      "outputs": [
        {
          "output_type": "execute_result",
          "data": {
            "text/plain": [
              "[<matplotlib.lines.Line2D at 0x270f5c95988>]"
            ]
          },
          "metadata": {
            "tags": []
          },
          "execution_count": 73
        },
        {
          "output_type": "display_data",
          "data": {
            "image/png": "[encoded data removed]",
            "text/plain": [
              "<Figure size 432x288 with 1 Axes>"
            ]
          },
          "metadata": {
            "tags": [],
            "needs_background": "light"
          }
        }
      ]
    },
    {
      "cell_type": "markdown",
      "metadata": {
        "id": "gPOWXce1iHdV"
      },
      "source": [
        "**The type with highest number of posts is bias**"
      ]
    },
    {
      "cell_type": "code",
      "metadata": {
        "id": "XezobCp1dYjH",
        "outputId": "fc7b69e3-ee0f-4490-c7e6-c0c0dc607790"
      },
      "source": [
        "df1.groupby(['type']).size().plot(kind='barh')"
      ],
      "execution_count": null,
      "outputs": [
        {
          "output_type": "execute_result",
          "data": {
            "text/plain": [
              "<matplotlib.axes._subplots.AxesSubplot at 0x270f5c40708>"
            ]
          },
          "metadata": {
            "tags": []
          },
          "execution_count": 74
        },
        {
          "output_type": "display_data",
          "data": {
            "image/png": "[encoded data removed]",
            "text/plain": [
              "<Figure size 432x288 with 1 Axes>"
            ]
          },
          "metadata": {
            "tags": [],
            "needs_background": "light"
          }
        }
      ]
    },
    {
      "cell_type": "code",
      "metadata": {
        "id": "eqMS-f7cdYjH"
      },
      "source": [
        "fake_news = df1[df1[\"type\"] == \"fake\"]"
      ],
      "execution_count": null,
      "outputs": []
    },
    {
      "cell_type": "code",
      "metadata": {
        "id": "FAMsAjpqdYjI",
        "outputId": "47cc3773-fde9-4f19-c45c-07b13bce3bea"
      },
      "source": [
        "fake_news.head(1)"
      ],
      "execution_count": null,
      "outputs": [
        {
          "output_type": "execute_result",
          "data": {
            "text/html": [
              "<div>\n",
              "<style scoped>\n",
              "    .dataframe tbody tr th:only-of-type {\n",
              "        vertical-align: middle;\n",
              "    }\n",
              "\n",
              "    .dataframe tbody tr th {\n",
              "        vertical-align: top;\n",
              "    }\n",
              "\n",
              "    .dataframe thead th {\n",
              "        text-align: right;\n",
              "    }\n",
              "</style>\n",
              "<table border=\"1\" class=\"dataframe\">\n",
              "  <thead>\n",
              "    <tr style=\"text-align: right;\">\n",
              "      <th></th>\n",
              "      <th>ord_in_thread</th>\n",
              "      <th>author</th>\n",
              "      <th>published</th>\n",
              "      <th>title</th>\n",
              "      <th>text</th>\n",
              "      <th>language</th>\n",
              "      <th>crawled</th>\n",
              "      <th>country</th>\n",
              "      <th>domain_rank</th>\n",
              "      <th>thread_title</th>\n",
              "      <th>...</th>\n",
              "      <th>type</th>\n",
              "      <th>published_month</th>\n",
              "      <th>published_date</th>\n",
              "      <th>published_year</th>\n",
              "      <th>published_hour</th>\n",
              "      <th>crawled_month</th>\n",
              "      <th>crawled_year</th>\n",
              "      <th>crawled_hour</th>\n",
              "      <th>crawled_date</th>\n",
              "      <th>site_name</th>\n",
              "    </tr>\n",
              "  </thead>\n",
              "  <tbody>\n",
              "    <tr>\n",
              "      <th>57</th>\n",
              "      <td>0</td>\n",
              "      <td>Jimmy Rustling</td>\n",
              "      <td>2016-10-27 13:00:00+03:00</td>\n",
              "      <td>The Amish In America Commit Their Vote To Dona...</td>\n",
              "      <td>18 SHARE The Amish in America have committed t...</td>\n",
              "      <td>english</td>\n",
              "      <td>2016-10-27 15:50:22.818000+03:00</td>\n",
              "      <td>CO</td>\n",
              "      <td>65078.0</td>\n",
              "      <td>The Amish In America Commit Their Vote To Dona...</td>\n",
              "      <td>...</td>\n",
              "      <td>fake</td>\n",
              "      <td>10</td>\n",
              "      <td>27</td>\n",
              "      <td>2016</td>\n",
              "      <td>13</td>\n",
              "      <td>10</td>\n",
              "      <td>2016</td>\n",
              "      <td>15</td>\n",
              "      <td>27</td>\n",
              "      <td>abcnews</td>\n",
              "    </tr>\n",
              "  </tbody>\n",
              "</table>\n",
              "<p>1 rows × 26 columns</p>\n",
              "</div>"
            ],
            "text/plain": [
              "    ord_in_thread          author                  published  \\\n",
              "57              0  Jimmy Rustling  2016-10-27 13:00:00+03:00   \n",
              "\n",
              "                                                title  \\\n",
              "57  The Amish In America Commit Their Vote To Dona...   \n",
              "\n",
              "                                                 text language  \\\n",
              "57  18 SHARE The Amish in America have committed t...  english   \n",
              "\n",
              "                             crawled country  domain_rank  \\\n",
              "57  2016-10-27 15:50:22.818000+03:00      CO      65078.0   \n",
              "\n",
              "                                         thread_title  ...  type  \\\n",
              "57  The Amish In America Commit Their Vote To Dona...  ...  fake   \n",
              "\n",
              "    published_month  published_date  published_year  published_hour  \\\n",
              "57               10              27            2016              13   \n",
              "\n",
              "    crawled_month crawled_year  crawled_hour  crawled_date  site_name  \n",
              "57             10         2016            15            27    abcnews  \n",
              "\n",
              "[1 rows x 26 columns]"
            ]
          },
          "metadata": {
            "tags": []
          },
          "execution_count": 76
        }
      ]
    },
    {
      "cell_type": "code",
      "metadata": {
        "id": "0XOI9E0ydYjJ"
      },
      "source": [
        "import nltk"
      ],
      "execution_count": null,
      "outputs": []
    },
    {
      "cell_type": "code",
      "metadata": {
        "id": "q_f9dnhJdYjJ"
      },
      "source": [
        "fake_news.title.fillna(\"\", inplace=True)\n",
        "fake_news.text.fillna(\"\", inplace=True)"
      ],
      "execution_count": null,
      "outputs": []
    },
    {
      "cell_type": "code",
      "metadata": {
        "id": "m38T2VzYdYjK"
      },
      "source": [
        "all_text= fake_news.title.str.cat(fake_news.text, sep=' ')"
      ],
      "execution_count": null,
      "outputs": []
    },
    {
      "cell_type": "code",
      "metadata": {
        "id": "hG-5Oc4WdYjK",
        "outputId": "947b1385-29ad-4288-e993-fb190a26a4c7"
      },
      "source": [
        "import nltk\n",
        "nltk.download('punkt')"
      ],
      "execution_count": null,
      "outputs": [
        {
          "output_type": "stream",
          "text": [
            "[nltk_data] Downloading package punkt to\n",
            "[nltk_data]     C:\\Users\\ameli\\AppData\\Roaming\\nltk_data...\n",
            "[nltk_data]   Package punkt is already up-to-date!\n"
          ],
          "name": "stderr"
        },
        {
          "output_type": "execute_result",
          "data": {
            "text/plain": [
              "True"
            ]
          },
          "metadata": {
            "tags": []
          },
          "execution_count": 80
        }
      ]
    },
    {
      "cell_type": "code",
      "metadata": {
        "id": "VpA-SDwmdYjL",
        "outputId": "9cd72aba-e3ea-4478-8aab-729640dd656c"
      },
      "source": [
        "all_text.head()"
      ],
      "execution_count": null,
      "outputs": [
        {
          "output_type": "execute_result",
          "data": {
            "text/plain": [
              "57     The Amish In America Commit Their Vote To Dona...\n",
              "58     Obama Signs Executive Order Declaring Investig...\n",
              "379    Comment on HALLOWEEN IN THE CASTRO RETURNS IN ...\n",
              "380    Comment on Tutorial: Riding The Philippine Jee...\n",
              "381    Comment on What White House Executive Chef Com...\n",
              "Name: title, dtype: object"
            ]
          },
          "metadata": {
            "tags": []
          },
          "execution_count": 81
        }
      ]
    },
    {
      "cell_type": "code",
      "metadata": {
        "id": "IwkWS7N7dYjL"
      },
      "source": [
        "fake_news_words = nltk.word_tokenize(\" \".join(all_text.tolist()))"
      ],
      "execution_count": null,
      "outputs": []
    },
    {
      "cell_type": "code",
      "metadata": {
        "id": "MBFPCHMQdYjM",
        "outputId": "384885ee-0c58-4341-8fbe-8670378a001f"
      },
      "source": [
        "fake_news_words"
      ],
      "execution_count": null,
      "outputs": [
        {
          "output_type": "execute_result",
          "data": {
            "text/plain": [
              "['The',\n",
              " 'Amish',\n",
              " 'In',\n",
              " 'America',\n",
              " 'Commit',\n",
              " 'Their',\n",
              " 'Vote',\n",
              " 'To',\n",
              " 'Donald',\n",
              " 'Trump',\n",
              " ';',\n",
              " 'Mathematically',\n",
              " 'Guaranteeing',\n",
              " 'Him',\n",
              " 'A',\n",
              " 'Presidential',\n",
              " 'Victory',\n",
              " '-',\n",
              " 'ABC',\n",
              " 'News',\n",
              " '18',\n",
              " 'SHARE',\n",
              " 'The',\n",
              " 'Amish',\n",
              " 'in',\n",
              " 'America',\n",
              " 'have',\n",
              " 'committed',\n",
              " 'their',\n",
              " 'vote',\n",
              " 'to',\n",
              " 'Donald',\n",
              " 'Trump',\n",
              " 'guaranteeing',\n",
              " 'him',\n",
              " 'the',\n",
              " 'Presidency',\n",
              " '.',\n",
              " '(',\n",
              " 'AP',\n",
              " 'Photo',\n",
              " '/',\n",
              " 'Dennis',\n",
              " 'System',\n",
              " ')',\n",
              " 'COLUMBUS',\n",
              " ',',\n",
              " 'OH',\n",
              " '(',\n",
              " 'AP',\n",
              " ')',\n",
              " '—',\n",
              " 'History',\n",
              " 'was',\n",
              " 'made',\n",
              " 'today',\n",
              " 'in',\n",
              " 'Columbus',\n",
              " ',',\n",
              " 'Ohio',\n",
              " 'when',\n",
              " 'more',\n",
              " 'than',\n",
              " '3',\n",
              " 'million',\n",
              " 'Amish',\n",
              " 'poured',\n",
              " 'into',\n",
              " 'the',\n",
              " 'city',\n",
              " 'to',\n",
              " 'see',\n",
              " 'the',\n",
              " 'American',\n",
              " 'Amish',\n",
              " 'Brotherhood',\n",
              " '(',\n",
              " 'AAB',\n",
              " ')',\n",
              " ',',\n",
              " 'an',\n",
              " 'organization',\n",
              " 'which',\n",
              " 'acts',\n",
              " 'as',\n",
              " 'an',\n",
              " 'informal',\n",
              " 'governing',\n",
              " 'body',\n",
              " 'for',\n",
              " 'the',\n",
              " 'Amish',\n",
              " 'community',\n",
              " ',',\n",
              " 'endorse',\n",
              " 'Donald',\n",
              " 'Trump',\n",
              " 'for',\n",
              " 'president',\n",
              " '.',\n",
              " 'That',\n",
              " 'number',\n",
              " 'represents',\n",
              " 'a',\n",
              " 'significant',\n",
              " 'portion',\n",
              " 'of',\n",
              " 'the',\n",
              " 'total',\n",
              " 'Amish',\n",
              " 'population',\n",
              " ',',\n",
              " 'which',\n",
              " 'the',\n",
              " 'United',\n",
              " 'States',\n",
              " 'Census',\n",
              " 'Bureau',\n",
              " 'says',\n",
              " 'numbers',\n",
              " 'more',\n",
              " 'than',\n",
              " '20',\n",
              " 'million',\n",
              " 'men',\n",
              " 'and',\n",
              " 'women',\n",
              " 'nationwide',\n",
              " 'all',\n",
              " 'pledging',\n",
              " 'their',\n",
              " 'vote',\n",
              " 'to',\n",
              " 'Trump',\n",
              " 'for',\n",
              " 'President',\n",
              " '.',\n",
              " 'With',\n",
              " 'the',\n",
              " 'full',\n",
              " 'force',\n",
              " 'of',\n",
              " 'the',\n",
              " 'Amish',\n",
              " 'community',\n",
              " 'behind',\n",
              " 'him',\n",
              " ',',\n",
              " 'Donald',\n",
              " 'Trump',\n",
              " 'is',\n",
              " 'now',\n",
              " 'mathematically',\n",
              " 'guaranteed',\n",
              " 'to',\n",
              " 'win',\n",
              " 'the',\n",
              " 'presidency',\n",
              " 'in',\n",
              " 'November',\n",
              " '.',\n",
              " 'The',\n",
              " 'organization',\n",
              " 'typically',\n",
              " 'meets',\n",
              " 'once',\n",
              " 'a',\n",
              " 'year',\n",
              " 'and',\n",
              " 'the',\n",
              " 'meetings',\n",
              " 'usually',\n",
              " 'consist',\n",
              " 'of',\n",
              " 'about',\n",
              " '300',\n",
              " 'Amish',\n",
              " 'leaders',\n",
              " 'who',\n",
              " 'meet',\n",
              " 'to',\n",
              " 'discuss',\n",
              " 'the',\n",
              " 'challenges',\n",
              " ',',\n",
              " 'such',\n",
              " 'as',\n",
              " 'urban',\n",
              " 'sprawl',\n",
              " ',',\n",
              " 'that',\n",
              " 'face',\n",
              " 'the',\n",
              " 'community',\n",
              " '.',\n",
              " 'This',\n",
              " 'year',\n",
              " ',',\n",
              " 'however',\n",
              " ',',\n",
              " 'the',\n",
              " 'organization',\n",
              " 'wanted',\n",
              " 'as',\n",
              " 'many',\n",
              " 'people',\n",
              " 'in',\n",
              " 'attendance',\n",
              " 'as',\n",
              " 'possible',\n",
              " 'so',\n",
              " 'they',\n",
              " 'can',\n",
              " 'effectively',\n",
              " 'instruct',\n",
              " 'all',\n",
              " 'Amish',\n",
              " 'men',\n",
              " 'and',\n",
              " 'women',\n",
              " 'of',\n",
              " 'legal',\n",
              " 'voting',\n",
              " 'age',\n",
              " 'to',\n",
              " 'cast',\n",
              " 'their',\n",
              " 'vote',\n",
              " 'for',\n",
              " 'the',\n",
              " 'flamboyant',\n",
              " 'Republican',\n",
              " 'nominee',\n",
              " '.',\n",
              " 'The',\n",
              " 'Amish',\n",
              " ',',\n",
              " 'who',\n",
              " 'are',\n",
              " 'direct',\n",
              " 'descendants',\n",
              " 'of',\n",
              " 'the',\n",
              " 'protestant',\n",
              " 'reformation',\n",
              " 'sect',\n",
              " 'known',\n",
              " 'as',\n",
              " 'the',\n",
              " 'Anabaptists',\n",
              " ',',\n",
              " 'have',\n",
              " 'typically',\n",
              " 'stayed',\n",
              " 'out',\n",
              " 'of',\n",
              " 'politics',\n",
              " 'in',\n",
              " 'the',\n",
              " 'past',\n",
              " '.',\n",
              " 'As',\n",
              " 'a',\n",
              " 'general',\n",
              " 'rule',\n",
              " ',',\n",
              " 'they',\n",
              " 'don',\n",
              " '’',\n",
              " 't',\n",
              " 'vote',\n",
              " ',',\n",
              " 'serve',\n",
              " 'in',\n",
              " 'the',\n",
              " 'military',\n",
              " ',',\n",
              " 'or',\n",
              " 'engage',\n",
              " 'in',\n",
              " 'any',\n",
              " 'other',\n",
              " 'displays',\n",
              " 'of',\n",
              " 'patriotism',\n",
              " '.',\n",
              " 'This',\n",
              " 'year',\n",
              " ',',\n",
              " 'however',\n",
              " ',',\n",
              " 'the',\n",
              " 'AAB',\n",
              " 'has',\n",
              " 'said',\n",
              " 'that',\n",
              " 'it',\n",
              " 'is',\n",
              " 'imperative',\n",
              " 'that',\n",
              " 'they',\n",
              " 'get',\n",
              " 'involved',\n",
              " 'in',\n",
              " 'the',\n",
              " 'democratic',\n",
              " 'process',\n",
              " '.',\n",
              " '“',\n",
              " 'Over',\n",
              " 'the',\n",
              " 'past',\n",
              " 'eight',\n",
              " 'years',\n",
              " ',',\n",
              " 'the',\n",
              " 'Democratic',\n",
              " 'Party',\n",
              " 'has',\n",
              " 'launched',\n",
              " 'a',\n",
              " 'systematic',\n",
              " 'assault',\n",
              " 'on',\n",
              " 'biblical',\n",
              " 'virtues',\n",
              " ',',\n",
              " '”',\n",
              " 'said',\n",
              " 'AAB',\n",
              " 'chairman',\n",
              " 'Menno',\n",
              " 'Simons',\n",
              " '.',\n",
              " '“',\n",
              " 'We',\n",
              " 'have',\n",
              " 'seen',\n",
              " 'more',\n",
              " 'and',\n",
              " 'more',\n",
              " 'Christians',\n",
              " 'being',\n",
              " 'persecuted',\n",
              " 'for',\n",
              " 'their',\n",
              " 'faith',\n",
              " ';',\n",
              " 'we',\n",
              " 'have',\n",
              " 'seen',\n",
              " 'the',\n",
              " 'state',\n",
              " 'defile',\n",
              " 'the',\n",
              " 'institution',\n",
              " 'of',\n",
              " 'marriage',\n",
              " '.',\n",
              " 'Now',\n",
              " ',',\n",
              " 'they',\n",
              " 'want',\n",
              " 'to',\n",
              " 'put',\n",
              " 'a',\n",
              " 'woman',\n",
              " 'in',\n",
              " 'the',\n",
              " 'nation',\n",
              " '’',\n",
              " 's',\n",
              " 'highest',\n",
              " 'leadership',\n",
              " 'role',\n",
              " 'in',\n",
              " 'direct',\n",
              " 'violation',\n",
              " 'of',\n",
              " '1',\n",
              " 'Timothy',\n",
              " '2:12',\n",
              " '.',\n",
              " 'We',\n",
              " 'need',\n",
              " 'to',\n",
              " 'stop',\n",
              " 'this',\n",
              " 'assault',\n",
              " 'and',\n",
              " 'take',\n",
              " 'a',\n",
              " 'stand',\n",
              " 'for',\n",
              " 'biblical',\n",
              " 'principles',\n",
              " '.',\n",
              " 'Donald',\n",
              " 'Trump',\n",
              " 'has',\n",
              " 'shown',\n",
              " 'in',\n",
              " 'both',\n",
              " 'action',\n",
              " 'and',\n",
              " 'deed',\n",
              " 'that',\n",
              " 'he',\n",
              " 'is',\n",
              " 'committed',\n",
              " 'to',\n",
              " 'restoring',\n",
              " 'this',\n",
              " 'country',\n",
              " 'to',\n",
              " 'the',\n",
              " 'Lord',\n",
              " '’',\n",
              " 's',\n",
              " 'way.',\n",
              " '”',\n",
              " 'According',\n",
              " 'to',\n",
              " 'statistician',\n",
              " 'Nate',\n",
              " 'Silver',\n",
              " 'of',\n",
              " 'the',\n",
              " 'website',\n",
              " 'fivethirtyeight.com',\n",
              " ',',\n",
              " 'there',\n",
              " 'are',\n",
              " 'no',\n",
              " 'possible',\n",
              " 'scenarios',\n",
              " 'in',\n",
              " 'which',\n",
              " 'Hillary',\n",
              " 'Clinton',\n",
              " 'can',\n",
              " 'win',\n",
              " 'with',\n",
              " 'Donald',\n",
              " 'Trump',\n",
              " 'carrying',\n",
              " 'the',\n",
              " 'Amish',\n",
              " 'vote',\n",
              " '.',\n",
              " '“',\n",
              " 'The',\n",
              " 'Amish',\n",
              " 'have',\n",
              " 'their',\n",
              " 'highest',\n",
              " 'numbers',\n",
              " 'in',\n",
              " 'perennial',\n",
              " 'swing',\n",
              " 'states',\n",
              " 'like',\n",
              " 'Pennsylvania',\n",
              " ',',\n",
              " 'Virginia',\n",
              " ',',\n",
              " 'Ohio',\n",
              " ',',\n",
              " 'Indiana',\n",
              " ',',\n",
              " 'and',\n",
              " 'Iowa',\n",
              " ',',\n",
              " '”',\n",
              " 'Silver',\n",
              " 'noted',\n",
              " '.',\n",
              " '“',\n",
              " 'They',\n",
              " 'also',\n",
              " 'have',\n",
              " 'strong',\n",
              " 'numbers',\n",
              " 'in',\n",
              " 'reliably',\n",
              " 'Democratic',\n",
              " 'states',\n",
              " 'like',\n",
              " 'Michigan',\n",
              " ',',\n",
              " 'Illinois',\n",
              " ',',\n",
              " 'and',\n",
              " 'New',\n",
              " 'York',\n",
              " ',',\n",
              " 'meaning',\n",
              " 'that',\n",
              " 'Hillary',\n",
              " 'will',\n",
              " 'lose',\n",
              " 'those',\n",
              " 'states',\n",
              " 'as',\n",
              " 'well',\n",
              " '.',\n",
              " 'There',\n",
              " 'is',\n",
              " 'also',\n",
              " 'a',\n",
              " 'sizeable',\n",
              " 'community',\n",
              " 'in',\n",
              " 'Florida',\n",
              " 'which',\n",
              " ',',\n",
              " 'while',\n",
              " 'not',\n",
              " 'as',\n",
              " 'large',\n",
              " 'as',\n",
              " 'it',\n",
              " 'is',\n",
              " 'in',\n",
              " 'the',\n",
              " 'Midwest',\n",
              " ',',\n",
              " 'is',\n",
              " 'still',\n",
              " 'large',\n",
              " 'enough',\n",
              " 'to',\n",
              " 'turn',\n",
              " 'Florida',\n",
              " 'for',\n",
              " 'Trump',\n",
              " '.',\n",
              " 'Over',\n",
              " 'the',\n",
              " 'next',\n",
              " 'two',\n",
              " 'weeks',\n",
              " ',',\n",
              " 'you',\n",
              " 'can',\n",
              " 'expect',\n",
              " 'Hillary',\n",
              " 'to',\n",
              " 'enter',\n",
              " 'into',\n",
              " 'a',\n",
              " 'state',\n",
              " 'of',\n",
              " 'freefall',\n",
              " 'in',\n",
              " 'all',\n",
              " 'of',\n",
              " 'my',\n",
              " 'predictive',\n",
              " 'models.',\n",
              " '”',\n",
              " 'The',\n",
              " 'Clinton',\n",
              " 'campaign',\n",
              " 'issued',\n",
              " 'a',\n",
              " 'written',\n",
              " 'statement',\n",
              " 'to',\n",
              " 'the',\n",
              " 'AAB',\n",
              " 'asking',\n",
              " 'them',\n",
              " 'to',\n",
              " 'reconsider',\n",
              " 'their',\n",
              " 'decision',\n",
              " '.',\n",
              " '“',\n",
              " 'I',\n",
              " 'don',\n",
              " '’',\n",
              " 't',\n",
              " 'believe',\n",
              " 'that',\n",
              " 'Donald',\n",
              " 'Trump',\n",
              " 'is',\n",
              " 'the',\n",
              " 'person',\n",
              " 'who',\n",
              " 'best',\n",
              " 'represents',\n",
              " 'your',\n",
              " 'interests',\n",
              " ',',\n",
              " '”',\n",
              " 'Clinton',\n",
              " 'wrote',\n",
              " 'to',\n",
              " 'the',\n",
              " 'AAB',\n",
              " '.',\n",
              " '“',\n",
              " 'As',\n",
              " 'a',\n",
              " 'career',\n",
              " 'real',\n",
              " 'estate',\n",
              " 'developer',\n",
              " ',',\n",
              " 'he',\n",
              " 'represents',\n",
              " 'a',\n",
              " 'clear',\n",
              " 'threat',\n",
              " 'to',\n",
              " 'your',\n",
              " 'simple',\n",
              " 'way',\n",
              " 'of',\n",
              " 'life',\n",
              " '.',\n",
              " 'As',\n",
              " 'former',\n",
              " 'first',\n",
              " 'lady',\n",
              " 'of',\n",
              " 'Arkansas',\n",
              " ',',\n",
              " 'I',\n",
              " 'understand',\n",
              " 'the',\n",
              " 'concerns',\n",
              " 'of',\n",
              " 'rural',\n",
              " 'Americans',\n",
              " 'more',\n",
              " 'than',\n",
              " 'any',\n",
              " 'candidate',\n",
              " 'in',\n",
              " 'this',\n",
              " 'election',\n",
              " '.',\n",
              " 'I',\n",
              " 'implore',\n",
              " 'you',\n",
              " 'to',\n",
              " 'consider',\n",
              " 'all',\n",
              " 'of',\n",
              " 'the',\n",
              " 'facts',\n",
              " 'before',\n",
              " 'voting',\n",
              " 'for',\n",
              " 'my',\n",
              " 'opponent.',\n",
              " '”',\n",
              " 'Most',\n",
              " 'pundits',\n",
              " 'believe',\n",
              " 'that',\n",
              " 'Mrs.',\n",
              " 'Clinton',\n",
              " '’',\n",
              " 's',\n",
              " 'plea',\n",
              " 'is',\n",
              " 'too',\n",
              " 'little',\n",
              " 'too',\n",
              " 'late',\n",
              " '.',\n",
              " 'During',\n",
              " 'a',\n",
              " 'press',\n",
              " 'conference',\n",
              " 'in',\n",
              " 'Manhattan',\n",
              " ',',\n",
              " 'Trump',\n",
              " 'thanked',\n",
              " 'the',\n",
              " 'AAB',\n",
              " 'for',\n",
              " 'their',\n",
              " 'support',\n",
              " 'and',\n",
              " 'promised',\n",
              " 'to',\n",
              " 'put',\n",
              " 'the',\n",
              " 'Amish',\n",
              " 'to',\n",
              " 'work',\n",
              " 'maintaining',\n",
              " 'government',\n",
              " 'buildings',\n",
              " ',',\n",
              " 'which',\n",
              " 'he',\n",
              " 'said',\n",
              " 'would',\n",
              " 'save',\n",
              " 'taxpayers',\n",
              " 'millions',\n",
              " 'because',\n",
              " '“',\n",
              " 'the',\n",
              " 'Amish',\n",
              " 'do',\n",
              " 'great',\n",
              " 'work',\n",
              " 'for',\n",
              " 'a',\n",
              " 'very',\n",
              " 'low',\n",
              " 'price.',\n",
              " '”',\n",
              " 'Though',\n",
              " 'Clinton',\n",
              " 'has',\n",
              " 'pledged',\n",
              " 'to',\n",
              " 'stay',\n",
              " 'in',\n",
              " 'the',\n",
              " 'race',\n",
              " 'until',\n",
              " 'the',\n",
              " 'very',\n",
              " 'end',\n",
              " ',',\n",
              " 'many',\n",
              " 'of',\n",
              " 'her',\n",
              " 'campaign',\n",
              " 'workers',\n",
              " 'have',\n",
              " 'already',\n",
              " 'resigned',\n",
              " '.',\n",
              " 'According',\n",
              " 'to',\n",
              " 'the',\n",
              " 'Associated',\n",
              " 'Press',\n",
              " ',',\n",
              " 'it',\n",
              " 'is',\n",
              " 'expected',\n",
              " 'that',\n",
              " 'the',\n",
              " 'Clinton',\n",
              " 'campaign',\n",
              " 'will',\n",
              " 'lose',\n",
              " '50',\n",
              " '%',\n",
              " 'of',\n",
              " 'its',\n",
              " 'staff',\n",
              " 'over',\n",
              " 'the',\n",
              " 'next',\n",
              " 'two',\n",
              " 'weeks',\n",
              " '.',\n",
              " 'There',\n",
              " 'is',\n",
              " 'a',\n",
              " 'general',\n",
              " 'mood',\n",
              " 'of',\n",
              " 'hopelessness',\n",
              " 'and',\n",
              " 'despair',\n",
              " 'in',\n",
              " 'the',\n",
              " 'Clinton',\n",
              " 'camp',\n",
              " ',',\n",
              " 'and',\n",
              " 'many',\n",
              " 'simply',\n",
              " 'want',\n",
              " 'to',\n",
              " 'cut',\n",
              " 'their',\n",
              " 'losses',\n",
              " '.',\n",
              " '“',\n",
              " 'It',\n",
              " 'looked',\n",
              " 'like',\n",
              " 'she',\n",
              " 'was',\n",
              " 'going',\n",
              " 'to',\n",
              " 'win',\n",
              " 'this',\n",
              " 'election',\n",
              " 'easily',\n",
              " ',',\n",
              " '”',\n",
              " 'said',\n",
              " 'Paul',\n",
              " 'Horner',\n",
              " ',',\n",
              " 'a',\n",
              " 'campaign',\n",
              " 'worker',\n",
              " 'in',\n",
              " 'Ohio',\n",
              " ',',\n",
              " '“',\n",
              " 'But',\n",
              " 'this',\n",
              " 'is',\n",
              " 'what',\n",
              " 'happens',\n",
              " 'when',\n",
              " 'you',\n",
              " 'wake',\n",
              " 'a',\n",
              " 'sleeping',\n",
              " 'giant',\n",
              " '.',\n",
              " 'Cleary',\n",
              " ',',\n",
              " 'Mrs.',\n",
              " 'Clinton',\n",
              " 'took',\n",
              " 'far',\n",
              " 'too',\n",
              " 'much',\n",
              " 'for',\n",
              " 'granted',\n",
              " 'in',\n",
              " 'this',\n",
              " 'race',\n",
              " ',',\n",
              " 'and',\n",
              " 'we',\n",
              " 'are',\n",
              " 'all',\n",
              " 'now',\n",
              " 'paying',\n",
              " 'the',\n",
              " 'price',\n",
              " '.',\n",
              " 'It',\n",
              " '’',\n",
              " 's',\n",
              " 'really',\n",
              " 'sad',\n",
              " 'to',\n",
              " 'see',\n",
              " 'the',\n",
              " 'campaign',\n",
              " 'end',\n",
              " 'this',\n",
              " 'way.',\n",
              " '”',\n",
              " 'If',\n",
              " 'you',\n",
              " 'are',\n",
              " 'interested',\n",
              " 'in',\n",
              " 'learning',\n",
              " 'more',\n",
              " 'about',\n",
              " 'the',\n",
              " 'Amish',\n",
              " 'community',\n",
              " 'and',\n",
              " 'the',\n",
              " 'AAB',\n",
              " ',',\n",
              " 'you',\n",
              " 'can',\n",
              " 'contact',\n",
              " 'the',\n",
              " 'Pennsylvania',\n",
              " 'Amish',\n",
              " 'Heritage',\n",
              " 'Museum',\n",
              " 'at',\n",
              " '(',\n",
              " '785',\n",
              " ')',\n",
              " '273-0325',\n",
              " '.',\n",
              " 'TAGS',\n",
              " 'Obama',\n",
              " 'Signs',\n",
              " 'Executive',\n",
              " 'Order',\n",
              " 'Declaring',\n",
              " 'Investigation',\n",
              " 'Into',\n",
              " 'Election',\n",
              " 'Results',\n",
              " ';',\n",
              " 'Revote',\n",
              " 'Planned',\n",
              " 'For',\n",
              " 'Dec.',\n",
              " '19th',\n",
              " '-',\n",
              " 'ABC',\n",
              " 'News',\n",
              " '64',\n",
              " 'SHARE',\n",
              " 'President',\n",
              " 'Obama',\n",
              " 'has',\n",
              " 'signed',\n",
              " 'an',\n",
              " 'Executive',\n",
              " 'Order',\n",
              " 'declaring',\n",
              " 'an',\n",
              " 'investigation',\n",
              " 'into',\n",
              " 'the',\n",
              " 'election',\n",
              " 'results',\n",
              " 'and',\n",
              " 'plans',\n",
              " 'for',\n",
              " 'a',\n",
              " 'revote',\n",
              " 'on',\n",
              " 'December',\n",
              " '19th',\n",
              " '.',\n",
              " '(',\n",
              " 'AP',\n",
              " 'Photo',\n",
              " '/',\n",
              " 'Dennis',\n",
              " 'System',\n",
              " ')',\n",
              " 'WASHINGTON',\n",
              " ',',\n",
              " 'D.C.',\n",
              " '(',\n",
              " 'AP',\n",
              " ')',\n",
              " '—',\n",
              " 'Following',\n",
              " 'the',\n",
              " 'results',\n",
              " 'of',\n",
              " 'Tuesday',\n",
              " 'night',\n",
              " '’',\n",
              " 's',\n",
              " 'election',\n",
              " ',',\n",
              " 'President',\n",
              " 'Obama',\n",
              " 'has',\n",
              " 'signed',\n",
              " 'Executive',\n",
              " 'Order',\n",
              " '13805',\n",
              " ',',\n",
              " 'which',\n",
              " 'orders',\n",
              " 'a',\n",
              " 'full',\n",
              " 'recount',\n",
              " 'of',\n",
              " 'all',\n",
              " 'votes',\n",
              " 'cast',\n",
              " 'in',\n",
              " 'the',\n",
              " 'election',\n",
              " 'and',\n",
              " 'calls',\n",
              " 'for',\n",
              " 'a',\n",
              " 'special',\n",
              " 'election',\n",
              " 'to',\n",
              " 'be',\n",
              " 'held',\n",
              " 'on',\n",
              " 'December',\n",
              " '19',\n",
              " 'th',\n",
              " '.',\n",
              " 'Obama',\n",
              " 'signed',\n",
              " 'the',\n",
              " ...]"
            ]
          },
          "metadata": {
            "tags": []
          },
          "execution_count": 83
        }
      ]
    },
    {
      "cell_type": "markdown",
      "metadata": {
        "id": "ZQ9RJhSxiPOS"
      },
      "source": [
        "**Seperating the sentences into words**"
      ]
    },
    {
      "cell_type": "code",
      "metadata": {
        "id": "VKfrXTEGdYjN",
        "outputId": "4a22d280-1a53-4108-f34e-308e471f1551"
      },
      "source": [
        "import nltk\n",
        "nltk.download('stopwords')"
      ],
      "execution_count": null,
      "outputs": [
        {
          "output_type": "stream",
          "text": [
            "[nltk_data] Downloading package stopwords to\n",
            "[nltk_data]     C:\\Users\\ameli\\AppData\\Roaming\\nltk_data...\n",
            "[nltk_data]   Package stopwords is already up-to-date!\n"
          ],
          "name": "stderr"
        },
        {
          "output_type": "execute_result",
          "data": {
            "text/plain": [
              "True"
            ]
          },
          "metadata": {
            "tags": []
          },
          "execution_count": 84
        }
      ]
    },
    {
      "cell_type": "code",
      "metadata": {
        "id": "g6VHTYqYdYjN"
      },
      "source": [
        "from nltk.corpus import stopwords\n",
        "import string"
      ],
      "execution_count": null,
      "outputs": []
    },
    {
      "cell_type": "code",
      "metadata": {
        "id": "UUYHDyU4dYjO"
      },
      "source": [
        "stop = stopwords.words('english') "
      ],
      "execution_count": null,
      "outputs": []
    },
    {
      "cell_type": "code",
      "metadata": {
        "id": "viwcDxZodYjO",
        "outputId": "221a5d63-7911-41bb-c5c4-713f3e7a64c4"
      },
      "source": [
        "stop"
      ],
      "execution_count": null,
      "outputs": [
        {
          "output_type": "execute_result",
          "data": {
            "text/plain": [
              "['i',\n",
              " 'me',\n",
              " 'my',\n",
              " 'myself',\n",
              " 'we',\n",
              " 'our',\n",
              " 'ours',\n",
              " 'ourselves',\n",
              " 'you',\n",
              " \"you're\",\n",
              " \"you've\",\n",
              " \"you'll\",\n",
              " \"you'd\",\n",
              " 'your',\n",
              " 'yours',\n",
              " 'yourself',\n",
              " 'yourselves',\n",
              " 'he',\n",
              " 'him',\n",
              " 'his',\n",
              " 'himself',\n",
              " 'she',\n",
              " \"she's\",\n",
              " 'her',\n",
              " 'hers',\n",
              " 'herself',\n",
              " 'it',\n",
              " \"it's\",\n",
              " 'its',\n",
              " 'itself',\n",
              " 'they',\n",
              " 'them',\n",
              " 'their',\n",
              " 'theirs',\n",
              " 'themselves',\n",
              " 'what',\n",
              " 'which',\n",
              " 'who',\n",
              " 'whom',\n",
              " 'this',\n",
              " 'that',\n",
              " \"that'll\",\n",
              " 'these',\n",
              " 'those',\n",
              " 'am',\n",
              " 'is',\n",
              " 'are',\n",
              " 'was',\n",
              " 'were',\n",
              " 'be',\n",
              " 'been',\n",
              " 'being',\n",
              " 'have',\n",
              " 'has',\n",
              " 'had',\n",
              " 'having',\n",
              " 'do',\n",
              " 'does',\n",
              " 'did',\n",
              " 'doing',\n",
              " 'a',\n",
              " 'an',\n",
              " 'the',\n",
              " 'and',\n",
              " 'but',\n",
              " 'if',\n",
              " 'or',\n",
              " 'because',\n",
              " 'as',\n",
              " 'until',\n",
              " 'while',\n",
              " 'of',\n",
              " 'at',\n",
              " 'by',\n",
              " 'for',\n",
              " 'with',\n",
              " 'about',\n",
              " 'against',\n",
              " 'between',\n",
              " 'into',\n",
              " 'through',\n",
              " 'during',\n",
              " 'before',\n",
              " 'after',\n",
              " 'above',\n",
              " 'below',\n",
              " 'to',\n",
              " 'from',\n",
              " 'up',\n",
              " 'down',\n",
              " 'in',\n",
              " 'out',\n",
              " 'on',\n",
              " 'off',\n",
              " 'over',\n",
              " 'under',\n",
              " 'again',\n",
              " 'further',\n",
              " 'then',\n",
              " 'once',\n",
              " 'here',\n",
              " 'there',\n",
              " 'when',\n",
              " 'where',\n",
              " 'why',\n",
              " 'how',\n",
              " 'all',\n",
              " 'any',\n",
              " 'both',\n",
              " 'each',\n",
              " 'few',\n",
              " 'more',\n",
              " 'most',\n",
              " 'other',\n",
              " 'some',\n",
              " 'such',\n",
              " 'no',\n",
              " 'nor',\n",
              " 'not',\n",
              " 'only',\n",
              " 'own',\n",
              " 'same',\n",
              " 'so',\n",
              " 'than',\n",
              " 'too',\n",
              " 'very',\n",
              " 's',\n",
              " 't',\n",
              " 'can',\n",
              " 'will',\n",
              " 'just',\n",
              " 'don',\n",
              " \"don't\",\n",
              " 'should',\n",
              " \"should've\",\n",
              " 'now',\n",
              " 'd',\n",
              " 'll',\n",
              " 'm',\n",
              " 'o',\n",
              " 're',\n",
              " 've',\n",
              " 'y',\n",
              " 'ain',\n",
              " 'aren',\n",
              " \"aren't\",\n",
              " 'couldn',\n",
              " \"couldn't\",\n",
              " 'didn',\n",
              " \"didn't\",\n",
              " 'doesn',\n",
              " \"doesn't\",\n",
              " 'hadn',\n",
              " \"hadn't\",\n",
              " 'hasn',\n",
              " \"hasn't\",\n",
              " 'haven',\n",
              " \"haven't\",\n",
              " 'isn',\n",
              " \"isn't\",\n",
              " 'ma',\n",
              " 'mightn',\n",
              " \"mightn't\",\n",
              " 'mustn',\n",
              " \"mustn't\",\n",
              " 'needn',\n",
              " \"needn't\",\n",
              " 'shan',\n",
              " \"shan't\",\n",
              " 'shouldn',\n",
              " \"shouldn't\",\n",
              " 'wasn',\n",
              " \"wasn't\",\n",
              " 'weren',\n",
              " \"weren't\",\n",
              " 'won',\n",
              " \"won't\",\n",
              " 'wouldn',\n",
              " \"wouldn't\"]"
            ]
          },
          "metadata": {
            "tags": []
          },
          "execution_count": 87
        }
      ]
    },
    {
      "cell_type": "markdown",
      "metadata": {
        "id": "LeCqWm55iYqU"
      },
      "source": [
        "**Removing insignificant/redundant words**"
      ]
    },
    {
      "cell_type": "code",
      "metadata": {
        "id": "Ucs5Z8vzdYjP",
        "outputId": "c0c2c4b1-40e5-43e8-9eda-42af6e4d8469"
      },
      "source": [
        "from wordcloud import WordCloud, STOPWORDS\n",
        "\n",
        "wordcloud2 = WordCloud(\n",
        "                          stopwords=STOPWORDS,\n",
        "                          background_color='white',\n",
        "                          width=1200,\n",
        "                          height=1000\n",
        "                         ).generate(\" \".join(fake_news_words))\n",
        "\n",
        "\n",
        "plt.imshow(wordcloud2)\n",
        "plt.axis('off')\n",
        "plt.show()"
      ],
      "execution_count": null,
      "outputs": [
        {
          "output_type": "display_data",
          "data": {
            "image/png": "[encoded data removed]",
            "text/plain": [
              "<Figure size 432x288 with 1 Axes>"
            ]
          },
          "metadata": {
            "tags": [],
            "needs_background": "light"
          }
        }
      ]
    },
    {
      "cell_type": "markdown",
      "metadata": {
        "id": "TCz8rPj_id9b"
      },
      "source": [
        "**Bigger the size, the more frequent the word has been used**"
      ]
    },
    {
      "cell_type": "code",
      "metadata": {
        "id": "wWqJxos0dYjQ",
        "outputId": "5a816b3e-451e-4fb7-eb02-d5950425ff03"
      },
      "source": [
        "df1.head(1)"
      ],
      "execution_count": null,
      "outputs": [
        {
          "output_type": "execute_result",
          "data": {
            "text/html": [
              "<div>\n",
              "<style scoped>\n",
              "    .dataframe tbody tr th:only-of-type {\n",
              "        vertical-align: middle;\n",
              "    }\n",
              "\n",
              "    .dataframe tbody tr th {\n",
              "        vertical-align: top;\n",
              "    }\n",
              "\n",
              "    .dataframe thead th {\n",
              "        text-align: right;\n",
              "    }\n",
              "</style>\n",
              "<table border=\"1\" class=\"dataframe\">\n",
              "  <thead>\n",
              "    <tr style=\"text-align: right;\">\n",
              "      <th></th>\n",
              "      <th>ord_in_thread</th>\n",
              "      <th>author</th>\n",
              "      <th>published</th>\n",
              "      <th>title</th>\n",
              "      <th>text</th>\n",
              "      <th>language</th>\n",
              "      <th>crawled</th>\n",
              "      <th>country</th>\n",
              "      <th>domain_rank</th>\n",
              "      <th>thread_title</th>\n",
              "      <th>...</th>\n",
              "      <th>type</th>\n",
              "      <th>published_month</th>\n",
              "      <th>published_date</th>\n",
              "      <th>published_year</th>\n",
              "      <th>published_hour</th>\n",
              "      <th>crawled_month</th>\n",
              "      <th>crawled_year</th>\n",
              "      <th>crawled_hour</th>\n",
              "      <th>crawled_date</th>\n",
              "      <th>site_name</th>\n",
              "    </tr>\n",
              "  </thead>\n",
              "  <tbody>\n",
              "    <tr>\n",
              "      <th>0</th>\n",
              "      <td>0</td>\n",
              "      <td>Barracuda Brigade</td>\n",
              "      <td>2016-10-26 21:41:00+03:00</td>\n",
              "      <td>Muslims BUSTED: They Stole Millions In Gov’t B...</td>\n",
              "      <td>Print They should pay all the back all the mon...</td>\n",
              "      <td>english</td>\n",
              "      <td>2016-10-27 01:49:27.168000+03:00</td>\n",
              "      <td>US</td>\n",
              "      <td>25689.0</td>\n",
              "      <td>Muslims BUSTED: They Stole Millions In Gov’t B...</td>\n",
              "      <td>...</td>\n",
              "      <td>bias</td>\n",
              "      <td>10</td>\n",
              "      <td>26</td>\n",
              "      <td>2016</td>\n",
              "      <td>21</td>\n",
              "      <td>10</td>\n",
              "      <td>2016</td>\n",
              "      <td>1</td>\n",
              "      <td>27</td>\n",
              "      <td>100percentfedup</td>\n",
              "    </tr>\n",
              "  </tbody>\n",
              "</table>\n",
              "<p>1 rows × 26 columns</p>\n",
              "</div>"
            ],
            "text/plain": [
              "   ord_in_thread             author                  published  \\\n",
              "0              0  Barracuda Brigade  2016-10-26 21:41:00+03:00   \n",
              "\n",
              "                                               title  \\\n",
              "0  Muslims BUSTED: They Stole Millions In Gov’t B...   \n",
              "\n",
              "                                                text language  \\\n",
              "0  Print They should pay all the back all the mon...  english   \n",
              "\n",
              "                            crawled country  domain_rank  \\\n",
              "0  2016-10-27 01:49:27.168000+03:00      US      25689.0   \n",
              "\n",
              "                                        thread_title  ...  type  \\\n",
              "0  Muslims BUSTED: They Stole Millions In Gov’t B...  ...  bias   \n",
              "\n",
              "   published_month  published_date  published_year  published_hour  \\\n",
              "0               10              26            2016              21   \n",
              "\n",
              "   crawled_month crawled_year  crawled_hour  crawled_date        site_name  \n",
              "0             10         2016             1            27  100percentfedup  \n",
              "\n",
              "[1 rows x 26 columns]"
            ]
          },
          "metadata": {
            "tags": []
          },
          "execution_count": 89
        }
      ]
    },
    {
      "cell_type": "code",
      "metadata": {
        "id": "Ldyh2DEddYjQ"
      },
      "source": [
        "fake_news= df1[['title','text',]]"
      ],
      "execution_count": null,
      "outputs": []
    },
    {
      "cell_type": "code",
      "metadata": {
        "id": "M-VnpqUidYjR",
        "outputId": "3d296124-194b-4623-b8f9-8c19d764f178"
      },
      "source": [
        "df1.columns"
      ],
      "execution_count": null,
      "outputs": [
        {
          "output_type": "execute_result",
          "data": {
            "text/plain": [
              "Index(['ord_in_thread', 'author', 'published', 'title', 'text', 'language',\n",
              "       'crawled', 'country', 'domain_rank', 'thread_title', 'spam_score',\n",
              "       'replies_count', 'participants_count', 'likes', 'comments', 'shares',\n",
              "       'type', 'published_month', 'published_date', 'published_year',\n",
              "       'published_hour', 'crawled_month', 'crawled_year', 'crawled_hour',\n",
              "       'crawled_date', 'site_name'],\n",
              "      dtype='object')"
            ]
          },
          "metadata": {
            "tags": []
          },
          "execution_count": 91
        }
      ]
    },
    {
      "cell_type": "code",
      "metadata": {
        "id": "Bsh_6oD0dYjR",
        "outputId": "dcc08cda-e457-4f19-e122-ed39954faf9f"
      },
      "source": [
        "fake_news.head(1)"
      ],
      "execution_count": null,
      "outputs": [
        {
          "output_type": "execute_result",
          "data": {
            "text/html": [
              "<div>\n",
              "<style scoped>\n",
              "    .dataframe tbody tr th:only-of-type {\n",
              "        vertical-align: middle;\n",
              "    }\n",
              "\n",
              "    .dataframe tbody tr th {\n",
              "        vertical-align: top;\n",
              "    }\n",
              "\n",
              "    .dataframe thead th {\n",
              "        text-align: right;\n",
              "    }\n",
              "</style>\n",
              "<table border=\"1\" class=\"dataframe\">\n",
              "  <thead>\n",
              "    <tr style=\"text-align: right;\">\n",
              "      <th></th>\n",
              "      <th>title</th>\n",
              "      <th>text</th>\n",
              "    </tr>\n",
              "  </thead>\n",
              "  <tbody>\n",
              "    <tr>\n",
              "      <th>0</th>\n",
              "      <td>Muslims BUSTED: They Stole Millions In Gov’t B...</td>\n",
              "      <td>Print They should pay all the back all the mon...</td>\n",
              "    </tr>\n",
              "  </tbody>\n",
              "</table>\n",
              "</div>"
            ],
            "text/plain": [
              "                                               title  \\\n",
              "0  Muslims BUSTED: They Stole Millions In Gov’t B...   \n",
              "\n",
              "                                                text  \n",
              "0  Print They should pay all the back all the mon...  "
            ]
          },
          "metadata": {
            "tags": []
          },
          "execution_count": 92
        }
      ]
    },
    {
      "cell_type": "code",
      "metadata": {
        "id": "3HxmfBs0dYjS",
        "outputId": "32871258-ba0d-4fbb-ff50-5c4d269c44d2"
      },
      "source": [
        "fake_news.isnull().sum(axis=0)"
      ],
      "execution_count": null,
      "outputs": [
        {
          "output_type": "execute_result",
          "data": {
            "text/plain": [
              "title    0\n",
              "text     0\n",
              "dtype: int64"
            ]
          },
          "metadata": {
            "tags": []
          },
          "execution_count": 93
        }
      ]
    },
    {
      "cell_type": "code",
      "metadata": {
        "id": "DFNmbPukdYjS"
      },
      "source": [
        "fake_news['label']= 0"
      ],
      "execution_count": null,
      "outputs": []
    },
    {
      "cell_type": "code",
      "metadata": {
        "id": "jKsiGR1pdYjT"
      },
      "source": [
        "df3 = pd.read_csv('True.csv')"
      ],
      "execution_count": null,
      "outputs": []
    },
    {
      "cell_type": "code",
      "metadata": {
        "id": "OOXiBRUxdYjT",
        "outputId": "47ea1b0f-34af-47f7-b962-4701c21522da"
      },
      "source": [
        "fake_news.head(1)"
      ],
      "execution_count": null,
      "outputs": [
        {
          "output_type": "execute_result",
          "data": {
            "text/html": [
              "<div>\n",
              "<style scoped>\n",
              "    .dataframe tbody tr th:only-of-type {\n",
              "        vertical-align: middle;\n",
              "    }\n",
              "\n",
              "    .dataframe tbody tr th {\n",
              "        vertical-align: top;\n",
              "    }\n",
              "\n",
              "    .dataframe thead th {\n",
              "        text-align: right;\n",
              "    }\n",
              "</style>\n",
              "<table border=\"1\" class=\"dataframe\">\n",
              "  <thead>\n",
              "    <tr style=\"text-align: right;\">\n",
              "      <th></th>\n",
              "      <th>title</th>\n",
              "      <th>text</th>\n",
              "      <th>label</th>\n",
              "    </tr>\n",
              "  </thead>\n",
              "  <tbody>\n",
              "    <tr>\n",
              "      <th>0</th>\n",
              "      <td>Muslims BUSTED: They Stole Millions In Gov’t B...</td>\n",
              "      <td>Print They should pay all the back all the mon...</td>\n",
              "      <td>0</td>\n",
              "    </tr>\n",
              "  </tbody>\n",
              "</table>\n",
              "</div>"
            ],
            "text/plain": [
              "                                               title  \\\n",
              "0  Muslims BUSTED: They Stole Millions In Gov’t B...   \n",
              "\n",
              "                                                text  label  \n",
              "0  Print They should pay all the back all the mon...      0  "
            ]
          },
          "metadata": {
            "tags": []
          },
          "execution_count": 96
        }
      ]
    },
    {
      "cell_type": "code",
      "metadata": {
        "id": "4WDeoor8dYjU"
      },
      "source": [
        "true_news = df3[['title','text']]"
      ],
      "execution_count": null,
      "outputs": []
    },
    {
      "cell_type": "code",
      "metadata": {
        "id": "uLWjd5jEdYjU",
        "outputId": "1887e695-bc9c-4136-e878-dd3c4698a45d"
      },
      "source": [
        "true_news.isnull().sum(axis=0)"
      ],
      "execution_count": null,
      "outputs": [
        {
          "output_type": "execute_result",
          "data": {
            "text/plain": [
              "title    0\n",
              "text     0\n",
              "dtype: int64"
            ]
          },
          "metadata": {
            "tags": []
          },
          "execution_count": 98
        }
      ]
    },
    {
      "cell_type": "code",
      "metadata": {
        "id": "E7IpL2G4dYjV"
      },
      "source": [
        "true_news['label']= 1"
      ],
      "execution_count": null,
      "outputs": []
    },
    {
      "cell_type": "code",
      "metadata": {
        "id": "UzQxQfYJdYjV",
        "outputId": "43d624e8-6e15-48ae-c5e1-2d7118c7714c"
      },
      "source": [
        "true_news.head(1)"
      ],
      "execution_count": null,
      "outputs": [
        {
          "output_type": "execute_result",
          "data": {
            "text/html": [
              "<div>\n",
              "<style scoped>\n",
              "    .dataframe tbody tr th:only-of-type {\n",
              "        vertical-align: middle;\n",
              "    }\n",
              "\n",
              "    .dataframe tbody tr th {\n",
              "        vertical-align: top;\n",
              "    }\n",
              "\n",
              "    .dataframe thead th {\n",
              "        text-align: right;\n",
              "    }\n",
              "</style>\n",
              "<table border=\"1\" class=\"dataframe\">\n",
              "  <thead>\n",
              "    <tr style=\"text-align: right;\">\n",
              "      <th></th>\n",
              "      <th>title</th>\n",
              "      <th>text</th>\n",
              "      <th>label</th>\n",
              "    </tr>\n",
              "  </thead>\n",
              "  <tbody>\n",
              "    <tr>\n",
              "      <th>0</th>\n",
              "      <td>As U.S. budget fight looms, Republicans flip t...</td>\n",
              "      <td>WASHINGTON (Reuters) - The head of a conservat...</td>\n",
              "      <td>1</td>\n",
              "    </tr>\n",
              "  </tbody>\n",
              "</table>\n",
              "</div>"
            ],
            "text/plain": [
              "                                               title  \\\n",
              "0  As U.S. budget fight looms, Republicans flip t...   \n",
              "\n",
              "                                                text  label  \n",
              "0  WASHINGTON (Reuters) - The head of a conservat...      1  "
            ]
          },
          "metadata": {
            "tags": []
          },
          "execution_count": 100
        }
      ]
    },
    {
      "cell_type": "code",
      "metadata": {
        "id": "xJkENMPodYjZ"
      },
      "source": [
        "new_data_set = pd.concat([fake_news,true_news], axis =0 )"
      ],
      "execution_count": null,
      "outputs": []
    },
    {
      "cell_type": "markdown",
      "metadata": {
        "id": "KFUay5-QimPv"
      },
      "source": [
        "**Merging the two datasets**"
      ]
    },
    {
      "cell_type": "code",
      "metadata": {
        "id": "7ZwI9719dYjZ",
        "outputId": "590d2ca0-22a4-4f47-dced-66a02f92a44c"
      },
      "source": [
        "new_data_set.head(10)"
      ],
      "execution_count": null,
      "outputs": [
        {
          "output_type": "execute_result",
          "data": {
            "text/html": [
              "<div>\n",
              "<style scoped>\n",
              "    .dataframe tbody tr th:only-of-type {\n",
              "        vertical-align: middle;\n",
              "    }\n",
              "\n",
              "    .dataframe tbody tr th {\n",
              "        vertical-align: top;\n",
              "    }\n",
              "\n",
              "    .dataframe thead th {\n",
              "        text-align: right;\n",
              "    }\n",
              "</style>\n",
              "<table border=\"1\" class=\"dataframe\">\n",
              "  <thead>\n",
              "    <tr style=\"text-align: right;\">\n",
              "      <th></th>\n",
              "      <th>title</th>\n",
              "      <th>text</th>\n",
              "      <th>label</th>\n",
              "    </tr>\n",
              "  </thead>\n",
              "  <tbody>\n",
              "    <tr>\n",
              "      <th>0</th>\n",
              "      <td>Muslims BUSTED: They Stole Millions In Gov’t B...</td>\n",
              "      <td>Print They should pay all the back all the mon...</td>\n",
              "      <td>0</td>\n",
              "    </tr>\n",
              "    <tr>\n",
              "      <th>1</th>\n",
              "      <td>Re: Why Did Attorney General Loretta Lynch Ple...</td>\n",
              "      <td>Why Did Attorney General Loretta Lynch Plead T...</td>\n",
              "      <td>0</td>\n",
              "    </tr>\n",
              "    <tr>\n",
              "      <th>2</th>\n",
              "      <td>BREAKING: Weiner Cooperating With FBI On Hilla...</td>\n",
              "      <td>Red State : \\nFox News Sunday reported this mo...</td>\n",
              "      <td>0</td>\n",
              "    </tr>\n",
              "    <tr>\n",
              "      <th>3</th>\n",
              "      <td>PIN DROP SPEECH BY FATHER OF DAUGHTER Kidnappe...</td>\n",
              "      <td>Email Kayla Mueller was a prisoner and torture...</td>\n",
              "      <td>0</td>\n",
              "    </tr>\n",
              "    <tr>\n",
              "      <th>4</th>\n",
              "      <td>FANTASTIC! TRUMP'S 7 POINT PLAN To Reform Heal...</td>\n",
              "      <td>Email HEALTHCARE REFORM TO MAKE AMERICA GREAT ...</td>\n",
              "      <td>0</td>\n",
              "    </tr>\n",
              "    <tr>\n",
              "      <th>5</th>\n",
              "      <td>Hillary Goes Absolutely Berserk On Protester A...</td>\n",
              "      <td>Print Hillary goes absolutely berserk! She exp...</td>\n",
              "      <td>0</td>\n",
              "    </tr>\n",
              "    <tr>\n",
              "      <th>6</th>\n",
              "      <td>BREAKING! NYPD Ready To Make Arrests In Weiner...</td>\n",
              "      <td>BREAKING! NYPD Ready To Make Arrests In Weiner...</td>\n",
              "      <td>0</td>\n",
              "    </tr>\n",
              "    <tr>\n",
              "      <th>7</th>\n",
              "      <td>WOW! WHISTLEBLOWER TELLS CHILLING STORY Of Mas...</td>\n",
              "      <td>BREAKING! NYPD Ready To Make Arrests In Weiner...</td>\n",
              "      <td>0</td>\n",
              "    </tr>\n",
              "    <tr>\n",
              "      <th>8</th>\n",
              "      <td>BREAKING: CLINTON CLEARED...Was This A Coordin...</td>\n",
              "      <td>\\nLimbaugh said that the revelations in the Wi...</td>\n",
              "      <td>0</td>\n",
              "    </tr>\n",
              "    <tr>\n",
              "      <th>9</th>\n",
              "      <td>EVIL HILLARY SUPPORTERS Yell \"F*ck Trump\"…Burn...</td>\n",
              "      <td>Email \\nThese people are sick and evil. They w...</td>\n",
              "      <td>0</td>\n",
              "    </tr>\n",
              "  </tbody>\n",
              "</table>\n",
              "</div>"
            ],
            "text/plain": [
              "                                               title  \\\n",
              "0  Muslims BUSTED: They Stole Millions In Gov’t B...   \n",
              "1  Re: Why Did Attorney General Loretta Lynch Ple...   \n",
              "2  BREAKING: Weiner Cooperating With FBI On Hilla...   \n",
              "3  PIN DROP SPEECH BY FATHER OF DAUGHTER Kidnappe...   \n",
              "4  FANTASTIC! TRUMP'S 7 POINT PLAN To Reform Heal...   \n",
              "5  Hillary Goes Absolutely Berserk On Protester A...   \n",
              "6  BREAKING! NYPD Ready To Make Arrests In Weiner...   \n",
              "7  WOW! WHISTLEBLOWER TELLS CHILLING STORY Of Mas...   \n",
              "8  BREAKING: CLINTON CLEARED...Was This A Coordin...   \n",
              "9  EVIL HILLARY SUPPORTERS Yell \"F*ck Trump\"…Burn...   \n",
              "\n",
              "                                                text  label  \n",
              "0  Print They should pay all the back all the mon...      0  \n",
              "1  Why Did Attorney General Loretta Lynch Plead T...      0  \n",
              "2  Red State : \\nFox News Sunday reported this mo...      0  \n",
              "3  Email Kayla Mueller was a prisoner and torture...      0  \n",
              "4  Email HEALTHCARE REFORM TO MAKE AMERICA GREAT ...      0  \n",
              "5  Print Hillary goes absolutely berserk! She exp...      0  \n",
              "6  BREAKING! NYPD Ready To Make Arrests In Weiner...      0  \n",
              "7  BREAKING! NYPD Ready To Make Arrests In Weiner...      0  \n",
              "8  \\nLimbaugh said that the revelations in the Wi...      0  \n",
              "9  Email \\nThese people are sick and evil. They w...      0  "
            ]
          },
          "metadata": {
            "tags": []
          },
          "execution_count": 102
        }
      ]
    },
    {
      "cell_type": "code",
      "metadata": {
        "id": "XSyW7ml2dYja"
      },
      "source": [
        "new_suf_data_set = new_data_set.sample(frac = 1)"
      ],
      "execution_count": null,
      "outputs": []
    },
    {
      "cell_type": "markdown",
      "metadata": {
        "id": "pt90RGySisCm"
      },
      "source": [
        "**Shuffling the dataset to remove bias**"
      ]
    },
    {
      "cell_type": "code",
      "metadata": {
        "id": "wqHCMGU3dYjb",
        "outputId": "1e0b591e-cd58-4038-a435-f506d0a956f2"
      },
      "source": [
        "new_suf_data_set.head(10)"
      ],
      "execution_count": null,
      "outputs": [
        {
          "output_type": "execute_result",
          "data": {
            "text/html": [
              "<div>\n",
              "<style scoped>\n",
              "    .dataframe tbody tr th:only-of-type {\n",
              "        vertical-align: middle;\n",
              "    }\n",
              "\n",
              "    .dataframe tbody tr th {\n",
              "        vertical-align: top;\n",
              "    }\n",
              "\n",
              "    .dataframe thead th {\n",
              "        text-align: right;\n",
              "    }\n",
              "</style>\n",
              "<table border=\"1\" class=\"dataframe\">\n",
              "  <thead>\n",
              "    <tr style=\"text-align: right;\">\n",
              "      <th></th>\n",
              "      <th>title</th>\n",
              "      <th>text</th>\n",
              "      <th>label</th>\n",
              "    </tr>\n",
              "  </thead>\n",
              "  <tbody>\n",
              "    <tr>\n",
              "      <th>404</th>\n",
              "      <td>Republicans have the votes to pass tax bill in...</td>\n",
              "      <td>WASHINGTON (Reuters) - U.S. Senate Republican ...</td>\n",
              "      <td>1</td>\n",
              "    </tr>\n",
              "    <tr>\n",
              "      <th>20248</th>\n",
              "      <td>Violent street protests break out in Haiti ove...</td>\n",
              "      <td>PORT-AU-PRINCE (Reuters) - Protesters in Haiti...</td>\n",
              "      <td>1</td>\n",
              "    </tr>\n",
              "    <tr>\n",
              "      <th>13877</th>\n",
              "      <td>Japan coast guard finds body of dead male susp...</td>\n",
              "      <td>TOKYO (Reuters) - Japan s Coast Guard found th...</td>\n",
              "      <td>1</td>\n",
              "    </tr>\n",
              "    <tr>\n",
              "      <th>16771</th>\n",
              "      <td>Now talk nice: EU script to help May settle Br...</td>\n",
              "      <td>BRUSSELS (Reuters) - Diplomatic theatrics at l...</td>\n",
              "      <td>1</td>\n",
              "    </tr>\n",
              "    <tr>\n",
              "      <th>8591</th>\n",
              "      <td>Russia’s Most Potent Weapon: Rapidly “Hoarding...</td>\n",
              "      <td>\\nThis article was written by Jay Syrmopoulos ...</td>\n",
              "      <td>0</td>\n",
              "    </tr>\n",
              "    <tr>\n",
              "      <th>11564</th>\n",
              "      <td>No man an island - China warns against strayin...</td>\n",
              "      <td>BEIJING (Reuters) - Members of China s ruling ...</td>\n",
              "      <td>1</td>\n",
              "    </tr>\n",
              "    <tr>\n",
              "      <th>312</th>\n",
              "      <td>House passes measure to limit aid to Palestini...</td>\n",
              "      <td>WASHINGTON (Reuters) - The U.S. House of Repre...</td>\n",
              "      <td>1</td>\n",
              "    </tr>\n",
              "    <tr>\n",
              "      <th>9335</th>\n",
              "      <td>NY attorney general slams Trump's comment on j...</td>\n",
              "      <td>WASHINGTON (Reuters) - New York’s attorney gen...</td>\n",
              "      <td>1</td>\n",
              "    </tr>\n",
              "    <tr>\n",
              "      <th>20452</th>\n",
              "      <td>South Korean foreign minister says North Korea...</td>\n",
              "      <td>SEOUL (Reuters) - South Korean Foreign Ministe...</td>\n",
              "      <td>1</td>\n",
              "    </tr>\n",
              "    <tr>\n",
              "      <th>3003</th>\n",
              "      <td>US calls for end to Saudi airstrikes in Yemen</td>\n",
              "      <td>November 1, 2016 US calls for end to Saudi air...</td>\n",
              "      <td>0</td>\n",
              "    </tr>\n",
              "  </tbody>\n",
              "</table>\n",
              "</div>"
            ],
            "text/plain": [
              "                                                   title  \\\n",
              "404    Republicans have the votes to pass tax bill in...   \n",
              "20248  Violent street protests break out in Haiti ove...   \n",
              "13877  Japan coast guard finds body of dead male susp...   \n",
              "16771  Now talk nice: EU script to help May settle Br...   \n",
              "8591   Russia’s Most Potent Weapon: Rapidly “Hoarding...   \n",
              "11564  No man an island - China warns against strayin...   \n",
              "312    House passes measure to limit aid to Palestini...   \n",
              "9335   NY attorney general slams Trump's comment on j...   \n",
              "20452  South Korean foreign minister says North Korea...   \n",
              "3003       US calls for end to Saudi airstrikes in Yemen   \n",
              "\n",
              "                                                    text  label  \n",
              "404    WASHINGTON (Reuters) - U.S. Senate Republican ...      1  \n",
              "20248  PORT-AU-PRINCE (Reuters) - Protesters in Haiti...      1  \n",
              "13877  TOKYO (Reuters) - Japan s Coast Guard found th...      1  \n",
              "16771  BRUSSELS (Reuters) - Diplomatic theatrics at l...      1  \n",
              "8591   \\nThis article was written by Jay Syrmopoulos ...      0  \n",
              "11564  BEIJING (Reuters) - Members of China s ruling ...      1  \n",
              "312    WASHINGTON (Reuters) - The U.S. House of Repre...      1  \n",
              "9335   WASHINGTON (Reuters) - New York’s attorney gen...      1  \n",
              "20452  SEOUL (Reuters) - South Korean Foreign Ministe...      1  \n",
              "3003   November 1, 2016 US calls for end to Saudi air...      0  "
            ]
          },
          "metadata": {
            "tags": []
          },
          "execution_count": 104
        }
      ]
    },
    {
      "cell_type": "code",
      "metadata": {
        "id": "qg-bNuWydYjb",
        "outputId": "8a797b4e-9ea0-4693-bafd-f8902d50a9ec"
      },
      "source": [
        "new_suf_data_set['text'][2]"
      ],
      "execution_count": null,
      "outputs": [
        {
          "output_type": "execute_result",
          "data": {
            "text/plain": [
              "2    WASHINGTON (Reuters) - The special counsel inv...\n",
              "2    Red State : \\nFox News Sunday reported this mo...\n",
              "Name: text, dtype: object"
            ]
          },
          "metadata": {
            "tags": []
          },
          "execution_count": 105
        }
      ]
    },
    {
      "cell_type": "code",
      "metadata": {
        "id": "gReN-4MqdYjc"
      },
      "source": [
        "new_suf_data_set.reset_index(inplace = True)\n",
        "new_suf_data_set.drop([\"index\"], axis = 1, inplace = True)"
      ],
      "execution_count": null,
      "outputs": []
    },
    {
      "cell_type": "code",
      "metadata": {
        "id": "S6y2up0AdYjc",
        "outputId": "f9cf0169-dc2a-4c59-a356-3118cca771db"
      },
      "source": [
        "new_suf_data_set.head(10)"
      ],
      "execution_count": null,
      "outputs": [
        {
          "output_type": "execute_result",
          "data": {
            "text/html": [
              "<div>\n",
              "<style scoped>\n",
              "    .dataframe tbody tr th:only-of-type {\n",
              "        vertical-align: middle;\n",
              "    }\n",
              "\n",
              "    .dataframe tbody tr th {\n",
              "        vertical-align: top;\n",
              "    }\n",
              "\n",
              "    .dataframe thead th {\n",
              "        text-align: right;\n",
              "    }\n",
              "</style>\n",
              "<table border=\"1\" class=\"dataframe\">\n",
              "  <thead>\n",
              "    <tr style=\"text-align: right;\">\n",
              "      <th></th>\n",
              "      <th>title</th>\n",
              "      <th>text</th>\n",
              "      <th>label</th>\n",
              "    </tr>\n",
              "  </thead>\n",
              "  <tbody>\n",
              "    <tr>\n",
              "      <th>0</th>\n",
              "      <td>Republicans have the votes to pass tax bill in...</td>\n",
              "      <td>WASHINGTON (Reuters) - U.S. Senate Republican ...</td>\n",
              "      <td>1</td>\n",
              "    </tr>\n",
              "    <tr>\n",
              "      <th>1</th>\n",
              "      <td>Violent street protests break out in Haiti ove...</td>\n",
              "      <td>PORT-AU-PRINCE (Reuters) - Protesters in Haiti...</td>\n",
              "      <td>1</td>\n",
              "    </tr>\n",
              "    <tr>\n",
              "      <th>2</th>\n",
              "      <td>Japan coast guard finds body of dead male susp...</td>\n",
              "      <td>TOKYO (Reuters) - Japan s Coast Guard found th...</td>\n",
              "      <td>1</td>\n",
              "    </tr>\n",
              "    <tr>\n",
              "      <th>3</th>\n",
              "      <td>Now talk nice: EU script to help May settle Br...</td>\n",
              "      <td>BRUSSELS (Reuters) - Diplomatic theatrics at l...</td>\n",
              "      <td>1</td>\n",
              "    </tr>\n",
              "    <tr>\n",
              "      <th>4</th>\n",
              "      <td>Russia’s Most Potent Weapon: Rapidly “Hoarding...</td>\n",
              "      <td>\\nThis article was written by Jay Syrmopoulos ...</td>\n",
              "      <td>0</td>\n",
              "    </tr>\n",
              "    <tr>\n",
              "      <th>5</th>\n",
              "      <td>No man an island - China warns against strayin...</td>\n",
              "      <td>BEIJING (Reuters) - Members of China s ruling ...</td>\n",
              "      <td>1</td>\n",
              "    </tr>\n",
              "    <tr>\n",
              "      <th>6</th>\n",
              "      <td>House passes measure to limit aid to Palestini...</td>\n",
              "      <td>WASHINGTON (Reuters) - The U.S. House of Repre...</td>\n",
              "      <td>1</td>\n",
              "    </tr>\n",
              "    <tr>\n",
              "      <th>7</th>\n",
              "      <td>NY attorney general slams Trump's comment on j...</td>\n",
              "      <td>WASHINGTON (Reuters) - New York’s attorney gen...</td>\n",
              "      <td>1</td>\n",
              "    </tr>\n",
              "    <tr>\n",
              "      <th>8</th>\n",
              "      <td>South Korean foreign minister says North Korea...</td>\n",
              "      <td>SEOUL (Reuters) - South Korean Foreign Ministe...</td>\n",
              "      <td>1</td>\n",
              "    </tr>\n",
              "    <tr>\n",
              "      <th>9</th>\n",
              "      <td>US calls for end to Saudi airstrikes in Yemen</td>\n",
              "      <td>November 1, 2016 US calls for end to Saudi air...</td>\n",
              "      <td>0</td>\n",
              "    </tr>\n",
              "  </tbody>\n",
              "</table>\n",
              "</div>"
            ],
            "text/plain": [
              "                                               title  \\\n",
              "0  Republicans have the votes to pass tax bill in...   \n",
              "1  Violent street protests break out in Haiti ove...   \n",
              "2  Japan coast guard finds body of dead male susp...   \n",
              "3  Now talk nice: EU script to help May settle Br...   \n",
              "4  Russia’s Most Potent Weapon: Rapidly “Hoarding...   \n",
              "5  No man an island - China warns against strayin...   \n",
              "6  House passes measure to limit aid to Palestini...   \n",
              "7  NY attorney general slams Trump's comment on j...   \n",
              "8  South Korean foreign minister says North Korea...   \n",
              "9      US calls for end to Saudi airstrikes in Yemen   \n",
              "\n",
              "                                                text  label  \n",
              "0  WASHINGTON (Reuters) - U.S. Senate Republican ...      1  \n",
              "1  PORT-AU-PRINCE (Reuters) - Protesters in Haiti...      1  \n",
              "2  TOKYO (Reuters) - Japan s Coast Guard found th...      1  \n",
              "3  BRUSSELS (Reuters) - Diplomatic theatrics at l...      1  \n",
              "4  \\nThis article was written by Jay Syrmopoulos ...      0  \n",
              "5  BEIJING (Reuters) - Members of China s ruling ...      1  \n",
              "6  WASHINGTON (Reuters) - The U.S. House of Repre...      1  \n",
              "7  WASHINGTON (Reuters) - New York’s attorney gen...      1  \n",
              "8  SEOUL (Reuters) - South Korean Foreign Ministe...      1  \n",
              "9  November 1, 2016 US calls for end to Saudi air...      0  "
            ]
          },
          "metadata": {
            "tags": []
          },
          "execution_count": 107
        }
      ]
    },
    {
      "cell_type": "code",
      "metadata": {
        "id": "-pt4GCd2dYjd",
        "outputId": "d4f212b6-5fe6-4bcb-ec4a-c2819d7bd9bc"
      },
      "source": [
        "new_suf_data_set['text'][2]"
      ],
      "execution_count": null,
      "outputs": [
        {
          "output_type": "execute_result",
          "data": {
            "text/plain": [
              "'TOKYO (Reuters) - Japan s Coast Guard found the body of a male and parts of a wooden boat suspected to be from North Korea on the coast of one of Japan s outlying islands on Saturday, an official said. The Coast Guard made the discovery around 6:30 a.m. on Saturday (2130 GMT on Friday) on Sado island, which is off the coast of Japan s northwestern prefecture of Niigata, a coast guard official said, declining to give his name. The guard also found a pack of cigarettes written in Korean and other personal belongings with Korean written on them near the body, the official said. The cause of death is still unknown, the official said. The discovery on Saturday marks the second time this month that parts of a wooden boat suspected to be from North Korea have washed up on the shores of Sado island, the official said. Finding the body will add to the increasing unease in Japan and South Korea over North Korea s nuclear arms program after U.S. President Donald Trump redesignated North Korea a state sponsor of terrorism, allowing the U.S. government to levy additional sanctions. On Friday, police found eight North Korean men near a boat at a seaside marina in northern Japan. The men appeared to be fishermen whose boat had trouble, rather than defectors, the police said. Last week, the Coast Guard rescued three North Korean men on a capsized boat in the Sea of Japan who said they were fishermen and were later sent home aboard a North Korean vessel. A North Korean soldier dramatically defected to South Korea last week after being shot and wounded by his country s military as he dashed across the heavily guarded Demilitarized Zone between the two countries.   '"
            ]
          },
          "metadata": {
            "tags": []
          },
          "execution_count": 108
        }
      ]
    },
    {
      "cell_type": "code",
      "metadata": {
        "id": "seMHGjnydYjd",
        "outputId": "7cb1e9c4-f44a-4077-cad3-2beb25551431"
      },
      "source": [
        "new_suf_data_set['title'][2]"
      ],
      "execution_count": null,
      "outputs": [
        {
          "output_type": "execute_result",
          "data": {
            "text/plain": [
              "'Japan coast guard finds body of dead male suspected from North Korea'"
            ]
          },
          "metadata": {
            "tags": []
          },
          "execution_count": 109
        }
      ]
    },
    {
      "cell_type": "code",
      "metadata": {
        "id": "oNRyJyGTdYje"
      },
      "source": [
        "new_suf_data_set = new_suf_data_set.drop('title',axis=1)"
      ],
      "execution_count": null,
      "outputs": []
    },
    {
      "cell_type": "code",
      "metadata": {
        "id": "y6RtKpqudYje",
        "outputId": "a2e99d14-e9a2-4e74-b5b2-e8992ee29a7f"
      },
      "source": [
        "new_suf_data_set.head(1)"
      ],
      "execution_count": null,
      "outputs": [
        {
          "output_type": "execute_result",
          "data": {
            "text/html": [
              "<div>\n",
              "<style scoped>\n",
              "    .dataframe tbody tr th:only-of-type {\n",
              "        vertical-align: middle;\n",
              "    }\n",
              "\n",
              "    .dataframe tbody tr th {\n",
              "        vertical-align: top;\n",
              "    }\n",
              "\n",
              "    .dataframe thead th {\n",
              "        text-align: right;\n",
              "    }\n",
              "</style>\n",
              "<table border=\"1\" class=\"dataframe\">\n",
              "  <thead>\n",
              "    <tr style=\"text-align: right;\">\n",
              "      <th></th>\n",
              "      <th>text</th>\n",
              "      <th>label</th>\n",
              "    </tr>\n",
              "  </thead>\n",
              "  <tbody>\n",
              "    <tr>\n",
              "      <th>0</th>\n",
              "      <td>WASHINGTON (Reuters) - U.S. Senate Republican ...</td>\n",
              "      <td>1</td>\n",
              "    </tr>\n",
              "  </tbody>\n",
              "</table>\n",
              "</div>"
            ],
            "text/plain": [
              "                                                text  label\n",
              "0  WASHINGTON (Reuters) - U.S. Senate Republican ...      1"
            ]
          },
          "metadata": {
            "tags": []
          },
          "execution_count": 111
        }
      ]
    },
    {
      "cell_type": "code",
      "metadata": {
        "id": "kG7TW3W0dYjf"
      },
      "source": [
        "import re"
      ],
      "execution_count": null,
      "outputs": []
    },
    {
      "cell_type": "code",
      "metadata": {
        "id": "SigbTx0AdYjf"
      },
      "source": [
        "def wordopt(text):\n",
        "    text = text.lower()\n",
        "    text = re.sub('\\[.*?\\]', '', text)\n",
        "    text = re.sub(\"\\\\W\",\" \",text) \n",
        "    text = re.sub('https?://\\S+|www\\.\\S+', '', text)\n",
        "    text = re.sub('<.*?>+', '', text)\n",
        "    text = re.sub('[%s]' % re.escape(string.punctuation), '', text)\n",
        "    text = re.sub('\\n', '', text)\n",
        "    text = re.sub('\\w*\\d\\w*', '', text)    \n",
        "    return text\n",
        "\n",
        "\n",
        "new_suf_data_set[\"text\"] = new_suf_data_set[\"text\"].apply(wordopt)"
      ],
      "execution_count": null,
      "outputs": []
    },
    {
      "cell_type": "code",
      "metadata": {
        "id": "Q4GPV0xedYjg",
        "outputId": "676ac9ca-6126-4845-f692-107e8e94d4f1"
      },
      "source": [
        "new_suf_data_set.head(5)"
      ],
      "execution_count": null,
      "outputs": [
        {
          "output_type": "execute_result",
          "data": {
            "text/html": [
              "<div>\n",
              "<style scoped>\n",
              "    .dataframe tbody tr th:only-of-type {\n",
              "        vertical-align: middle;\n",
              "    }\n",
              "\n",
              "    .dataframe tbody tr th {\n",
              "        vertical-align: top;\n",
              "    }\n",
              "\n",
              "    .dataframe thead th {\n",
              "        text-align: right;\n",
              "    }\n",
              "</style>\n",
              "<table border=\"1\" class=\"dataframe\">\n",
              "  <thead>\n",
              "    <tr style=\"text-align: right;\">\n",
              "      <th></th>\n",
              "      <th>text</th>\n",
              "      <th>label</th>\n",
              "    </tr>\n",
              "  </thead>\n",
              "  <tbody>\n",
              "    <tr>\n",
              "      <th>0</th>\n",
              "      <td>washington  reuters    u s  senate republican ...</td>\n",
              "      <td>1</td>\n",
              "    </tr>\n",
              "    <tr>\n",
              "      <th>1</th>\n",
              "      <td>port au prince  reuters    protesters in haiti...</td>\n",
              "      <td>1</td>\n",
              "    </tr>\n",
              "    <tr>\n",
              "      <th>2</th>\n",
              "      <td>tokyo  reuters    japan s coast guard found th...</td>\n",
              "      <td>1</td>\n",
              "    </tr>\n",
              "    <tr>\n",
              "      <th>3</th>\n",
              "      <td>brussels  reuters    diplomatic theatrics at l...</td>\n",
              "      <td>1</td>\n",
              "    </tr>\n",
              "    <tr>\n",
              "      <th>4</th>\n",
              "      <td>this article was written by jay syrmopoulos a...</td>\n",
              "      <td>0</td>\n",
              "    </tr>\n",
              "  </tbody>\n",
              "</table>\n",
              "</div>"
            ],
            "text/plain": [
              "                                                text  label\n",
              "0  washington  reuters    u s  senate republican ...      1\n",
              "1  port au prince  reuters    protesters in haiti...      1\n",
              "2  tokyo  reuters    japan s coast guard found th...      1\n",
              "3  brussels  reuters    diplomatic theatrics at l...      1\n",
              "4   this article was written by jay syrmopoulos a...      0"
            ]
          },
          "metadata": {
            "tags": []
          },
          "execution_count": 114
        }
      ]
    },
    {
      "cell_type": "code",
      "metadata": {
        "id": "AFddPtV8dYjh"
      },
      "source": [
        "x = new_suf_data_set[\"text\"]\n",
        "y = new_suf_data_set[\"label\"]"
      ],
      "execution_count": null,
      "outputs": []
    },
    {
      "cell_type": "code",
      "metadata": {
        "id": "emvf5dHaSGdJ",
        "outputId": "f9bf2ead-637a-45d1-9571-487057a6591a"
      },
      "source": [
        "new_suf_data_set['label'].hist(grid=False,rwidth=0.8,color='g',bins=17)"
      ],
      "execution_count": null,
      "outputs": [
        {
          "output_type": "execute_result",
          "data": {
            "text/plain": [
              "<matplotlib.axes._subplots.AxesSubplot at 0x27086a62848>"
            ]
          },
          "metadata": {
            "tags": []
          },
          "execution_count": 143
        },
        {
          "output_type": "display_data",
          "data": {
            "image/png": "[encoded data removed]",
            "text/plain": [
              "<Figure size 432x288 with 1 Axes>"
            ]
          },
          "metadata": {
            "tags": [],
            "needs_background": "light"
          }
        }
      ]
    },
    {
      "cell_type": "markdown",
      "metadata": {
        "id": "Z2DiCm2GS3h9"
      },
      "source": [
        " THIS HISTOGRAM SHOWS THAT THE DEPENDENT VARIABLE IS CATEGORICAL."
      ]
    },
    {
      "cell_type": "code",
      "metadata": {
        "id": "ecjU8rvIdYjh"
      },
      "source": [
        "from sklearn.model_selection import train_test_split"
      ],
      "execution_count": null,
      "outputs": []
    },
    {
      "cell_type": "code",
      "metadata": {
        "id": "by6rbqRmdYjh"
      },
      "source": [
        "x_train, x_test, y_train, y_test = train_test_split(x, y, test_size=0.3,random_state=143)"
      ],
      "execution_count": null,
      "outputs": []
    },
    {
      "cell_type": "code",
      "metadata": {
        "id": "0leqmqukdYji"
      },
      "source": [
        "from sklearn.feature_extraction.text import TfidfVectorizer"
      ],
      "execution_count": null,
      "outputs": []
    },
    {
      "cell_type": "code",
      "metadata": {
        "id": "ykKw0ur8dYji"
      },
      "source": [
        "vectorization = TfidfVectorizer()\n",
        "xv_train = vectorization.fit_transform(x_train)\n",
        "xv_test = vectorization.transform(x_test)"
      ],
      "execution_count": null,
      "outputs": []
    },
    {
      "cell_type": "markdown",
      "metadata": {
        "id": "0y7ShDuaSPJS"
      },
      "source": [
        "#LET'S FIT OUR DATA TO A MODEL!!"
      ]
    },
    {
      "cell_type": "markdown",
      "metadata": {
        "id": "-TBbshHoSXew"
      },
      "source": [
        "# LOGISTIC REGRESSION"
      ]
    },
    {
      "cell_type": "code",
      "metadata": {
        "id": "w1Aztx8zdYjj"
      },
      "source": [
        "from sklearn.linear_model import LogisticRegression"
      ],
      "execution_count": null,
      "outputs": []
    },
    {
      "cell_type": "code",
      "metadata": {
        "id": "YTqUdL7OdYjj",
        "outputId": "7bee7eda-7d8d-4d8c-81e0-4251ac71a4b2"
      },
      "source": [
        "regressor = LogisticRegression()\n",
        "regressor.fit(xv_train,y_train)"
      ],
      "execution_count": null,
      "outputs": [
        {
          "output_type": "execute_result",
          "data": {
            "text/plain": [
              "LogisticRegression(C=1.0, class_weight=None, dual=False, fit_intercept=True,\n",
              "                   intercept_scaling=1, l1_ratio=None, max_iter=100,\n",
              "                   multi_class='auto', n_jobs=None, penalty='l2',\n",
              "                   random_state=None, solver='lbfgs', tol=0.0001, verbose=0,\n",
              "                   warm_start=False)"
            ]
          },
          "metadata": {
            "tags": []
          },
          "execution_count": 121
        }
      ]
    },
    {
      "cell_type": "code",
      "metadata": {
        "id": "kjSFxIgFdYjk"
      },
      "source": [
        "predic_regressor=regressor.predict(xv_test)"
      ],
      "execution_count": null,
      "outputs": []
    },
    {
      "cell_type": "code",
      "metadata": {
        "id": "R4iX8VPcdYjl"
      },
      "source": [
        "from sklearn.metrics import classification_report\n",
        "from sklearn.metrics import accuracy_score\n",
        "from sklearn.metrics import confusion_matrix\n"
      ],
      "execution_count": null,
      "outputs": []
    },
    {
      "cell_type": "code",
      "metadata": {
        "id": "dqVCQA04dYjl",
        "outputId": "48f709ab-3f65-4e3d-8f63-43e6d02ab550"
      },
      "source": [
        "sns.heatmap(confusion_matrix(y_test, predic_regressor).astype(int),annot=True,cbar=False,xticklabels=['fake','true'],yticklabels=['fake','true'],cmap='viridis_r',fmt='.1f')"
      ],
      "execution_count": null,
      "outputs": [
        {
          "output_type": "execute_result",
          "data": {
            "text/plain": [
              "<matplotlib.axes._subplots.AxesSubplot at 0x27086b37c48>"
            ]
          },
          "metadata": {
            "tags": []
          },
          "execution_count": 124
        },
        {
          "output_type": "display_data",
          "data": {
            "image/png": "[encoded data removed]",
            "text/plain": [
              "<Figure size 432x288 with 1 Axes>"
            ]
          },
          "metadata": {
            "tags": [],
            "needs_background": "light"
          }
        }
      ]
    },
    {
      "cell_type": "code",
      "metadata": {
        "id": "lSboMvDAdYjm",
        "outputId": "8c8df30b-3172-4b0c-b204-4bf860466822"
      },
      "source": [
        "accuracy_score(y_test, predic_regressor)"
      ],
      "execution_count": null,
      "outputs": [
        {
          "output_type": "execute_result",
          "data": {
            "text/plain": [
              "0.9850555081127241"
            ]
          },
          "metadata": {
            "tags": []
          },
          "execution_count": 125
        }
      ]
    },
    {
      "cell_type": "markdown",
      "metadata": {
        "id": "BPvI-BVdiz8u"
      },
      "source": [
        "**98.5% accuracy rate**"
      ]
    },
    {
      "cell_type": "code",
      "metadata": {
        "id": "TcNlHASkdYjm",
        "outputId": "911299a9-c580-42b1-8154-e5a1e1610d50"
      },
      "source": [
        "print(classification_report(y_test, predic_regressor))"
      ],
      "execution_count": null,
      "outputs": [
        {
          "output_type": "stream",
          "text": [
            "              precision    recall  f1-score   support\n",
            "\n",
            "           0       0.99      0.96      0.98      2933\n",
            "           1       0.98      1.00      0.99      6435\n",
            "\n",
            "    accuracy                           0.99      9368\n",
            "   macro avg       0.99      0.98      0.98      9368\n",
            "weighted avg       0.99      0.99      0.98      9368\n",
            "\n"
          ],
          "name": "stdout"
        }
      ]
    },
    {
      "cell_type": "markdown",
      "metadata": {
        "id": "fa0xCIx3Sc3J"
      },
      "source": [
        "# DECISION TREE"
      ]
    },
    {
      "cell_type": "markdown",
      "metadata": {
        "id": "znabzxKjSgUr"
      },
      "source": [
        "![decision-tree-classification-algorithm.png](data:image/png;base64,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)"
      ]
    },
    {
      "cell_type": "code",
      "metadata": {
        "id": "fv3EdgvTdYjn"
      },
      "source": [
        "from sklearn.tree import DecisionTreeClassifier"
      ],
      "execution_count": null,
      "outputs": []
    },
    {
      "cell_type": "code",
      "metadata": {
        "id": "DQDsxhfHdYjn",
        "outputId": "d8bf1ee4-8727-4309-ab90-73b94be1e42f"
      },
      "source": [
        "tree = DecisionTreeClassifier()\n",
        "tree.fit(xv_train, y_train)"
      ],
      "execution_count": null,
      "outputs": [
        {
          "output_type": "execute_result",
          "data": {
            "text/plain": [
              "DecisionTreeClassifier(ccp_alpha=0.0, class_weight=None, criterion='gini',\n",
              "                       max_depth=None, max_features=None, max_leaf_nodes=None,\n",
              "                       min_impurity_decrease=0.0, min_impurity_split=None,\n",
              "                       min_samples_leaf=1, min_samples_split=2,\n",
              "                       min_weight_fraction_leaf=0.0, presort='deprecated',\n",
              "                       random_state=None, splitter='best')"
            ]
          },
          "metadata": {
            "tags": []
          },
          "execution_count": 128
        }
      ]
    },
    {
      "cell_type": "code",
      "metadata": {
        "id": "NnTFd7HTdYjo"
      },
      "source": [
        "predic_tree = tree.predict(xv_test)"
      ],
      "execution_count": null,
      "outputs": []
    },
    {
      "cell_type": "code",
      "metadata": {
        "id": "0RuKc_D3dYjo",
        "outputId": "7957d035-4f9b-4fbc-8d35-b307c834cc4c"
      },
      "source": [
        "sns.heatmap(confusion_matrix(y_test, predic_tree).astype(int),annot=True,cbar=False,xticklabels=['fake','true'],yticklabels=['fake','true'],cmap='viridis',fmt='.1f')"
      ],
      "execution_count": null,
      "outputs": [
        {
          "output_type": "execute_result",
          "data": {
            "text/plain": [
              "<matplotlib.axes._subplots.AxesSubplot at 0x27086a56d08>"
            ]
          },
          "metadata": {
            "tags": []
          },
          "execution_count": 130
        },
        {
          "output_type": "display_data",
          "data": {
            "image/png": "[encoded data removed]",
            "text/plain": [
              "<Figure size 432x288 with 1 Axes>"
            ]
          },
          "metadata": {
            "tags": [],
            "needs_background": "light"
          }
        }
      ]
    },
    {
      "cell_type": "code",
      "metadata": {
        "id": "LlZICzsQdYjp",
        "outputId": "48eb91e1-75a4-4533-b0d2-a42c52dba949"
      },
      "source": [
        "accuracy_score(y_test, predic_tree)"
      ],
      "execution_count": null,
      "outputs": [
        {
          "output_type": "execute_result",
          "data": {
            "text/plain": [
              "0.9925277540563621"
            ]
          },
          "metadata": {
            "tags": []
          },
          "execution_count": 131
        }
      ]
    },
    {
      "cell_type": "markdown",
      "metadata": {
        "id": "9mGHm0f7i6Pm"
      },
      "source": [
        "**99.25% accuracy**"
      ]
    },
    {
      "cell_type": "code",
      "metadata": {
        "id": "UKCZI4xudYjq",
        "outputId": "d4089a74-fd31-4d0d-9f69-601fd26ff0ca"
      },
      "source": [
        "print(classification_report(y_test, predic_tree))"
      ],
      "execution_count": null,
      "outputs": [
        {
          "output_type": "stream",
          "text": [
            "              precision    recall  f1-score   support\n",
            "\n",
            "           0       0.99      0.99      0.99      2933\n",
            "           1       0.99      0.99      0.99      6435\n",
            "\n",
            "    accuracy                           0.99      9368\n",
            "   macro avg       0.99      0.99      0.99      9368\n",
            "weighted avg       0.99      0.99      0.99      9368\n",
            "\n"
          ],
          "name": "stdout"
        }
      ]
    },
    {
      "cell_type": "markdown",
      "metadata": {
        "id": "b4niB9K2SmRf"
      },
      "source": [
        "# RANDOM FOREST"
      ]
    },
    {
      "cell_type": "markdown",
      "metadata": {
        "id": "MnWnYophSpFc"
      },
      "source": [
        "![random-forest-algorithm.png](data:image/png;base64,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)"
      ]
    },
    {
      "cell_type": "code",
      "metadata": {
        "id": "cLg6qie5dYjq"
      },
      "source": [
        "from sklearn.ensemble import RandomForestClassifier"
      ],
      "execution_count": null,
      "outputs": []
    },
    {
      "cell_type": "code",
      "metadata": {
        "id": "HZasneg0dYjr",
        "outputId": "890e4d7f-7438-427f-aadc-4a6933c241bc"
      },
      "source": [
        "RFC = RandomForestClassifier(random_state=143)\n",
        "RFC.fit(xv_train, y_train)"
      ],
      "execution_count": null,
      "outputs": [
        {
          "output_type": "execute_result",
          "data": {
            "text/plain": [
              "RandomForestClassifier(bootstrap=True, ccp_alpha=0.0, class_weight=None,\n",
              "                       criterion='gini', max_depth=None, max_features='auto',\n",
              "                       max_leaf_nodes=None, max_samples=None,\n",
              "                       min_impurity_decrease=0.0, min_impurity_split=None,\n",
              "                       min_samples_leaf=1, min_samples_split=2,\n",
              "                       min_weight_fraction_leaf=0.0, n_estimators=100,\n",
              "                       n_jobs=None, oob_score=False, random_state=143,\n",
              "                       verbose=0, warm_start=False)"
            ]
          },
          "metadata": {
            "tags": []
          },
          "execution_count": 134
        }
      ]
    },
    {
      "cell_type": "code",
      "metadata": {
        "id": "L6FDpWw9dYjs"
      },
      "source": [
        "predic_rfc = RFC.predict(xv_test)"
      ],
      "execution_count": null,
      "outputs": []
    },
    {
      "cell_type": "code",
      "metadata": {
        "id": "dS6BnjIJdYjs",
        "outputId": "08db154a-29fb-42f6-f028-7811fd947c1b"
      },
      "source": [
        "confusion_matrix(y_test, predic_rfc)"
      ],
      "execution_count": null,
      "outputs": [
        {
          "output_type": "execute_result",
          "data": {
            "text/plain": [
              "array([[2675,  258],\n",
              "       [  13, 6422]], dtype=int64)"
            ]
          },
          "metadata": {
            "tags": []
          },
          "execution_count": 136
        }
      ]
    },
    {
      "cell_type": "code",
      "metadata": {
        "id": "t250hji4dYjt",
        "outputId": "fae06029-dca3-4e47-9a82-196038786afe"
      },
      "source": [
        "sns.heatmap(confusion_matrix(y_test, predic_rfc).astype(int),annot=True,cbar=False,xticklabels=['fake','true'],yticklabels=['fake','true'],cmap='viridis',fmt='.1f')"
      ],
      "execution_count": null,
      "outputs": [
        {
          "output_type": "execute_result",
          "data": {
            "text/plain": [
              "<matplotlib.axes._subplots.AxesSubplot at 0x27086af3b08>"
            ]
          },
          "metadata": {
            "tags": []
          },
          "execution_count": 137
        },
        {
          "output_type": "display_data",
          "data": {
            "image/png": "[encoded data removed]",
            "text/plain": [
              "<Figure size 432x288 with 1 Axes>"
            ]
          },
          "metadata": {
            "tags": [],
            "needs_background": "light"
          }
        }
      ]
    },
    {
      "cell_type": "code",
      "metadata": {
        "id": "h9yRUbNodYjw",
        "outputId": "aa1fdb17-aef7-48a4-a506-2bb863d4b18d"
      },
      "source": [
        "accuracy_score(y_test, predic_rfc)"
      ],
      "execution_count": null,
      "outputs": [
        {
          "output_type": "execute_result",
          "data": {
            "text/plain": [
              "0.9710717335610589"
            ]
          },
          "metadata": {
            "tags": []
          },
          "execution_count": 138
        }
      ]
    },
    {
      "cell_type": "markdown",
      "metadata": {
        "id": "7Vexx7N2jIN2"
      },
      "source": [
        "**97.1% accuracy**"
      ]
    },
    {
      "cell_type": "code",
      "metadata": {
        "id": "lw-dV29SdYjx",
        "outputId": "7c4f498b-987c-46ba-8f0d-0e286ae99b73"
      },
      "source": [
        "print(classification_report(y_test, predic_rfc))"
      ],
      "execution_count": null,
      "outputs": [
        {
          "output_type": "stream",
          "text": [
            "              precision    recall  f1-score   support\n",
            "\n",
            "           0       1.00      0.91      0.95      2933\n",
            "           1       0.96      1.00      0.98      6435\n",
            "\n",
            "    accuracy                           0.97      9368\n",
            "   macro avg       0.98      0.96      0.97      9368\n",
            "weighted avg       0.97      0.97      0.97      9368\n",
            "\n"
          ],
          "name": "stdout"
        }
      ]
    },
    {
      "cell_type": "code",
      "metadata": {
        "id": "s3G-VcvPdYjx"
      },
      "source": [
        "\n",
        "def output_lable(n):\n",
        "    if n == 0:\n",
        "        return \"Fake News\"\n",
        "    elif n == 1:\n",
        "        return \"Not A Fake News\"\n",
        "    \n",
        "def manual_testing(news):\n",
        "    testing_news = {\"text\":[news]}\n",
        "    new_def_test = pd.DataFrame(testing_news)\n",
        "    new_def_test[\"text\"] = new_def_test[\"text\"].apply(wordopt) \n",
        "    new_x_test = new_def_test[\"text\"]\n",
        "    new_xv_test = vectorization.transform(new_x_test)\n",
        "    predic_regressor = regressor.predict(new_xv_test)\n",
        "    predic_tree = tree.predict(new_xv_test)\n",
        "    predic_RFC = RFC.predict(new_xv_test)\n",
        "\n",
        "    return print(\"\\n\\nLR Prediction: {} \\nDT Prediction: {}  \\nRFC Prediction: {}\".format(output_lable(predic_regressor[0]), \n",
        "                                                                                                              output_lable(predic_tree[0]), \n",
        "                                                                                                              output_lable(predic_RFC[0])))"
      ],
      "execution_count": null,
      "outputs": []
    },
    {
      "cell_type": "code",
      "metadata": {
        "id": "Uho3gAJWdYjz",
        "scrolled": true,
        "outputId": "fabd7250-763a-4f7e-d7cf-356c5dedef86"
      },
      "source": [
        "news = str(input())\n",
        "manual_testing(news)"
      ],
      "execution_count": null,
      "outputs": [
        {
          "output_type": "stream",
          "text": [
            "Field is correct about the 8a companies and Trump is correct about China .  http://planet.infowars.com/politics/whats-the-truth-about-american-vote-fraud-anything-to-suspect   As Curtis testifies they were downloading a lot of secret stuff from Nasa as well .  Chinese controlling the vote in USA you couldnt make that up , no wonder they have all your industry .  No one can deny this didnt happen they are all there at the testimony on video .\n",
            "\n",
            "\n",
            "LR Prediction: Fake News \n",
            "DT Prediction: Fake News  \n",
            "RFC Prediction: Fake News\n"
          ],
          "name": "stdout"
        }
      ]
    },
    {
      "cell_type": "code",
      "metadata": {
        "id": "-eUA-fnvdYj0",
        "outputId": "4cc527e1-2cc8-43c9-9919-66ed2134e03f"
      },
      "source": [
        "news = str(input())\n",
        "manual_testing(news)"
      ],
      "execution_count": null,
      "outputs": [
        {
          "output_type": "stream",
          "text": [
            "WASHINGTON (Reuters) - The White House expects the U.S. Congress to soon waive a rule known as â€œPaygoâ€ that could trigger deep spending cuts in areas such as Medicare and agriculture in order to cover the costs of the recently passed tax overhaul, a White House official said on Wednesday.  Congress will likely waive the rule, which requires the Senate to find offsets for the large tax cuts in the bill, through the spending resolution it must soon pass in order to keep the government open, the official added. The official said the Internal Revenue Service, the countryâ€™s tax agency, can immediately begin implementing changes called for in the $1.5 trillion overhaul of the U.S. tax code and does not need to wait for President Donald Trump to sign the bill into law. \n",
            "\n",
            "\n",
            "LR Prediction: Not A Fake News \n",
            "DT Prediction: Not A Fake News  \n",
            "RFC Prediction: Not A Fake News\n"
          ],
          "name": "stdout"
        }
      ]
    }
  ]
}